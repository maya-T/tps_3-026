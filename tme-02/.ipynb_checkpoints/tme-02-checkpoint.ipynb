{
 "cells": [
  {
   "cell_type": "markdown",
   "metadata": {},
   "source": [
    "IA & Data science (LU3IN0226) -- 2019-2020\n",
    "--------\n",
    "*&copy; Equipe pédagogique: Gauvain Bourgne, Vincent Guigue, Marie-Jeanne Lesot, Christophe Marsala, Olivier Schwander.*\n"
   ]
  },
  {
   "cell_type": "markdown",
   "metadata": {},
   "source": [
    "# TD-TME02 : programmation du perceptron"
   ]
  },
  {
   "cell_type": "markdown",
   "metadata": {},
   "source": [
    "<font size=\"+1\" color=\"RED\">**[Q]**</font> **Indiquer dans la boîte ci-dessous vos noms et prénoms :**"
   ]
  },
  {
   "cell_type": "markdown",
   "metadata": {},
   "source": [
    "*Double-cliquer ici et insérer les noms et prénoms de votre binôme*"
   ]
  },
  {
   "cell_type": "markdown",
   "metadata": {},
   "source": [
    "<font color=\"RED\" size=\"+1\">**[Q]**</font> **Renommer ce fichier ipython**\n",
    "\n",
    "Tout en haut de cette page, cliquer sur <tt>tme-02</tt> et rajouter à la suite de <tt>tme-02</tt> les noms des membres du binômes séparés par un tiret."
   ]
  },
  {
   "cell_type": "markdown",
   "metadata": {},
   "source": [
    "<font color=\"RED\" size=\"+1\">IMPORTANT: soumission de votre fichier final</font>\n",
    "\n",
    "**Nom à donner au fichier à poster** : *tme-02-Nom1_Nom2.ipynb* \n",
    "- *Nom1* et *Nom2* : noms des membres du binôme\n",
    "- ne pas compresser ou faire une archive: il faut rendre le fichier ipython tel quel, éventuellement, si vous avez d'autres fichiers vous les rendez séparément.\n",
    "\n",
    "**Echéancier pour la soumission de votre compte-rendu:**\n",
    "- le compte-rendu d'une séance doit être remis obligatoirement <font color=\"RED\">** à la fin de la séance**</font>. C'est ce compte-rendu qui donne la note de base de la séance.\n",
    "- vous pouvez éventuellement compléter votre compte-rendu  pour obtenir des points bonus, dans ce cas, vous devez soumettre votre complément avant le début de la semaine suivante.\n",
    "\n",
    "** Sur la page Moodle de remise du travail <font color=\"RED\">ne pas oublier d'envoyer le compte rendu</font>** à la fin de la séance, la soumission de la version complémentaire post-séance se fera sur une page différente."
   ]
  },
  {
   "cell_type": "markdown",
   "metadata": {},
   "source": [
    "## Présentation ##\n",
    "\n",
    "Dans ce TME, nous allons mettre en place une \"architecture\" de code nous permettant petit à petit de tester tout au long du semestre différents modèles d'apprentissage supervisé. Dans nos séances, nous allons nous restreindre au cas binaire où les données sont étiquetées $+1$ ou $-1$.\n",
    "\n",
    "\n",
    "### Objectifs de ce TME\n",
    "\n",
    "Le travail à réaliser est le suivant :\n",
    "- continuer à apprendre à (bien) utiliser jupyter notebook\n",
    "- générer aléatoirement des datasets jouets pour expérimenter\n",
    "- se familiariser avec la classe `Classifier` et implémenter un premier classifieur simple\n",
    "- implémenter l'algorithme du perceptron de Rosenblatt\n",
    "- réaliser des expérimentations pour étudier les performances de cet algorithme"
   ]
  },
  {
   "cell_type": "markdown",
   "metadata": {},
   "source": [
    "Les imports suivants seront généralement nécessaires pour nos séances:"
   ]
  },
  {
   "cell_type": "code",
   "execution_count": 245,
   "metadata": {},
   "outputs": [],
   "source": [
    "import numpy as np\n",
    "import pandas as pd\n",
    "from datetime import datetime as dt\n",
    "import matplotlib.pyplot as plt\n",
    "%matplotlib inline  "
   ]
  },
  {
   "cell_type": "markdown",
   "metadata": {},
   "source": [
    "**Remarque :** La concaténation de vecteurs s'obtient à l'aide de la fonction `vstack` de numpy."
   ]
  },
  {
   "cell_type": "code",
   "execution_count": 246,
   "metadata": {},
   "outputs": [
    {
     "data": {
      "text/plain": [
       "array([[ 0.  ,  1.5 ,  4.2 ],\n",
       "       [ 1.1 ,  3.8 , 20.01],\n",
       "       [ 1.1 ,  5.3 , 24.21]])"
      ]
     },
     "execution_count": 246,
     "metadata": {},
     "output_type": "execute_result"
    }
   ],
   "source": [
    "# Exemple d'utilisation de vstack (pour plus de détails, chercher la documentation sur le web)\n",
    "\n",
    "vecteur_1 = np.array([0, 1.5, 4.2])\n",
    "vecteur_2 = np.array([1.1, 3.8, 20.01])\n",
    "\n",
    "vecteur_3 = vecteur_1 + vecteur_2\n",
    "\n",
    "np.vstack( (vecteur_1, vecteur_2, vecteur_3) )"
   ]
  },
  {
   "cell_type": "markdown",
   "metadata": {},
   "source": [
    "## Étape 1: dataset\n",
    "\n",
    "La première étape consiste à construire un ensemble de données d'apprentissage, que l'on appelle par la suite simplement *dataset*.\n",
    "\n",
    "Un dataset est un ensemble de couples $\\{(x_1,y_1),...,(x_n,y_n)\\}$. \n",
    "\n",
    "Pour nos implémentations, les $x_i$ et $y_i$ seront des tableaux qui seront stockés sous la forme de <code>ndarray</code> Numpy.\n"
   ]
  },
  {
   "cell_type": "markdown",
   "metadata": {},
   "source": [
    "### Génération de données ''Jouet''\n",
    "\n",
    "Nous allons pour l'instant nous intéresser à des datasets \"jouet\" générés selon des distributions choisies à la main. \n",
    "\n",
    "Pour pouvoir visualiser nos données, nous allons nous restreindre à des dataset en 2 dimensions pour la description (entrée $x_i$ ) et le label (sortie $y_i$). On aura donc ici: $x_i \\in \\mathbb{R}^2$ et $y_i \\in \\{-1;+1\\}$."
   ]
  },
  {
   "cell_type": "markdown",
   "metadata": {},
   "source": [
    "#### Tirage aléatoire selon une loi uniforme\n",
    "\n",
    "Commençons par un dataset dont les données sont générées par un tirage aléatoire selon une loi uniforme.\n",
    "\n",
    "Pour cela, nous utiliserons la fonction `numpy.random.uniform`:\n",
    "\n",
    "https://docs.scipy.org/doc/numpy-1.15.0/reference/generated/numpy.random.uniform.html\n",
    "\n",
    "Cette fonction renvoie :\n",
    "- soit un nombre réel obtenu par un tirage aléatoire\n",
    "- soit `ndarray` dont les dimensions ont été précisées et qui contient un ensemble de nombres réels tirés aléatoirement"
   ]
  },
  {
   "cell_type": "code",
   "execution_count": 249,
   "metadata": {},
   "outputs": [
    {
     "data": {
      "text/plain": [
       "0.8072651454958379"
      ]
     },
     "execution_count": 249,
     "metadata": {},
     "output_type": "execute_result"
    }
   ],
   "source": [
    "np.random.uniform()  # rend un réel aléatoire de l'intervalle [0.0, 1.0[ (tirage uniforme)"
   ]
  },
  {
   "cell_type": "code",
   "execution_count": 250,
   "metadata": {},
   "outputs": [
    {
     "data": {
      "text/plain": [
       "0.5044435880986233"
      ]
     },
     "execution_count": 250,
     "metadata": {},
     "output_type": "execute_result"
    }
   ],
   "source": [
    "np.random.uniform(-7,5) # rend un réel aléatoire de l'intervalle [-7, 5[ (tirage uniforme)"
   ]
  },
  {
   "cell_type": "code",
   "execution_count": 251,
   "metadata": {},
   "outputs": [
    {
     "data": {
      "text/plain": [
       "array([[ 2.70582415,  2.89117777, -2.89815911],\n",
       "       [-3.90365882, -3.96962861, -6.23288818],\n",
       "       [-6.77428629, -0.86143745, -5.49684415],\n",
       "       [-5.16109759,  0.60755373,  2.87069121]])"
      ]
     },
     "execution_count": 251,
     "metadata": {},
     "output_type": "execute_result"
    }
   ],
   "source": [
    "np.random.uniform(-7,5,(4,3)) # rend un tableau de 4x3 réels aléatoires de l'intervalle [-7, 5[ (tirage uniforme)"
   ]
  },
  {
   "cell_type": "markdown",
   "metadata": {},
   "source": [
    "Pour générer aléatoirement les labels (qui sont donc des valeurs de {-1, +1}), une contrainte supplémentaire s'ajoute: on souhaite que dans le dataset, il y ait autant d'exemples de chaque classe.\n",
    "\n",
    "Ainsi, si on veut générer un ensemble de 20 labels de telle sorte qu'il y ait exactement 10 valeurs -1 et 10 valeurs +1 dans cet ensemble, la méthode la plus simple est de construire une liste en additionnant une liste de 10 valeurs -1 et une liste de 10 valeurs +1. Pour notre implémentation, cette liste doit ensuite être convertie en `ndarray`."
   ]
  },
  {
   "cell_type": "code",
   "execution_count": 252,
   "metadata": {},
   "outputs": [
    {
     "name": "stdout",
     "output_type": "stream",
     "text": [
      "type : <class 'numpy.ndarray'>\n"
     ]
    },
    {
     "data": {
      "text/plain": [
       "array([-1, -1, -1, -1, -1, -1, -1, -1, -1, -1,  1,  1,  1,  1,  1,  1,  1,\n",
       "        1,  1,  1])"
      ]
     },
     "execution_count": 252,
     "metadata": {},
     "output_type": "execute_result"
    }
   ],
   "source": [
    "Lnd = np.asarray([-1 for i in range(0,10)] + [+1 for i in range(0,10)])\n",
    "print(\"type :\", type(Lnd))\n",
    "Lnd"
   ]
  },
  {
   "cell_type": "markdown",
   "metadata": {},
   "source": [
    "Lors de la mise au point d'un programme qui utilise l'aléatoire, il est important de pouvoir travailler sur des séquences aléatoires qui soient toujours les mêmes.\n",
    "Pour cela, on doit préciser une initialisation de la séquence aléatoire, cela se fait en utilisant la commande `numpy.random.seed` :\n",
    "\n",
    "https://docs.scipy.org/doc/numpy-1.15.1/reference/generated/numpy.random.seed.html\n",
    "\n",
    "Cette fonction permet de donner une valeur (que l'on nomme la *graine* de la séquence) pour initialiser la séquence de tirages aléatoires, ainsi, avec la même valeur donnée on obtiendra toujours la même séquence de tirages aléatoires.\n",
    "\n",
    "Par exemple :"
   ]
  },
  {
   "cell_type": "code",
   "execution_count": 253,
   "metadata": {},
   "outputs": [
    {
     "data": {
      "text/plain": [
       "array([-2.50919762,  9.01428613,  4.63987884,  1.97316968, -6.87962719,\n",
       "       -6.88010959, -8.83832776,  7.32352292,  2.02230023,  4.16145156])"
      ]
     },
     "execution_count": 253,
     "metadata": {},
     "output_type": "execute_result"
    }
   ],
   "source": [
    "np.random.seed(42)\n",
    "np.random.uniform(-10,10,10)"
   ]
  },
  {
   "cell_type": "code",
   "execution_count": 254,
   "metadata": {},
   "outputs": [
    {
     "data": {
      "text/plain": [
       "array([-2.50919762,  9.01428613,  4.63987884,  1.97316968, -6.87962719,\n",
       "       -6.88010959, -8.83832776,  7.32352292,  2.02230023,  4.16145156])"
      ]
     },
     "execution_count": 254,
     "metadata": {},
     "output_type": "execute_result"
    }
   ],
   "source": [
    "np.random.seed(42)\n",
    "np.random.uniform(-10,10,10)"
   ]
  },
  {
   "cell_type": "markdown",
   "metadata": {},
   "source": [
    "<font color=\"RED\" size=\"+1\">**[Q]**</font> En utilisant la fonction précédente, créer 2 variables :\n",
    "- `data_desc` : qui est un tableau de 100 exemples de dimension 2 dont les valeurs sont tirées aléatoirement dans l'intervalle [-5,5) \n",
    "- `data_label` : qui est un tableau de 100 entiers de {-1,+1} tirés aléatoirement de façon uniformes et tel qu'il y ait autant de valeurs de chaque."
   ]
  },
  {
   "cell_type": "code",
   "execution_count": 255,
   "metadata": {},
   "outputs": [],
   "source": [
    "np.random.seed(42)   # on prend 42 comme graine\n",
    "data_desc=np.random.uniform(-5,5,(100,2))\n",
    "data_label= np.asarray([-1 for i in range(0,50)] + [+1 for i in range(0,50)])\n",
    "\n"
   ]
  },
  {
   "cell_type": "code",
   "execution_count": 256,
   "metadata": {},
   "outputs": [
    {
     "data": {
      "text/plain": [
       "array([[-1.25459881,  4.50714306],\n",
       "       [ 2.31993942,  0.98658484],\n",
       "       [-3.4398136 , -3.4400548 ],\n",
       "       [-4.41916388,  3.66176146],\n",
       "       [ 1.01115012,  2.08072578]])"
      ]
     },
     "execution_count": 256,
     "metadata": {},
     "output_type": "execute_result"
    }
   ],
   "source": [
    "data_desc[0:5,:]"
   ]
  },
  {
   "cell_type": "code",
   "execution_count": 257,
   "metadata": {},
   "outputs": [
    {
     "data": {
      "text/plain": [
       "array([4.85650454, 4.86886937])"
      ]
     },
     "execution_count": 257,
     "metadata": {},
     "output_type": "execute_result"
    }
   ],
   "source": [
    "# maximum des valeurs par colonne:\n",
    "data_desc.max(0)"
   ]
  },
  {
   "cell_type": "code",
   "execution_count": 258,
   "metadata": {},
   "outputs": [
    {
     "data": {
      "text/plain": [
       "array([-4.94477883, -4.83412171])"
      ]
     },
     "execution_count": 258,
     "metadata": {},
     "output_type": "execute_result"
    }
   ],
   "source": [
    "# minimum des valeurs par colonne:\n",
    "data_desc.min(0)"
   ]
  },
  {
   "cell_type": "code",
   "execution_count": 259,
   "metadata": {},
   "outputs": [
    {
     "data": {
      "text/plain": [
       "array([-1, -1, -1, -1, -1])"
      ]
     },
     "execution_count": 259,
     "metadata": {},
     "output_type": "execute_result"
    }
   ],
   "source": [
    "data_label[0:5]"
   ]
  },
  {
   "cell_type": "markdown",
   "metadata": {},
   "source": [
    "<font color=\"RED\" size=\"+1\">**[Q]**</font> Ecrire la fonction `genere_dataset` qui prend en argument le nombre de dimenstions $p$, le nombre $n$  d'exemples de chaque classe, ainsi que 2 valeurs pour les bornes inférieure et supérieure des valeurs de description, et qui renvoie un tuple dont le premier composant est un `ndarray` contenant les vecteurs de description et le deuxième composant est un `ndarray` contenant les labels correspondant (en respectant l'équirépartition des labels).\n",
    "On fera l'hypothèse que $n$ est toujours un nombre pair."
   ]
  },
  {
   "cell_type": "code",
   "execution_count": 260,
   "metadata": {},
   "outputs": [],
   "source": [
    "# ------------------------ A COMPLETER :\n",
    "def genere_dataset_uniform(p,n,borneInf,borneSup):\n",
    "    data_desc=np.random.uniform(borneInf,borneSup,(2*n,p))\n",
    "    data_label= np.asarray([-1 for i in range(0,n)] + [+1 for i in range(0,n)])\n",
    "    tup=(data_desc,data_label)\n",
    "    return tup"
   ]
  },
  {
   "cell_type": "code",
   "execution_count": 261,
   "metadata": {},
   "outputs": [],
   "source": [
    "np.random.seed(42)   # on prend 42 comme graine\n",
    "\n",
    "# Génération d'un dataset de 20 exemples :\n",
    "d_desc, d_lab = genere_dataset_uniform(2,10,-5,5)"
   ]
  },
  {
   "cell_type": "code",
   "execution_count": 262,
   "metadata": {},
   "outputs": [
    {
     "data": {
      "text/plain": [
       "array([[-1.25459881,  4.50714306],\n",
       "       [ 2.31993942,  0.98658484],\n",
       "       [-3.4398136 , -3.4400548 ],\n",
       "       [-4.41916388,  3.66176146],\n",
       "       [ 1.01115012,  2.08072578]])"
      ]
     },
     "execution_count": 262,
     "metadata": {},
     "output_type": "execute_result"
    }
   ],
   "source": [
    "d_desc[0:5,:]"
   ]
  },
  {
   "cell_type": "code",
   "execution_count": 263,
   "metadata": {},
   "outputs": [
    {
     "data": {
      "text/plain": [
       "array([-1, -1, -1, -1, -1])"
      ]
     },
     "execution_count": 263,
     "metadata": {},
     "output_type": "execute_result"
    }
   ],
   "source": [
    "d_lab[0:5]"
   ]
  },
  {
   "cell_type": "markdown",
   "metadata": {},
   "source": [
    "\n",
    "Un dataset en 2 dimensions peut être affiché en utilisant les fonctions de la librairie `matplotlib` et plus précisément la fonction `matplotlib.pyplot.scatter` permettant de dessiner un nuage de points: \n",
    "\n",
    "http://matplotlib.org/api/pyplot_api.html#matplotlib.pyplot.scatter\n",
    "\n",
    "Par exemple :"
   ]
  },
  {
   "cell_type": "code",
   "execution_count": 264,
   "metadata": {},
   "outputs": [
    {
     "data": {
      "text/plain": [
       "<matplotlib.collections.PathCollection at 0x1236554f0>"
      ]
     },
     "execution_count": 264,
     "metadata": {},
     "output_type": "execute_result"
    },
    {
     "data": {
      "image/png": "[encoded data removed]",
      "text/plain": [
       "<Figure size 432x288 with 1 Axes>"
      ]
     },
     "metadata": {
      "needs_background": "light"
     },
     "output_type": "display_data"
    }
   ],
   "source": [
    "# Affichage de l'ensemble des exemples :\n",
    "plt.scatter(data_desc[:,0],data_desc[:,1],marker='o')"
   ]
  },
  {
   "cell_type": "markdown",
   "metadata": {},
   "source": [
    "Il est intéressant de  faire un affichage des points qui tient compte de la classe et utiliser des couleurs différentes pour afficher les points. Pour faire cela, il faut commencer par séparer les exemples selon leur classe : ceux de classe -1 et ceux de classes +1. On utilise pour cela la puissance des `ndarray` pour faire des sélections (slices)."
   ]
  },
  {
   "cell_type": "code",
   "execution_count": 265,
   "metadata": {},
   "outputs": [],
   "source": [
    "# Extraction des exemples de classe -1:\n",
    "data_negatifs = data_desc[data_label == -1]\n",
    "# Extraction des exemples de classe +1:\n",
    "data_positifs = data_desc[data_label == +1]"
   ]
  },
  {
   "cell_type": "markdown",
   "metadata": {},
   "source": [
    "On peut alors afficher les points en leur donnant une couleur (''marker'') différente."
   ]
  },
  {
   "cell_type": "code",
   "execution_count": 266,
   "metadata": {
    "scrolled": true
   },
   "outputs": [
    {
     "data": {
      "text/plain": [
       "<matplotlib.collections.PathCollection at 0x123679430>"
      ]
     },
     "execution_count": 266,
     "metadata": {},
     "output_type": "execute_result"
    },
    {
     "data": {
      "image/png": "[encoded data removed]",
      "text/plain": [
       "<Figure size 432x288 with 1 Axes>"
      ]
     },
     "metadata": {
      "needs_background": "light"
     },
     "output_type": "display_data"
    }
   ],
   "source": [
    "# Affichage de l'ensemble des exemples :\n",
    "plt.scatter(data_negatifs[:,0],data_negatifs[:,1],marker='o') # 'o' pour la classe -1\n",
    "plt.scatter(data_positifs[:,0],data_positifs[:,1],marker='x') # 'x' pour la classe +1"
   ]
  },
  {
   "cell_type": "markdown",
   "metadata": {},
   "source": [
    "<font color=\"RED\" size=\"+1\">**[Q]**</font> En utilisant les instructions précédentes, écrire la fonction `plot2DSet` qui, étant donné deux `ndarray`, un donnant des descriptions et l'autre les labels correspondants, affiche une représentation graphique de ce jeu de données."
   ]
  },
  {
   "cell_type": "code",
   "execution_count": 267,
   "metadata": {},
   "outputs": [],
   "source": [
    "# ------------------------ A COMPLETER :\n",
    "\n",
    "def plot2DSet(d_desc,d_lab):\n",
    "    data_negatifs = d_desc[np.where(d_lab == -1),:][0]\n",
    "    data_positifs = d_desc[np.where(d_lab == +1),:][0]\n",
    "    plt.scatter(data_negatifs[:,0],data_negatifs[:,1],marker='o') # 'o' pour la classe -1\n",
    "    plt.scatter(data_positifs[:,0],data_positifs[:,1],marker='x') # 'x' pour la classe +1\n"
   ]
  },
  {
   "cell_type": "code",
   "execution_count": 268,
   "metadata": {
    "scrolled": true
   },
   "outputs": [
    {
     "data": {
      "image/png": "[encoded data removed]",
      "text/plain": [
       "<Figure size 432x288 with 1 Axes>"
      ]
     },
     "metadata": {
      "needs_background": "light"
     },
     "output_type": "display_data"
    }
   ],
   "source": [
    "# si tout est ok, l'appel suivant affiche exactement la même chose que précédemment\n",
    "plot2DSet(data_desc,data_label)"
   ]
  },
  {
   "cell_type": "markdown",
   "metadata": {},
   "source": [
    "#### Tirage aléatoire selon une loi normale\n",
    "\n",
    "\n",
    "Pour obtenir un dataset plus ''réaliste'', la loi uniforme n'est pas idéale, il est préférable de générer des dataset en utilisant un tirage aléatoire selon une loi normale (ie. représentée par une gaussienne).\n",
    "\n",
    "Pour cela, nous utiliserons la fonction `numpy.random.multivariate_normal` :\n",
    "\n",
    "https://docs.scipy.org/doc/numpy-1.15.0/reference/generated/numpy.random.multivariate_normal.html?highlight=gaussian\n"
   ]
  },
  {
   "cell_type": "markdown",
   "metadata": {},
   "source": [
    "Dans ce qui suit, on considère toujours un dataset en 2 dimensions (entrée) et 1 dimension (sortie) comme précédemment.\n",
    "\n",
    "La façon de procéder avec un tel tirage est différente de celle utilisée dans le cas uniforme: \n",
    "- on commence par tirer aléatoirement tous les exemples de la classe -1\n",
    "- puis on tire aléatoirement tous les exemples de la classe +1\n",
    "- on fusionne ces 2 ensembles en les mettant bout à bout\n",
    "- le tableau des labels est donc facile à construire: d'abord les -1 puis les +1\n"
   ]
  },
  {
   "cell_type": "markdown",
   "metadata": {},
   "source": [
    "<font color=\"RED\" size=\"+1\">**[Q]**</font> Ecrire la fonction <tt>genere_dataset_gaussian</tt> qui, étant donné 5 arguments:\n",
    "- `positive_center` est le centre de la gaussienne des points positifs (vecteur de taille 2)\n",
    "- `positive_sigma` est la variance de la gaussienne des points positifs (sous forme de matrice 2*2)\n",
    "- `negative_center` est le centre de la gaussienne des points négative (vecteur de taille 2)\n",
    "- `negative_sigma` est la variance de la gaussienne des points négative (sous forme de matrice 2*2)\n",
    "- `nb_points` est le nombre de points de chaque classe à générer\n",
    "\n",
    "rend un dataset généré aléatoirement en suivant une loi normale."
   ]
  },
  {
   "cell_type": "code",
   "execution_count": 269,
   "metadata": {},
   "outputs": [],
   "source": [
    "# ------------------------ A COMPLETER :\n",
    "def genere_dataset_gaussian(positive_center,positive_sigma,negative_center,negative_sigma,nb_points):\n",
    "    data_desc1=np.random.multivariate_normal(positive_center,positive_sigma,nb_points)    \n",
    "    data_desc2=np.random.multivariate_normal(negative_center,negative_sigma,nb_points) \n",
    "    data_desc=np.vstack([data_desc1,data_desc2])\n",
    "    \n",
    "    data_label= np.asarray([1 for i in range(0,nb_points)] + [-1 for i in range(0,nb_points)])\n",
    "    tup=(data_desc,data_label)\n",
    "    return tup\n"
   ]
  },
  {
   "cell_type": "code",
   "execution_count": 270,
   "metadata": {},
   "outputs": [
    {
     "name": "stdout",
     "output_type": "stream",
     "text": [
      "Taille du dataset généré : (20, 2) exemples\n"
     ]
    },
    {
     "data": {
      "image/png": "[encoded data removed]",
      "text/plain": [
       "<Figure size 432x288 with 1 Axes>"
      ]
     },
     "metadata": {
      "needs_background": "light"
     },
     "output_type": "display_data"
    }
   ],
   "source": [
    "# Exemple d'utilisation:\n",
    "\n",
    "data_desc, data_label = genere_dataset_gaussian(np.array([1,1]),np.array([[1,0],[0,1]]),np.array([-1,-1]),np.array([[1,0],[0,1]]),10)\n",
    "\n",
    "print(\"Taille du dataset généré :\", np.shape(data_desc), \"exemples\")\n",
    "\n",
    "# Affichage :\n",
    "plot2DSet(data_desc,data_label)\n"
   ]
  },
  {
   "cell_type": "code",
   "execution_count": 271,
   "metadata": {},
   "outputs": [
    {
     "data": {
      "text/plain": [
       "40"
      ]
     },
     "execution_count": 271,
     "metadata": {},
     "output_type": "execute_result"
    }
   ],
   "source": [
    "data_desc.size"
   ]
  },
  {
   "cell_type": "markdown",
   "metadata": {},
   "source": [
    "## Étape 2: les classifieurs\n",
    "\n",
    "Un classifieur (binaire dans ce cours) permet, pour chaque point d'entrée donné, de calculer un score (qui est une valeur de $\\mathbb{R}$). Si le score est strictement négatif, la donnée est associée à la classe $-1$, sinon à la classe $+1$. \n",
    "\n",
    "\n",
    "### Représentation orientée objets\n",
    "\n",
    "Pour implémenter nos algorithmes d'apprentissage et pour représenter les données, nous allons utiliser quelques éléments de programmation orientée objet (POO) qu'autorise le langage Python. \n",
    "\n",
    "Si vous ne connaissez rien à la POO, il est fortement conseillé de lire une documentation ou suivre un tutorial sur le web (par exemple, http://apprendre-python.com/page-apprendre-programmation-orientee-objet-poo-classes-python-cours-debutants).\n"
   ]
  },
  {
   "cell_type": "markdown",
   "metadata": {},
   "source": [
    "### La classe Classifier\n",
    "\n",
    "Les classifieurs que l'on va implémenter seront définis à l'aide d'une classe qui va dériver de la classe `Classifier` suivante. Cette classe est une classe \"abstraite\", elle sera dérivée par héritage pour définir des classifieurs particuliers (knn, arbres de décision, etc.).\n",
    "\n",
    "Cette classe contient 5 méthodes:\n",
    "- `__init__`: qui permet d'initialiser les paramètres du classifieur. Les classes filles étendront cette méthode en rajoutant les paramètres qui les concernent. Le paramètre obligatoire d'un classifieur est le nombre de dimensions des données qu'il aura à traiter.\n",
    "- `train`: c'est la méthodes qui permet d'entraîner le modèle, on doit donc donner en argument le dataset qui sert à l'entraînement.\n",
    "- `score`: cette méthode est utilisée une fois le classifieur entrainé. Elle prend en argument la description d'un exemple et elle rend un score (une valeur de $\\mathbb{R}$).\n",
    "- `predict`: cette méthode, comme la précédente, s'utilise une fois le classifieur entraîné, elle donne le label (-1 ou bien +1) qui est prédit par le classifieur pour la description d'exemple donnée en argument. Généralement, cette valeur de prédiction s'obtient à partir du score: si le score est strictement négatif la prédiction vaut  $-1$, sinon elle vaut $+1$.\n",
    "- `accuracy`: comme les 2 précédentes, cette méthode s'utilise une fois le classifieur entraîné. Elle permet de calculer la qualité du classifieur sur un dataset donné, cette qualité est le taux de bonne classification du classifieur sur le dataset. C'est donc une valeur de $[0,1]$ qui s'obtient divisant le nombre d'exemples du dataset qui sont bien classés par le classifieur par le nombre total d'exemples du dataset.\n",
    "\n",
    "Les méthodes `train`, `score` et `predict` ne seront pas définies dans la classe `Classifier` mais dans les classes qui hériteront ce cette classe car ces méthodes dépendent du modèle que l'on choisira d'implémenter.\n",
    "\n",
    "Par contre, la fonction `accuracy` renvoie le pourcentage de points bien classés. Elle peut être définie dès maintenant dans cette classe `Classifier`.\n"
   ]
  },
  {
   "cell_type": "markdown",
   "metadata": {},
   "source": [
    "<font color=\"RED\" size=\"+1\">**[Q]**</font> Compléter la classe `Classifier` ci-dessous en donnant l'implémentation de la fonction `accuracy`. Penser à déjà bien examiner les méthodes existantes dans la classe (et que l'on peut utiliser avant qu'elles soient implémentées)."
   ]
  },
  {
   "cell_type": "code",
   "execution_count": 272,
   "metadata": {},
   "outputs": [],
   "source": [
    "# ------------------------ A COMPLETER :\n",
    "class Classifier:\n",
    "    \"\"\" Classe pour représenter un classifieur\n",
    "        Attention: cette classe est une classe abstraite, elle ne peut pas être\n",
    "        instanciée.\n",
    "    \"\"\"\n",
    "    \n",
    "    def __init__(self, input_dimension):\n",
    "        \"\"\" Constructeur de Classifier\n",
    "            Argument:\n",
    "                - intput_dimension (int) : dimension de la description des exemples\n",
    "            Hypothèse : input_dimension > 0\n",
    "        \"\"\"\n",
    "        raise NotImplementedError(\"Please Implement this method\")\n",
    "        \n",
    "    def train(self, desc_set, label_set):\n",
    "        \"\"\" Permet d'entrainer le modele sur l'ensemble donné\n",
    "            desc_set: ndarray avec des descriptions\n",
    "            label_set: ndarray avec les labels correspondants\n",
    "            Hypothèse: desc_set et label_set ont le même nombre de lignes\n",
    "        \"\"\"        \n",
    "        raise NotImplementedError(\"Please Implement this method\")\n",
    "    \n",
    "    def score(self,x):\n",
    "        \"\"\" rend le score de prédiction sur x (valeur réelle)\n",
    "            x: une description\n",
    "        \"\"\"\n",
    "        raise NotImplementedError(\"Please Implement this method\")\n",
    "    \n",
    "    def predict(self, x):\n",
    "        \"\"\" rend la prediction sur x (soit -1 ou soit +1)\n",
    "            x: une description\n",
    "        \"\"\"\n",
    "        raise NotImplementedError(\"Please Implement this method\")\n",
    "\n",
    "    def accuracy(self, desc_set, label_set):\n",
    "        \"\"\" Permet de calculer la qualité du système sur un dataset donné\n",
    "            desc_set: ndarray avec des descriptions\n",
    "            label_set: ndarray avec les labels correspondants\n",
    "            Hypothèse: desc_set et label_set ont le même nombre de lignes\n",
    "        \"\"\"\n",
    "        cpt = 0\n",
    "        for i in range(desc_set.shape[0]):\n",
    "            if self.predict(desc_set[i,:]) == label_set[i]:\n",
    "                cpt = cpt + 1\n",
    "        return cpt/desc_set.shape[0]          "
   ]
  },
  {
   "cell_type": "markdown",
   "metadata": {},
   "source": [
    "### Un premier classifieur \n",
    "Nous allons maintenant définir un **classifieur linéaire aléatoire** en étendant la classe `Classifier` et en implémentant le constructeur ainsi que les 3 méthodes `predict`, `score` et `train`.\n",
    "\n",
    "Pour un classifieur linéaire aléatoire:\n",
    "- dans le constructeur, on doit générer aléatoirement un vecteur $w$ de taille `input_dimension`\n",
    "- pour ce classifieur, la méthode `train` ne fait rien. On ne mettra qu'un print permettant d'afficher le message \"Pas d'apprentissage pour ce classifieur\"\n",
    "- pour une description d'exemple $x$, la méthode `score` doit utiliser la valeur de $\\langle x | w\\rangle$ pour prédire le label (+1 ou -1) associé\n",
    "- pour une description d'exemple $x$, la méthode `predict` doit utiliser la valeur de $\\langle x | w\\rangle$ pour prédire le label (+1 ou -1) associé\n"
   ]
  },
  {
   "cell_type": "markdown",
   "metadata": {},
   "source": [
    "<font color=\"RED\" size=\"+1\">**[Q]**</font> Compléter l'implémentation suivante de la classe <code>ClassifierLineaireRandom</code> qui hérite de la classe `Classifier` et permet de définir un classifieur linéaire aléatoire."
   ]
  },
  {
   "cell_type": "code",
   "execution_count": 273,
   "metadata": {},
   "outputs": [],
   "source": [
    "# ------------------------ A COMPLETER :\n",
    "class ClassifierLineaireRandom(Classifier):\n",
    "    \"\"\" Classe pour représenter un classifieur linéaire aléatoire\n",
    "        Cette classe hérite de la classe Classifier\n",
    "    \"\"\"\n",
    "    \n",
    "    def __init__(self, input_dimension):\n",
    "        \"\"\" Constructeur de Classifier\n",
    "            Argument:\n",
    "                - intput_dimension (int) : dimension de la description des exemples\n",
    "            Hypothèse : input_dimension > 0\n",
    "        \"\"\"\n",
    "        self.w = np.random.uniform(low = 1,high = 10,size = input_dimension)\n",
    "        \n",
    "        \n",
    "    def train(self, desc_set, label_set):\n",
    "        \"\"\" Permet d'entrainer le modele sur l'ensemble donné\n",
    "            desc_set: ndarray avec des descriptions\n",
    "            label_set: ndarray avec les labels correspondants\n",
    "            Hypothèse: desc_set et label_set ont le même nombre de lignes\n",
    "        \"\"\"        \n",
    "        \n",
    "        print(\"Pas d'apprentissage\")    \n",
    "    def score(self,x):\n",
    "        \"\"\" rend le score de prédiction sur x (valeur réelle)\n",
    "            x: une description\n",
    "        \"\"\"\n",
    "        s = np.vdot(self.w , x)\n",
    "        return s    \n",
    "    def predict(self, x):\n",
    "        \"\"\" rend la prediction sur x (soit -1 ou soit +1)\n",
    "            x: une description\n",
    "        \"\"\"\n",
    "        \n",
    "        if(self.score(x)<0):\n",
    "            return -1\n",
    "        return 1\n",
    "    "
   ]
  },
  {
   "cell_type": "markdown",
   "metadata": {},
   "source": [
    "Utilisation de la classe ainsi créée:"
   ]
  },
  {
   "cell_type": "code",
   "execution_count": 274,
   "metadata": {},
   "outputs": [
    {
     "name": "stdout",
     "output_type": "stream",
     "text": [
      "Pas d'apprentissage\n",
      "Classification du dataset:\n",
      "\t+0.987 -0.058 : +1 ---> +1 [+3.76036]\n",
      "\t+1.823 -0.221 : +1 ---> +1 [+5.85561]\n",
      "\t+1.209 -0.960 : +1 ---> -1 [-3.88724]\n",
      "\t-0.328 +1.197 : +1 ---> +1 [+10.00326]\n",
      "\t+1.738 +1.171 : +1 ---> +1 [+18.79269]\n",
      "\t+0.884 +0.699 : +1 ---> +1 [+10.54433]\n",
      "\t-0.479 +0.280 : +1 ---> +1 [+0.58574]\n",
      "\t+0.539 +2.057 : +1 ---> +1 [+22.01621]\n",
      "\t+1.344 -0.763 : +1 ---> -1 [-1.41917]\n",
      "\t+1.324 +0.615 : +1 ---> +1 [+11.66380]\n",
      "\t-1.677 -0.388 : -1 ---> -1 [-11.04058]\n",
      "\t+0.031 -0.069 : -1 ---> -1 [-0.52122]\n",
      "\t-1.839 -1.309 : -1 ---> -1 [-20.55036]\n",
      "\t-0.669 -0.024 : -1 ---> -1 [-3.15666]\n",
      "\t-1.479 -1.186 : -1 ---> -1 [-17.79593]\n",
      "\t-2.106 -2.196 : -1 ---> -1 [-30.19439]\n",
      "\t-0.187 +0.356 : -1 ---> +1 [+2.58496]\n",
      "\t-1.072 +0.004 : -1 ---> -1 [-4.65185]\n",
      "\t-0.638 -1.645 : -1 ---> -1 [-18.51167]\n",
      "\t-0.639 +0.538 : -1 ---> +1 [+2.35046]\n",
      "Taux de bonne classification sur le dataset:  0.8\n"
     ]
    }
   ],
   "source": [
    "# Pour avoir les mêmes valeurs aléatoires :\n",
    "np.random.seed(42)   # supprimer cette ligne une fois la mise au point terminée\n",
    "\n",
    "# Création d'un classifieur linéaire aléatoire de dimension 2:\n",
    "un_classifieur = ClassifierLineaireRandom(2)\n",
    "\n",
    "# Par définition, ce classifieur n'a pas besoin d'entraînement\n",
    "un_classifieur.train(data_desc,data_label)\n",
    "\n",
    "# Classification du dataset (contrôle de predict et score):\n",
    "print(\"Classification du dataset:\")\n",
    "for i in range(data_desc.shape[0]):\n",
    "    print(\"\\t{0:+.3f} {1:+.3f} : {2:+} ---> {3:+} [{4:+.5f}]\".format(data_desc[i,:][0], data_desc[i,:][1], \\\n",
    "                                                                  data_label[i], \\\n",
    "                                                                  un_classifieur.predict(data_desc[i,:]), \\\n",
    "                                                                  un_classifieur.score(data_desc[i,:])) )\n",
    "\n",
    "# Affichage du taux de bonne classification    \n",
    "print(\"Taux de bonne classification sur le dataset: \", un_classifieur.accuracy(data_desc,data_label))   \n"
   ]
  },
  {
   "cell_type": "markdown",
   "metadata": {},
   "source": [
    "<font color=\"RED\" size=\"+1\">**[Q]**</font> Calculer la performance (*accuracy*) d'un classifieur linéaire aléatoire sur un dataset de 100 points générés aléatoirement."
   ]
  },
  {
   "cell_type": "code",
   "execution_count": 275,
   "metadata": {},
   "outputs": [
    {
     "name": "stdout",
     "output_type": "stream",
     "text": [
      "Pas d'apprentissage\n",
      "Taux de bonne classification sur le dataset:  0.9\n"
     ]
    }
   ],
   "source": [
    "data_desc,data_label = genere_dataset_gaussian(np.array([1,1]),np.array([[1,0],[0,1]]),np.array([-1,-1]),np.array([[1,0],[0,1]]),50)\n",
    "c = ClassifierLineaireRandom(2)\n",
    "c.train(data_d,data_l)\n",
    "print(\"Taux de bonne classification sur le dataset: \", c.accuracy(data_desc,data_label))"
   ]
  },
  {
   "cell_type": "markdown",
   "metadata": {},
   "source": [
    "Voici une fonction qui permet de dessiner la frontière de decision d'un classifieur. La valeur `step` permet de choisir la précision du dessin."
   ]
  },
  {
   "cell_type": "code",
   "execution_count": 276,
   "metadata": {},
   "outputs": [],
   "source": [
    "def plot_frontiere(desc_set, label_set, classifier, step=30):\n",
    "    \"\"\" desc_set * label_set * Classifier * int -> NoneType\n",
    "        Remarque: le 4e argument est optionnel et donne la \"résolution\" du tracé\n",
    "        affiche la frontière de décision associée au classifieur\n",
    "    \"\"\"\n",
    "    mmax=desc_set.max(0)\n",
    "    mmin=desc_set.min(0)\n",
    "    x1grid,x2grid=np.meshgrid(np.linspace(mmin[0],mmax[0],step),np.linspace(mmin[1],mmax[1],step))\n",
    "    grid=np.hstack((x1grid.reshape(x1grid.size,1),x2grid.reshape(x2grid.size,1)))\n",
    "    \n",
    "    # calcul de la prediction pour chaque point de la grille\n",
    "    res=np.array([classifier.predict(grid[i,:]) for i in range(len(grid)) ])\n",
    "    res=res.reshape(x1grid.shape)\n",
    "    # tracer des frontieres\n",
    "    plt.contourf(x1grid,x2grid,res,colors=[\"red\",\"cyan\"],levels=[-1000,0,1000])"
   ]
  },
  {
   "cell_type": "code",
   "execution_count": 277,
   "metadata": {},
   "outputs": [
    {
     "data": {
      "image/png": "[encoded data removed]",
      "text/plain": [
       "<Figure size 432x288 with 1 Axes>"
      ]
     },
     "metadata": {
      "needs_background": "light"
     },
     "output_type": "display_data"
    }
   ],
   "source": [
    "# Affichage de la frontière de séparation des classes\n",
    "plot_frontiere(data_desc,data_label,un_classifieur)\n",
    "plot2DSet(data_desc,data_label)\n"
   ]
  },
  {
   "cell_type": "markdown",
   "metadata": {},
   "source": [
    "## Étape 3 : Perceptron de Rosenblatt\n",
    "\n",
    "De la même façon que nous avons défini un classifieur aléatoire, nous allons maintenant définir un autre classifieur : le perceptron de Rosenblatt."
   ]
  },
  {
   "cell_type": "markdown",
   "metadata": {},
   "source": [
    "<font color=\"RED\" size=\"+1\">**[Q]**</font> En héritant de la classe `Classifier`, écrire la classe `ClassifierPerceptron` qui implémente l'algorithme du Perceptron vu en cours. A l'initialisation, on fournira le learning_rate (aussi noté epsilon) de ce perceptron.\n",
    "\n",
    "La fonction `train` fera **une itération** sur l'ensemble des données de l'apprentissage. Les exemples d'apprentissage seront pris dans un ordre aléatoire choisi lors de l'exécution.\n",
    "\n"
   ]
  },
  {
   "cell_type": "code",
   "execution_count": 278,
   "metadata": {},
   "outputs": [],
   "source": [
    "# ------------------------ A COMPLETER :\n",
    "class ClassifierPerceptron(Classifier):\n",
    "    \"\"\" Perceptron de Rosenblatt\n",
    "    \"\"\"\n",
    "    def __init__(self, input_dimension,learning_rate):\n",
    "        \"\"\" Constructeur de Classifier\n",
    "            Argument:\n",
    "                - input_dimension (int) : dimension de la description des exemples\n",
    "                - learning_rate : epsilon\n",
    "            Hypothèse : input_dimension > 0\n",
    "        \"\"\"\n",
    "        self.learning_rate = learning_rate\n",
    "        self.w = np.random.uniform(low = 1,high =10 ,size = input_dimension)\n",
    "        \n",
    "    def train(self, desc_set, label_set):\n",
    "        \"\"\" Permet d'entrainer le modele sur l'ensemble donné\n",
    "            réalise une itération sur l'ensemble des données prises aléatoirement\n",
    "            desc_set: ndarray avec des descriptions\n",
    "            label_set: ndarray avec les labels correspondants\n",
    "            Hypothèse: desc_set et label_set ont le même nombre de lignes\n",
    "        \"\"\"  \n",
    "        iter=50000\n",
    "        for i in range(iter):\n",
    "            j=np.random.randint(desc_set.shape[0]-1)\n",
    "            x=desc_set[j,:]\n",
    "            y=label_set[j]\n",
    "            if(np.vdot(self.w,x)*y<0):\n",
    "                self.w = self.w + self.learning_rate*x*y\n",
    "        \n",
    "    \n",
    "    def score(self,x):\n",
    "        \"\"\" rend le score de prédiction sur x (valeur réelle)\n",
    "            x: une description\n",
    "        \"\"\"\n",
    "        s = np.vdot(self.w , x)\n",
    "        return s\n",
    "        \n",
    "    \n",
    "    def predict(self, x):\n",
    "        \"\"\" rend la prediction sur x (soit -1 ou soit +1)\n",
    "            x: une description\n",
    "        \"\"\"\n",
    "        if(self.score(x)<0):\n",
    "            return -1\n",
    "        return 1\n",
    "        \n",
    "\n",
    "    "
   ]
  },
  {
   "cell_type": "code",
   "execution_count": 279,
   "metadata": {},
   "outputs": [
    {
     "name": "stdout",
     "output_type": "stream",
     "text": [
      "Classification du dataset:\n",
      "\t+1.648 +2.523 : +1 ---> +1 [+0.03217]\n",
      "\t+0.766 +0.766 : +1 ---> +1 [+0.01493]\n",
      "\t+2.579 +1.767 : +1 ---> +1 [+0.05023]\n",
      "\t+0.531 +1.543 : +1 ---> +1 [+0.01040]\n",
      "\t+0.537 +0.534 : +1 ---> +1 [+0.01046]\n",
      "\t+1.242 -0.913 : +1 ---> +1 [+0.02408]\n",
      "\t-0.725 +0.438 : +1 ---> -1 [-0.01406]\n",
      "\t-0.013 +1.314 : +1 ---> -1 [-0.00017]\n",
      "\t+0.092 -0.412 : +1 ---> +1 [+0.00176]\n",
      "\t+2.466 +0.774 : +1 ---> +1 [+0.04796]\n",
      "\t+1.068 -0.425 : +1 ---> +1 [+0.02072]\n",
      "\t+0.456 +1.111 : +1 ---> +1 [+0.00892]\n",
      "\t-0.151 +1.376 : +1 ---> -1 [-0.00285]\n",
      "\t+0.399 +0.708 : +1 ---> +1 [+0.00780]\n",
      "\t+0.398 +2.852 : +1 ---> +1 [+0.00791]\n",
      "\t+0.987 -0.058 : +1 ---> +1 [+0.01917]\n",
      "\t+1.823 -0.221 : +1 ---> +1 [+0.03540]\n",
      "\t+1.209 -0.960 : +1 ---> +1 [+0.02343]\n",
      "\t-0.328 +1.197 : +1 ---> -1 [-0.00630]\n",
      "\t+1.738 +1.171 : +1 ---> +1 [+0.03386]\n",
      "\t+0.884 +0.699 : +1 ---> +1 [+0.01723]\n",
      "\t-0.479 +0.280 : +1 ---> -1 [-0.00928]\n",
      "\t+0.539 +2.057 : +1 ---> +1 [+0.01061]\n",
      "\t+1.344 -0.763 : +1 ---> +1 [+0.02606]\n",
      "\t+1.324 +0.615 : +1 ---> +1 [+0.02577]\n",
      "\t+0.323 +1.612 : +1 ---> +1 [+0.00638]\n",
      "\t+2.031 +1.931 : +1 ---> +1 [+0.03959]\n",
      "\t+0.161 +0.691 : +1 ---> +1 [+0.00317]\n",
      "\t+1.331 +1.976 : +1 ---> +1 [+0.02599]\n",
      "\t+0.521 +0.814 : +1 ---> +1 [+0.01017]\n",
      "\t-0.106 -0.196 : +1 ---> -1 [-0.00208]\n",
      "\t+1.813 +2.356 : +1 ---> +1 [+0.03537]\n",
      "\t+0.928 +2.004 : +1 ---> +1 [+0.01816]\n",
      "\t+1.362 +0.355 : +1 ---> +1 [+0.02648]\n",
      "\t+1.361 +2.538 : +1 ---> +1 [+0.02661]\n",
      "\t+0.964 +2.565 : +1 ---> +1 [+0.01889]\n",
      "\t-1.620 +1.822 : +1 ---> -1 [-0.03137]\n",
      "\t+1.087 +0.701 : +1 ---> +1 [+0.02117]\n",
      "\t+1.092 -0.988 : +1 ---> +1 [+0.02116]\n",
      "\t+0.780 +1.357 : +1 ---> +1 [+0.01525]\n",
      "\t+2.478 +0.482 : +1 ---> +1 [+0.04818]\n",
      "\t+0.192 +0.498 : +1 ---> +1 [+0.00375]\n",
      "\t+1.915 +1.329 : +1 ---> +1 [+0.03730]\n",
      "\t+0.470 +1.513 : +1 ---> +1 [+0.00923]\n",
      "\t+1.097 +1.969 : +1 ---> +1 [+0.02144]\n",
      "\t+0.298 +0.672 : +1 ---> +1 [+0.00583]\n",
      "\t+0.608 -0.464 : +1 ---> +1 [+0.01179]\n",
      "\t+1.296 +1.261 : +1 ---> +1 [+0.02526]\n",
      "\t+1.005 +0.765 : +1 ---> +1 [+0.01958]\n",
      "\t-0.415 +0.579 : +1 ---> -1 [-0.00804]\n",
      "\t-1.343 -1.802 : -1 ---> -1 [-0.02620]\n",
      "\t-1.161 -0.596 : -1 ---> -1 [-0.02260]\n",
      "\t+0.886 -0.825 : -1 ---> +1 [+0.01717]\n",
      "\t-0.742 -1.074 : -1 ---> -1 [-0.01449]\n",
      "\t-2.919 -1.027 : -1 ---> -1 [-0.05678]\n",
      "\t-0.940 +1.463 : -1 ---> -1 [-0.01817]\n",
      "\t-1.192 -0.698 : -1 ---> -1 [-0.02321]\n",
      "\t-1.035 -2.169 : -1 ---> -1 [-0.02024]\n",
      "\t+0.143 -0.248 : -1 ---> +1 [+0.00276]\n",
      "\t-0.209 -1.909 : -1 ---> -1 [-0.00418]\n",
      "\t+0.403 -2.402 : -1 ---> +1 [+0.00768]\n",
      "\t-0.413 +1.190 : -1 ---> -1 [-0.00796]\n",
      "\t-1.991 -1.566 : -1 ---> -1 [-0.03878]\n",
      "\t-0.900 -1.503 : -1 ---> -1 [-0.01759]\n",
      "\t-2.551 -0.931 : -1 ---> -1 [-0.04962]\n",
      "\t-2.062 -0.526 : -1 ---> -1 [-0.04011]\n",
      "\t-1.919 +0.550 : -1 ---> -1 [-0.03727]\n",
      "\t-1.783 -1.322 : -1 ---> -1 [-0.03473]\n",
      "\t-0.186 -2.231 : -1 ---> -1 [-0.00376]\n",
      "\t-0.773 +0.307 : -1 ---> -1 [-0.01499]\n",
      "\t-2.607 -0.815 : -1 ---> -1 [-0.05072]\n",
      "\t-0.740 -0.218 : -1 ---> -1 [-0.01440]\n",
      "\t-2.237 -2.320 : -1 ---> -1 [-0.04361]\n",
      "\t-0.478 -0.703 : -1 ---> -1 [-0.00933]\n",
      "\t-0.750 -0.654 : -1 ---> -1 [-0.01461]\n",
      "\t-1.680 -0.768 : -1 ---> -1 [-0.03269]\n",
      "\t-0.707 -1.714 : -1 ---> -1 [-0.01384]\n",
      "\t+0.866 -0.526 : -1 ---> +1 [+0.01679]\n",
      "\t-2.191 -0.343 : -1 ---> -1 [-0.04260]\n",
      "\t-1.975 -0.213 : -1 ---> -1 [-0.03839]\n",
      "\t+0.159 -1.821 : -1 ---> +1 [+0.00297]\n",
      "\t-0.037 -0.587 : -1 ---> -1 [-0.00075]\n",
      "\t-0.178 +0.897 : -1 ---> -1 [-0.00340]\n",
      "\t-1.245 -1.754 : -1 ---> -1 [-0.02431]\n",
      "\t-1.890 -1.816 : -1 ---> -1 [-0.03683]\n",
      "\t-1.077 -0.659 : -1 ---> -1 [-0.02097]\n",
      "\t-0.723 -0.173 : -1 ---> -1 [-0.01407]\n",
      "\t-0.987 +0.454 : -1 ---> -1 [-0.01915]\n",
      "\t-1.265 +1.720 : -1 ---> -1 [-0.02447]\n",
      "\t-0.374 -1.857 : -1 ---> -1 [-0.00739]\n",
      "\t-2.071 -0.518 : -1 ---> -1 [-0.04028]\n",
      "\t-1.223 -0.286 : -1 ---> -1 [-0.02379]\n",
      "\t-0.527 -1.073 : -1 ---> -1 [-0.01030]\n",
      "\t-1.847 -2.515 : -1 ---> -1 [-0.03604]\n",
      "\t-1.447 -0.144 : -1 ---> -1 [-0.02812]\n",
      "\t-0.786 -2.246 : -1 ---> -1 [-0.01541]\n",
      "\t-0.827 -0.615 : -1 ---> -1 [-0.01611]\n",
      "\t-1.884 -0.846 : -1 ---> -1 [-0.03666]\n",
      "\t-0.942 -2.143 : -1 ---> -1 [-0.01843]\n",
      "\t-0.642 -0.439 : -1 ---> -1 [-0.01251]\n",
      "Taux de bonne classification sur le dataset:  0.87\n"
     ]
    }
   ],
   "source": [
    "# Pour avoir les mêmes valeurs aléatoires :\n",
    "np.random.seed(42)   # supprimer cette ligne une fois la mise au point terminée\n",
    "\n",
    "# Création d'un perceptron\n",
    "un_perceptron = ClassifierPerceptron(2,0.01)\n",
    "\n",
    "# Entraînement avec les données générées précédemment\n",
    "un_perceptron.train(data_desc,data_label)\n",
    "\n",
    "# Classification du dataset (contrôle de predict et score):\n",
    "print(\"Classification du dataset:\")\n",
    "for i in range(data_desc.shape[0]):\n",
    "    print(\"\\t{0:+.3f} {1:+.3f} : {2:+} ---> {3:+} [{4:+.5f}]\".format(data_desc[i,:][0], data_desc[i,:][1], \\\n",
    "                                                                  data_label[i], \\\n",
    "                                                                  un_perceptron.predict(data_desc[i,:]), \\\n",
    "                                                                  un_perceptron.score(data_desc[i,:])) )\n",
    "\n",
    "# Affichage du taux de bonne classification    \n",
    "print(\"Taux de bonne classification sur le dataset: \", un_perceptron.accuracy(data_desc,data_label))   "
   ]
  },
  {
   "cell_type": "markdown",
   "metadata": {},
   "source": [
    "<font color=\"RED\" size=\"+1\">**[Q]**</font> Tester le perceptron de la manière suivante:\n",
    "- Initialiser un perceptron pour le dataset (data_desc,data_label) généré précédemment, ce perceptron aura un learning rate de $0.01$\n",
    "- Apprendre pendant N itérations (tester pour N=10, 100, 1000)\n",
    "- Afficher l'accuracy du modèle sur le dataset à chaque itération (vous pouvez tracer une courbe)\n",
    "- Vérifier que l'accuracy baisse\n",
    "- Tracer la frontière finale obtenue"
   ]
  },
  {
   "cell_type": "code",
   "execution_count": 280,
   "metadata": {},
   "outputs": [
    {
     "name": "stdout",
     "output_type": "stream",
     "text": [
      "Classification du dataset:\n",
      "\t+2.797 +1.108 : +1 ---> +1 [+0.07178]\n",
      "\t+1.261 +1.270 : +1 ---> +1 [+0.04737]\n",
      "\t+2.802 +0.655 : +1 ---> +1 [+0.06304]\n",
      "\t-0.062 +0.731 : +1 ---> +1 [+0.01312]\n",
      "\t-0.722 +1.671 : +1 ---> +1 [+0.01960]\n",
      "\t+0.510 +1.443 : +1 ---> +1 [+0.03725]\n",
      "\t+1.784 +1.431 : +1 ---> +1 [+0.05988]\n",
      "\t-0.808 +1.904 : +1 ---> +1 [+0.02258]\n",
      "\t+0.535 +0.071 : +1 ---> +1 [+0.01100]\n",
      "\t+0.450 +1.052 : +1 ---> +1 [+0.02858]\n",
      "\t+1.234 +0.301 : +1 ---> +1 [+0.02802]\n",
      "\t+2.097 +1.750 : +1 ---> +1 [+0.07174]\n",
      "\t+0.452 +0.588 : +1 ---> +1 [+0.01958]\n",
      "\t+0.314 +0.875 : +1 ---> +1 [+0.02269]\n",
      "\t+2.319 +0.708 : +1 ---> +1 [+0.05543]\n",
      "\t+0.547 +0.999 : +1 ---> +1 [+0.02927]\n",
      "\t+1.745 +1.040 : +1 ---> +1 [+0.05158]\n",
      "\t+0.039 +2.366 : +1 ---> +1 [+0.04678]\n",
      "\t+1.073 +1.304 : +1 ---> +1 [+0.04465]\n",
      "\t+1.402 +1.193 : +1 ---> +1 [+0.04840]\n",
      "\t-1.046 -1.115 : -1 ---> -1 [-0.04050]\n",
      "\t-0.735 -1.240 : -1 ---> -1 [-0.03734]\n",
      "\t-0.235 -0.796 : -1 ---> -1 [-0.01972]\n",
      "\t-2.875 -1.985 : -1 ---> -1 [-0.09027]\n",
      "\t-2.862 -0.829 : -1 ---> -1 [-0.06751]\n",
      "\t-0.796 -1.078 : -1 ---> -1 [-0.03528]\n",
      "\t-0.993 -0.741 : -1 ---> -1 [-0.03227]\n",
      "\t+0.509 +0.981 : -1 ---> +1 [+0.02823]\n",
      "\t-0.318 -1.777 : -1 ---> -1 [-0.04031]\n",
      "\t-0.393 -0.050 : -1 ---> -1 [-0.00803]\n",
      "\t+0.377 +0.209 : -1 ---> +1 [+0.01085]\n",
      "\t-0.419 -2.036 : -1 ---> -1 [-0.04718]\n",
      "\t-1.591 -1.069 : -1 ---> -1 [-0.04937]\n",
      "\t-1.559 +0.605 : -1 ---> -1 [-0.01621]\n",
      "\t-1.880 -1.740 : -1 ---> -1 [-0.06764]\n",
      "\t+0.077 +0.868 : -1 ---> +1 [+0.01830]\n",
      "\t-0.591 -1.650 : -1 ---> -1 [-0.04274]\n",
      "\t-1.438 -1.600 : -1 ---> -1 [-0.05696]\n",
      "\t-2.281 -1.516 : -1 ---> -1 [-0.07047]\n",
      "\t-0.816 -1.394 : -1 ---> -1 [-0.04180]\n",
      "Taux de bonne classification sur le dataset:  0.925\n"
     ]
    },
    {
     "data": {
      "image/png": "[encoded data removed]",
      "text/plain": [
       "<Figure size 432x288 with 1 Axes>"
      ]
     },
     "metadata": {
      "needs_background": "light"
     },
     "output_type": "display_data"
    }
   ],
   "source": [
    "np.random.seed(5)   # supprimer cette ligne une fois la mise au point terminée\n",
    "\n",
    "# ------------------------ A COMPLETER :\n",
    "\n",
    "cl = ClassifierPerceptron(2,0.01)\n",
    "cl.train(data_desc,data_label)\n",
    "\n",
    "test_desc,test_label = genere_dataset_gaussian(np.array([1,1]),np.array([[1,0],[0,1]]),np.array([-1,-1]),np.array([[1,0],[0,1]]),20)\n",
    "\n",
    "\n",
    "print(\"Classification du dataset:\")\n",
    "for i in range(test_desc.shape[0]):\n",
    "    print(\"\\t{0:+.3f} {1:+.3f} : {2:+} ---> {3:+} [{4:+.5f}]\".format(test_desc[i,:][0], test_desc[i,:][1], \\\n",
    "                                                                  test_label[i], \\\n",
    "                                                                  cl.predict(test_desc[i,:]), \\\n",
    "                                                                  cl.score(test_desc[i,:])) )\n",
    "\n",
    "# Affichage du taux de bonne classification   \n",
    "plot_frontiere(test_desc,test_label,cl)\n",
    "plot2DSet(test_desc,test_label)\n",
    "print(\"Taux de bonne classification sur le dataset: \", cl.accuracy(test_desc,test_label))   "
   ]
  },
  {
   "cell_type": "code",
   "execution_count": 281,
   "metadata": {},
   "outputs": [
    {
     "data": {
      "image/png": "[encoded data removed]",
      "text/plain": [
       "<Figure size 432x288 with 1 Axes>"
      ]
     },
     "metadata": {
      "needs_background": "light"
     },
     "output_type": "display_data"
    }
   ],
   "source": [
    "# Affichage de la frontière de séparation des classes\n",
    "plot_frontiere(data_desc,data_label,un_perceptron)\n",
    "plot2DSet(data_desc,data_label)"
   ]
  },
  {
   "cell_type": "markdown",
   "metadata": {},
   "source": [
    "<font color=\"RED\" size=\"+1\">**[Q]**</font> Expérimentations\n",
    "\n",
    "- Générer deux ensembles de train et de test\n",
    "- Dessiner la courbe de performance en fonction de l'itération sur les ensembles de train et de test\n",
    "    * Que se passe-t-il en fonction du pas (epsilon) d'apprentissage ? \n",
    "    * Que se passe-t-il quand le nombre d'exemples en apprentissage est faible ? \n"
   ]
  },
  {
   "cell_type": "markdown",
   "metadata": {},
   "source": [
    "<font color=\"RED\" size=\"+1\">**[Q]**</font> **Données XOR**\n",
    "\n",
    "Ecrire la fonction `create_XOR` qui, étant donné un nombre de points $n$ et une variance $var$, permet de générer un dataset de dimension 2 contenant:\n",
    "- deux gaussiennes centrées en (0,0) et (1,1) correspondant chacune à $n$ exemples positifs\n",
    "- deux gaussiennes centrées en (1,0) et (0,1) correspondant chacune à $n$ exemples négatifs\n",
    "\n",
    "Dans la suite, on appelle XOR une base de données créée par cette fonction.\n",
    "\n",
    "\n",
    "Que se passe-t-il quand on apprend un perceptron  ? Quel est le problème ? "
   ]
  },
  {
   "cell_type": "code",
   "execution_count": 282,
   "metadata": {},
   "outputs": [],
   "source": [
    "def create_XOR(nb_points,var):\n",
    "# ------------------------ A COMPLETER :\n",
    "    data_desc1=np.random.normal(np.array([0,0]),var,size=(nb_points//2,2)) \n",
    "    data_desc2=np.random.normal(np.array([1,1]),var,size=(nb_points//2,2)) \n",
    "    data_desc3=np.random.normal(np.array([1,0]),var,size=(nb_points//2,2)) \n",
    "    data_desc4=np.random.normal(np.array([0,1]),var,size=(nb_points//2,2)) \n",
    "    data_desc5=np.vstack([data_desc1,data_desc2,data_desc3,data_desc4])\n",
    "    data_label= np.asarray([-1 for i in range(0,(nb_points))] + [+1 for i in range(0,(nb_points))])\n",
    "    tup=(data_desc5,data_label)\n",
    "    return tup\n"
   ]
  },
  {
   "cell_type": "code",
   "execution_count": 283,
   "metadata": {},
   "outputs": [
    {
     "data": {
      "image/png": "[encoded data removed]",
      "text/plain": [
       "<Figure size 432x288 with 1 Axes>"
      ]
     },
     "metadata": {
      "needs_background": "light"
     },
     "output_type": "display_data"
    }
   ],
   "source": [
    "data_xor = create_XOR(100,0.1)\n",
    "plot2DSet(data_xor[0], data_xor[1])\n",
    "\n"
   ]
  },
  {
   "cell_type": "code",
   "execution_count": 284,
   "metadata": {},
   "outputs": [
    {
     "name": "stdout",
     "output_type": "stream",
     "text": [
      "Classification du dataset:\n",
      "\t-0.207 -0.027 : -1 ---> -1 [-0.00118]\n",
      "\t+0.056 +0.106 : -1 ---> +1 [+0.00046]\n",
      "\t-0.009 +0.039 : -1 ---> +1 [+0.00000]\n",
      "\t+0.066 +0.175 : -1 ---> +1 [+0.00061]\n",
      "\t-0.011 -0.075 : -1 ---> -1 [-0.00017]\n",
      "\t-0.127 +0.219 : -1 ---> -1 [-0.00040]\n",
      "\t+0.001 -0.110 : -1 ---> -1 [-0.00015]\n",
      "\t+0.044 +0.057 : -1 ---> +1 [+0.00032]\n",
      "\t-0.098 -0.117 : -1 ---> -1 [-0.00071]\n",
      "\t+0.009 +0.091 : -1 ---> +1 [+0.00018]\n",
      "\t+0.156 +0.052 : -1 ---> +1 [+0.00094]\n",
      "\t+0.014 -0.027 : -1 ---> +1 [+0.00004]\n",
      "\t+0.123 -0.048 : -1 ---> +1 [+0.00062]\n",
      "\t+0.038 +0.265 : -1 ---> +1 [+0.00058]\n",
      "\t-0.076 +0.067 : -1 ---> -1 [-0.00033]\n",
      "\t+0.154 +0.016 : -1 ---> +1 [+0.00088]\n",
      "\t+0.147 -0.001 : -1 ---> +1 [+0.00081]\n",
      "\t-0.063 -0.006 : -1 ---> -1 [-0.00036]\n",
      "\t-0.091 +0.028 : -1 ---> -1 [-0.00046]\n",
      "\t-0.132 -0.115 : -1 ---> -1 [-0.00089]\n",
      "\t+0.070 -0.031 : -1 ---> +1 [+0.00035]\n",
      "\t-0.081 -0.142 : -1 ---> -1 [-0.00065]\n",
      "\t-0.031 -0.152 : -1 ---> -1 [-0.00038]\n",
      "\t+0.082 -0.124 : -1 ---> +1 [+0.00028]\n",
      "\t-0.000 +0.109 : -1 ---> +1 [+0.00015]\n",
      "\t-0.023 -0.012 : -1 ---> -1 [-0.00014]\n",
      "\t-0.106 +0.089 : -1 ---> -1 [-0.00046]\n",
      "\t-0.231 +0.115 : -1 ---> -1 [-0.00112]\n",
      "\t-0.079 +0.043 : -1 ---> -1 [-0.00038]\n",
      "\t-0.104 +0.166 : -1 ---> -1 [-0.00035]\n",
      "\t-0.023 -0.070 : -1 ---> -1 [-0.00022]\n",
      "\t+0.078 +0.240 : -1 ---> +1 [+0.00077]\n",
      "\t+0.075 +0.145 : -1 ---> +1 [+0.00062]\n",
      "\t+0.027 -0.079 : -1 ---> +1 [+0.00004]\n",
      "\t+0.027 +0.176 : -1 ---> +1 [+0.00039]\n",
      "\t+0.128 +0.177 : -1 ---> +1 [+0.00096]\n",
      "\t-0.103 -0.218 : -1 ---> -1 [-0.00087]\n",
      "\t+0.117 +0.025 : -1 ---> +1 [+0.00068]\n",
      "\t-0.060 -0.038 : -1 ---> -1 [-0.00039]\n",
      "\t+0.226 +0.148 : -1 ---> +1 [+0.00146]\n",
      "\t+0.067 +0.032 : -1 ---> +1 [+0.00042]\n",
      "\t+0.019 -0.155 : -1 ---> -1 [-0.00011]\n",
      "\t+0.076 +0.085 : -1 ---> +1 [+0.00054]\n",
      "\t-0.131 -0.067 : -1 ---> -1 [-0.00082]\n",
      "\t-0.018 -0.136 : -1 ---> -1 [-0.00029]\n",
      "\t+0.142 -0.182 : -1 ---> +1 [+0.00053]\n",
      "\t-0.070 +0.046 : -1 ---> -1 [-0.00032]\n",
      "\t+0.048 -0.152 : -1 ---> +1 [+0.00005]\n",
      "\t+0.018 +0.120 : -1 ---> +1 [+0.00026]\n",
      "\t+0.052 -0.178 : -1 ---> +1 [+0.00004]\n",
      "\t+1.029 +0.967 : -1 ---> +1 [+0.00705]\n",
      "\t+0.866 +0.932 : -1 ---> +1 [+0.00610]\n",
      "\t+1.114 +0.967 : -1 ---> +1 [+0.00752]\n",
      "\t+0.947 +0.950 : -1 ---> +1 [+0.00657]\n",
      "\t+1.302 +1.088 : -1 ---> +1 [+0.00873]\n",
      "\t+1.043 +0.907 : -1 ---> +1 [+0.00704]\n",
      "\t+0.783 +0.928 : -1 ---> +1 [+0.00563]\n",
      "\t+1.036 +0.998 : -1 ---> +1 [+0.00713]\n",
      "\t+1.039 +1.082 : -1 ---> +1 [+0.00727]\n",
      "\t+1.115 +0.970 : -1 ---> +1 [+0.00753]\n",
      "\t+0.985 +0.997 : -1 ---> +1 [+0.00684]\n",
      "\t+0.915 +1.072 : -1 ---> +1 [+0.00657]\n",
      "\t+0.892 +1.023 : -1 ---> +1 [+0.00637]\n",
      "\t+1.098 +0.985 : -1 ---> +1 [+0.00746]\n",
      "\t+0.960 +1.033 : -1 ---> +1 [+0.00676]\n",
      "\t+1.077 +0.983 : -1 ---> +1 [+0.00734]\n",
      "\t+1.184 +1.018 : -1 ---> +1 [+0.00798]\n",
      "\t+1.102 +1.084 : -1 ---> +1 [+0.00762]\n",
      "\t+0.842 +0.975 : -1 ---> +1 [+0.00602]\n",
      "\t+0.966 +0.811 : -1 ---> +1 [+0.00649]\n",
      "\t+0.725 +1.027 : -1 ---> +1 [+0.00545]\n",
      "\t+1.004 +1.029 : -1 ---> +1 [+0.00700]\n",
      "\t+0.932 +0.926 : -1 ---> +1 [+0.00646]\n",
      "\t+1.066 +0.961 : -1 ---> +1 [+0.00725]\n",
      "\t+1.033 +0.970 : -1 ---> +1 [+0.00708]\n",
      "\t+0.984 +0.732 : -1 ---> +1 [+0.00647]\n",
      "\t+0.972 +1.070 : -1 ---> +1 [+0.00688]\n",
      "\t+0.975 +0.948 : -1 ---> +1 [+0.00672]\n",
      "\t+0.991 +0.921 : -1 ---> +1 [+0.00677]\n",
      "\t+0.932 +0.942 : -1 ---> +1 [+0.00648]\n",
      "\t+0.863 +0.994 : -1 ---> +1 [+0.00617]\n",
      "\t+0.951 +1.026 : -1 ---> +1 [+0.00670]\n",
      "\t+0.992 +0.941 : -1 ---> +1 [+0.00681]\n",
      "\t+1.095 +1.053 : -1 ---> +1 [+0.00753]\n",
      "\t+1.140 +0.882 : -1 ---> +1 [+0.00754]\n",
      "\t+1.025 +1.120 : -1 ---> +1 [+0.00724]\n",
      "\t+0.996 +0.967 : -1 ---> +1 [+0.00687]\n",
      "\t+1.187 +1.012 : -1 ---> +1 [+0.00799]\n",
      "\t+1.077 +1.096 : -1 ---> +1 [+0.00749]\n",
      "\t+0.966 +1.104 : -1 ---> +1 [+0.00689]\n",
      "\t+1.186 +0.923 : -1 ---> +1 [+0.00786]\n",
      "\t+0.843 +0.963 : -1 ---> +1 [+0.00602]\n",
      "\t+1.113 +1.039 : -1 ---> +1 [+0.00761]\n",
      "\t+1.020 +0.919 : -1 ---> +1 [+0.00693]\n",
      "\t+0.949 +1.098 : -1 ---> +1 [+0.00679]\n",
      "\t+0.860 +0.932 : -1 ---> +1 [+0.00607]\n",
      "\t+1.044 +0.755 : -1 ---> +1 [+0.00683]\n",
      "\t+0.885 +0.888 : -1 ---> +1 [+0.00614]\n",
      "\t+0.983 +1.062 : -1 ---> +1 [+0.00693]\n",
      "\t+0.997 +0.944 : -1 ---> +1 [+0.00684]\n",
      "\t+0.968 +0.059 : +1 ---> +1 [+0.00544]\n",
      "\t+0.841 +0.103 : +1 ---> +1 [+0.00480]\n",
      "\t+1.058 -0.038 : +1 ---> +1 [+0.00581]\n",
      "\t+0.939 +0.073 : +1 ---> +1 [+0.00530]\n",
      "\t+1.021 +0.047 : +1 ---> +1 [+0.00572]\n",
      "\t+0.957 +0.128 : +1 ---> +1 [+0.00548]\n",
      "\t+0.931 +0.036 : +1 ---> +1 [+0.00520]\n",
      "\t+0.942 -0.037 : +1 ---> +1 [+0.00516]\n",
      "\t+1.023 +0.092 : +1 ---> +1 [+0.00580]\n",
      "\t+1.064 +0.107 : +1 ---> +1 [+0.00604]\n",
      "\t+1.007 +0.061 : +1 ---> +1 [+0.00566]\n",
      "\t+1.066 +0.074 : +1 ---> +1 [+0.00601]\n",
      "\t+1.073 +0.016 : +1 ---> +1 [+0.00596]\n",
      "\t+0.920 +0.010 : +1 ---> +1 [+0.00511]\n",
      "\t+1.205 +0.030 : +1 ---> +1 [+0.00671]\n",
      "\t+1.113 +0.058 : +1 ---> +1 [+0.00624]\n",
      "\t+0.974 -0.019 : +1 ---> +1 [+0.00537]\n",
      "\t+0.936 -0.124 : +1 ---> +1 [+0.00501]\n",
      "\t+1.228 +0.151 : +1 ---> +1 [+0.00701]\n",
      "\t+0.845 -0.223 : +1 ---> +1 [+0.00437]\n",
      "\t+1.088 +0.021 : +1 ---> +1 [+0.00605]\n",
      "\t+0.937 -0.141 : +1 ---> +1 [+0.00499]\n",
      "\t+1.007 -0.108 : +1 ---> +1 [+0.00543]\n",
      "\t+1.055 -0.015 : +1 ---> +1 [+0.00582]\n",
      "\t+0.980 +0.004 : +1 ---> +1 [+0.00543]\n",
      "\t+1.052 -0.100 : +1 ---> +1 [+0.00569]\n",
      "\t+1.071 +0.020 : +1 ---> +1 [+0.00596]\n",
      "\t+1.028 -0.109 : +1 ---> +1 [+0.00554]\n",
      "\t+1.093 -0.053 : +1 ---> +1 [+0.00598]\n",
      "\t+1.016 +0.212 : +1 ---> +1 [+0.00592]\n",
      "\t+0.903 +0.139 : +1 ---> +1 [+0.00520]\n",
      "\t+1.081 +0.134 : +1 ---> +1 [+0.00618]\n",
      "\t+1.025 -0.024 : +1 ---> +1 [+0.00564]\n",
      "\t+0.790 -0.060 : +1 ---> +1 [+0.00429]\n",
      "\t+0.863 +0.043 : +1 ---> +1 [+0.00484]\n",
      "\t+1.095 +0.154 : +1 ---> +1 [+0.00628]\n",
      "\t+0.987 -0.020 : +1 ---> +1 [+0.00544]\n",
      "\t+1.051 +0.000 : +1 ---> +1 [+0.00582]\n",
      "\t+0.927 +0.068 : +1 ---> +1 [+0.00523]\n",
      "\t+0.963 -0.009 : +1 ---> +1 [+0.00532]\n",
      "\t+0.911 -0.188 : +1 ---> +1 [+0.00479]\n",
      "\t+1.071 +0.127 : +1 ---> +1 [+0.00611]\n",
      "\t+1.099 -0.061 : +1 ---> +1 [+0.00600]\n",
      "\t+1.041 +0.074 : +1 ---> +1 [+0.00587]\n",
      "\t+0.841 +0.087 : +1 ---> +1 [+0.00478]\n",
      "\t+0.809 -0.085 : +1 ---> +1 [+0.00436]\n",
      "\t+0.877 +0.029 : +1 ---> +1 [+0.00489]\n",
      "\t+1.119 +0.093 : +1 ---> +1 [+0.00633]\n",
      "\t+1.060 +0.007 : +1 ---> +1 [+0.00588]\n",
      "\t+0.766 -0.137 : +1 ---> +1 [+0.00405]\n",
      "\t+0.088 +1.049 : +1 ---> +1 [+0.00195]\n",
      "\t+0.043 +0.913 : +1 ---> +1 [+0.00151]\n",
      "\t+0.207 +1.124 : +1 ---> +1 [+0.00271]\n",
      "\t+0.178 +1.068 : +1 ---> +1 [+0.00248]\n",
      "\t+0.172 +1.184 : +1 ---> +1 [+0.00261]\n",
      "\t-0.005 +0.783 : +1 ---> +1 [+0.00106]\n",
      "\t+0.067 +1.008 : +1 ---> +1 [+0.00178]\n",
      "\t+0.117 +0.944 : +1 ---> +1 [+0.00197]\n",
      "\t+0.033 +0.971 : +1 ---> +1 [+0.00154]\n",
      "\t-0.010 +1.084 : +1 ---> +1 [+0.00146]\n",
      "\t+0.157 +0.806 : +1 ---> +1 [+0.00200]\n",
      "\t-0.171 +0.927 : +1 ---> +1 [+0.00035]\n",
      "\t-0.099 +1.173 : +1 ---> +1 [+0.00109]\n",
      "\t-0.022 +0.966 : +1 ---> +1 [+0.00123]\n",
      "\t-0.003 +0.967 : +1 ---> +1 [+0.00133]\n",
      "\t+0.054 +0.819 : +1 ---> +1 [+0.00144]\n",
      "\t+0.020 +1.022 : +1 ---> +1 [+0.00154]\n",
      "\t-0.117 +0.964 : +1 ---> +1 [+0.00070]\n",
      "\t-0.004 +1.142 : +1 ---> +1 [+0.00157]\n",
      "\t-0.059 +1.053 : +1 ---> +1 [+0.00114]\n",
      "\t-0.069 +1.069 : +1 ---> +1 [+0.00111]\n",
      "\t-0.113 +1.068 : +1 ---> +1 [+0.00086]\n",
      "\t-0.210 +1.207 : +1 ---> +1 [+0.00052]\n",
      "\t+0.000 +0.998 : +1 ---> +1 [+0.00140]\n",
      "\t-0.133 +0.850 : +1 ---> +1 [+0.00045]\n",
      "\t+0.042 +0.827 : +1 ---> +1 [+0.00139]\n",
      "\t-0.023 +0.996 : +1 ---> +1 [+0.00126]\n",
      "\t-0.087 +1.019 : +1 ---> +1 [+0.00094]\n",
      "\t+0.089 +0.987 : +1 ---> +1 [+0.00187]\n",
      "\t-0.000 +1.091 : +1 ---> +1 [+0.00152]\n",
      "\t-0.084 +0.858 : +1 ---> +1 [+0.00073]\n",
      "\t+0.076 +1.117 : +1 ---> +1 [+0.00198]\n",
      "\t+0.186 +1.022 : +1 ---> +1 [+0.00246]\n",
      "\t+0.019 +0.986 : +1 ---> +1 [+0.00148]\n",
      "\t+0.012 +0.994 : +1 ---> +1 [+0.00145]\n",
      "\t+0.049 +1.072 : +1 ---> +1 [+0.00177]\n",
      "\t+0.125 +1.079 : +1 ---> +1 [+0.00220]\n",
      "\t+0.251 +0.812 : +1 ---> +1 [+0.00253]\n",
      "\t-0.125 +1.017 : +1 ---> +1 [+0.00073]\n",
      "\t+0.020 +0.969 : +1 ---> +1 [+0.00146]\n",
      "\t+0.030 +0.840 : +1 ---> +1 [+0.00134]\n",
      "\t+0.004 +0.975 : +1 ---> +1 [+0.00138]\n",
      "\t+0.058 +0.936 : +1 ---> +1 [+0.00163]\n",
      "\t+0.016 +0.942 : +1 ---> +1 [+0.00140]\n",
      "\t-0.159 +1.058 : +1 ---> +1 [+0.00060]\n",
      "\t-0.036 +0.990 : +1 ---> +1 [+0.00118]\n",
      "\t+0.123 +0.896 : +1 ---> +1 [+0.00193]\n",
      "\t+0.073 +0.866 : +1 ---> +1 [+0.00161]\n",
      "\t+0.024 +0.980 : +1 ---> +1 [+0.00150]\n",
      "\t-0.023 +0.980 : +1 ---> +1 [+0.00124]\n",
      "Taux de bonne classification sur le dataset:  0.615\n"
     ]
    },
    {
     "data": {
      "image/png": "[encoded data removed]",
      "text/plain": [
       "<Figure size 432x288 with 1 Axes>"
      ]
     },
     "metadata": {
      "needs_background": "light"
     },
     "output_type": "display_data"
    }
   ],
   "source": [
    "# Pour avoir les mêmes valeurs aléatoires :\n",
    "np.random.seed(42)   # supprimer cette ligne une fois la mise au point terminée\n",
    "\n",
    "# ------------------------ A COMPLETER :\n",
    "\n",
    "cl2 = ClassifierPerceptron(2,0.01)\n",
    "cl2.train(data_xor[0],data_xor[1])\n",
    "\n",
    "\n",
    "print(\"Classification du dataset:\")\n",
    "for i in range(data_xor[0].shape[0]):\n",
    "    print(\"\\t{0:+.3f} {1:+.3f} : {2:+} ---> {3:+} [{4:+.5f}]\".format(data_xor[0][i,:][0], data_xor[0][i,:][1], \\\n",
    "                                                                  data_xor[1][i], \\\n",
    "                                                                  cl2.predict(data_xor[0][i,:]), \\\n",
    "                                                                  cl2.score(data_xor[0][i,:])) )\n",
    "\n",
    "# Affichage du taux de bonne classification   \n",
    "plot_frontiere(data_xor[0],data_xor[1],cl2)\n",
    "plot2DSet(data_xor[0],data_xor[1])\n",
    "print(\"Taux de bonne classification sur le dataset: \", cl2.accuracy(data_xor[0],data_xor[1]))  \n",
    "\n"
   ]
  },
  {
   "cell_type": "markdown",
   "metadata": {},
   "source": [
    "## Étape 4: protocole expérimental\n",
    "\n",
    "Attention, lorsque l'on évalue un classifieur, il est nécessaire de considérer deux ensembles distincts: un ensemble d'apprentissage et un ensemble de test. La performance doit être évaluée sur l'ensemble de test (et non pas sur l'ensemble d'apprentissage)."
   ]
  },
  {
   "cell_type": "markdown",
   "metadata": {},
   "source": [
    "<font color=\"RED\" size=\"+1\">**[Q]**</font> Donner les instructions permettant d'évaluer un classifieur KNN et comparer les résultats obtenus avec ceux obtenus par un classifieur linéaire aléatoire sur le même jeu de données."
   ]
  },
  {
   "cell_type": "code",
   "execution_count": 285,
   "metadata": {},
   "outputs": [
    {
     "name": "stdout",
     "output_type": "stream",
     "text": [
      "Classification du dataset:\n",
      "\t-0.060 -0.061 : -1 ---> -1 \n",
      "\t+0.046 -0.062 : -1 ---> -1 \n",
      "\t+0.069 -0.115 : -1 ---> -1 \n",
      "\t-0.158 +0.180 : -1 ---> -1 \n",
      "\t-0.004 +0.116 : -1 ---> -1 \n",
      "\t+0.066 -0.048 : -1 ---> -1 \n",
      "\t+0.062 +0.068 : -1 ---> -1 \n",
      "\t-0.092 -0.055 : -1 ---> -1 \n",
      "\t+0.090 -0.024 : -1 ---> -1 \n",
      "\t+0.099 -0.117 : -1 ---> -1 \n",
      "\t-0.044 +0.070 : -1 ---> -1 \n",
      "\t+0.263 +0.061 : -1 ---> -1 \n",
      "\t+0.050 -0.071 : -1 ---> -1 \n",
      "\t-0.055 +0.012 : -1 ---> -1 \n",
      "\t+0.131 -0.118 : -1 ---> -1 \n",
      "\t-0.040 -0.033 : -1 ---> -1 \n",
      "\t-0.177 -0.054 : -1 ---> -1 \n",
      "\t-0.073 +0.067 : -1 ---> -1 \n",
      "\t+0.165 +0.046 : -1 ---> -1 \n",
      "\t-0.001 +0.066 : -1 ---> -1 \n",
      "\t-0.052 +0.089 : -1 ---> -1 \n",
      "\t-0.015 -0.165 : -1 ---> -1 \n",
      "\t+0.073 +0.067 : -1 ---> -1 \n",
      "\t-0.135 +0.099 : -1 ---> -1 \n",
      "\t+0.118 -0.128 : -1 ---> -1 \n",
      "\t+0.929 +0.909 : -1 ---> -1 \n",
      "\t+0.843 +1.110 : -1 ---> -1 \n",
      "\t+1.122 +0.966 : -1 ---> -1 \n",
      "\t+1.002 +1.139 : -1 ---> -1 \n",
      "\t+0.934 +0.909 : -1 ---> -1 \n",
      "\t+0.926 +1.105 : -1 ---> -1 \n",
      "\t+0.947 +0.836 : -1 ---> -1 \n",
      "\t+0.981 +0.894 : -1 ---> -1 \n",
      "\t+0.779 +1.050 : -1 ---> -1 \n",
      "\t+0.900 +1.165 : -1 ---> -1 \n",
      "\t+0.965 +0.897 : -1 ---> -1 \n",
      "\t+0.998 +1.174 : -1 ---> -1 \n",
      "\t+0.961 +1.075 : -1 ---> -1 \n",
      "\t+1.109 +1.181 : -1 ---> -1 \n",
      "\t+1.166 +1.065 : -1 ---> -1 \n",
      "\t+1.060 +1.113 : -1 ---> -1 \n",
      "\t+1.028 +0.936 : -1 ---> -1 \n",
      "\t+1.011 +1.043 : -1 ---> -1 \n",
      "\t+1.137 +0.995 : -1 ---> -1 \n",
      "\t+1.129 +0.872 : -1 ---> -1 \n",
      "\t+0.968 +1.060 : -1 ---> -1 \n",
      "\t+1.024 +1.079 : -1 ---> -1 \n",
      "\t+1.008 +1.157 : -1 ---> -1 \n",
      "\t+1.089 +1.031 : -1 ---> -1 \n",
      "\t+0.982 +0.934 : -1 ---> -1 \n",
      "\t+1.096 +0.146 : +1 ---> +1 \n",
      "\t+0.942 +0.079 : +1 ---> +1 \n",
      "\t+0.858 -0.131 : +1 ---> +1 \n",
      "\t+1.002 +0.060 : +1 ---> +1 \n",
      "\t+1.048 -0.081 : +1 ---> +1 \n",
      "\t+1.053 -0.065 : +1 ---> +1 \n",
      "\t+1.039 +0.064 : +1 ---> +1 \n",
      "\t+1.048 -0.057 : +1 ---> +1 \n",
      "\t+0.930 -0.071 : +1 ---> +1 \n",
      "\t+1.032 +0.243 : +1 ---> +1 \n",
      "\t+1.070 -0.258 : +1 ---> +1 \n",
      "\t+1.073 -0.043 : +1 ---> +1 \n",
      "\t+1.053 -0.010 : +1 ---> +1 \n",
      "\t+1.254 -0.349 : +1 ---> +1 \n",
      "\t+1.165 +0.034 : +1 ---> +1 \n",
      "\t+0.879 +0.056 : +1 ---> +1 \n",
      "\t+1.092 -0.060 : +1 ---> +1 \n",
      "\t+1.102 -0.148 : +1 ---> +1 \n",
      "\t+1.041 +0.203 : +1 ---> +1 \n",
      "\t+0.937 -0.012 : +1 ---> +1 \n",
      "\t+1.033 -0.020 : +1 ---> +1 \n",
      "\t+0.975 +0.030 : +1 ---> +1 \n",
      "\t+0.821 +0.140 : +1 ---> +1 \n",
      "\t+1.066 +0.029 : +1 ---> +1 \n",
      "\t+0.996 +0.106 : +1 ---> +1 \n",
      "\t-0.065 +0.877 : +1 ---> +1 \n",
      "\t-0.001 +1.039 : +1 ---> +1 \n",
      "\t-0.001 +1.001 : +1 ---> +1 \n",
      "\t-0.082 +0.960 : +1 ---> +1 \n",
      "\t-0.034 +1.070 : +1 ---> +1 \n",
      "\t+0.132 +0.890 : +1 ---> +1 \n",
      "\t-0.114 +0.894 : +1 ---> +1 \n",
      "\t-0.062 +0.821 : +1 ---> +1 \n",
      "\t-0.073 +1.114 : +1 ---> +1 \n",
      "\t-0.199 +1.015 : +1 ---> +1 \n",
      "\t+0.092 +1.135 : +1 ---> +1 \n",
      "\t-0.086 +1.116 : +1 ---> +1 \n",
      "\t+0.116 +0.879 : +1 ---> +1 \n",
      "\t-0.043 +1.080 : +1 ---> +1 \n",
      "\t-0.060 +0.844 : +1 ---> +1 \n",
      "\t-0.006 +1.045 : +1 ---> +1 \n",
      "\t+0.138 +1.052 : +1 ---> +1 \n",
      "\t-0.041 +1.126 : +1 ---> +1 \n",
      "\t+0.006 +0.788 : +1 ---> +1 \n",
      "\t+0.126 +1.059 : +1 ---> +1 \n",
      "\t-0.137 +1.102 : +1 ---> +1 \n",
      "\t+0.029 +1.064 : +1 ---> +1 \n",
      "\t-0.023 +0.992 : +1 ---> +1 \n",
      "\t-0.007 +1.187 : +1 ---> +1 \n",
      "\t+0.157 +0.965 : +1 ---> +1 \n",
      "Taux de bonne classification sur le dataset:  1.0\n"
     ]
    },
    {
     "data": {
      "image/png": "[encoded data removed]",
      "text/plain": [
       "<Figure size 432x288 with 1 Axes>"
      ]
     },
     "metadata": {
      "needs_background": "light"
     },
     "output_type": "display_data"
    }
   ],
   "source": [
    "from collections import Counter\n",
    "import math\n",
    "\n",
    "class KNN():\n",
    "    def __init__(self, k, distance_fn, choice_fn,data_desc,data_label):\n",
    "        self.k = k\n",
    "        self.distance_fn = distance_fn\n",
    "        self.choice_fn = choice_fn\n",
    "        self.data_desc = data_desc\n",
    "        self.data_label = data_label\n",
    "    \n",
    "    def predict(self, x):\n",
    "        \n",
    "        neighbor_distances_and_indices = []\n",
    "    \n",
    "        for index, example in enumerate(self.data_desc):\n",
    "        \n",
    "            distance = self.distance_fn(example, x)\n",
    "            neighbor_distances_and_indices.append((distance, index))\n",
    "            \n",
    "        sorted_neighbor_distances_and_indices = sorted(neighbor_distances_and_indices) \n",
    "        \n",
    "        k_nearest_distances_and_indices = sorted_neighbor_distances_and_indices[:self.k]\n",
    "    \n",
    "        k_nearest_labels = [self.data_label[i] for distance, i in k_nearest_distances_and_indices]\n",
    "        \n",
    "        return self.choice_fn(k_nearest_labels)\n",
    "    \n",
    "    def accuracy(self, desc_set, label_set):\n",
    "        \"\"\" Permet de calculer la qualité du système sur un dataset donné\n",
    "            desc_set: ndarray avec des descriptions\n",
    "            label_set: ndarray avec les labels correspondants\n",
    "            Hypothèse: desc_set et label_set ont le même nombre de lignes\n",
    "        \"\"\"\n",
    "        cpt = 0\n",
    "        for i in range(desc_set.shape[0]):\n",
    "            if self.predict(desc_set[i,:]) == label_set[i]:\n",
    "                cpt = cpt + 1\n",
    "        return cpt/desc_set.shape[0]  \n",
    "    \n",
    "\n",
    "def mean(labels):\n",
    "    return sum(labels) / len(labels)\n",
    "\n",
    "def mode(labels):\n",
    "    return Counter(labels).most_common(1)[0][0]\n",
    "\n",
    "def euclidean_distance(point1, point2):\n",
    "    \n",
    "    sum_squared_distance = 0\n",
    "    for i in range(len(point1)):\n",
    "        sum_squared_distance += math.pow(point1[i] - point2[i], 2)\n",
    "    return math.sqrt(sum_squared_distance)\n",
    "\n",
    "def euclidean_distance2(a, b):\n",
    "    return np.linalg.norm(a-b)\n",
    "\n",
    "np.random.seed(42)\n",
    "data_xor_train = create_XOR(100,0.1)\n",
    "np.random.seed(86)\n",
    "data_xor_test = create_XOR(50,0.1)\n",
    "\n",
    "knn =  KNN(2,euclidean_distance2,mode,data_xor_train[0], data_xor_train[1])\n",
    "\n",
    "print(\"Classification du dataset:\")\n",
    "for i in range(data_xor_test[0].shape[0]):\n",
    "    print(\"\\t{0:+.3f} {1:+.3f} : {2:+} ---> {3:+} \".format(data_xor_test[0][i,:][0], data_xor_test[0][i,:][1], \\\n",
    "                                                        data_xor_test[1][i], \\\n",
    "                                                        knn.predict(data_xor_test[0][i,:])\n",
    "                                                          )\n",
    "         )\n",
    "# Affichage du taux de bonne classification \n",
    "\n",
    "plot_frontiere(data_xor_test[0],data_xor_test[1],knn)\n",
    "plot2DSet(data_xor_test[0],data_xor_test[1])\n",
    "print(\"Taux de bonne classification sur le dataset: \", knn.accuracy(data_xor_test[0],data_xor_test[1]))  \n",
    "        "
   ]
  },
  {
   "cell_type": "markdown",
   "metadata": {},
   "source": [
    "### Différentes expérimentations\n",
    "\n",
    "<font color=\"RED\" size=\"+1\">**[Q]**</font> Comparer la performance (en train et test) de plusieurs classifieurs KNN avec différentes valeurs de k. Que pouvez vous constater ?\n",
    "Idéalement, vous tracerez la performance (accuracy) en fonction de la valeur de k.\n",
    "Essayez avec différentes configurations de gaussiennes."
   ]
  },
  {
   "cell_type": "code",
   "execution_count": 286,
   "metadata": {},
   "outputs": [
    {
     "name": "stdout",
     "output_type": "stream",
     "text": [
      "[1.0, 1.0, 1.0, 1.0, 1.0, 1.0, 1.0, 1.0, 1.0, 1.0, 1.0, 1.0, 1.0, 1.0, 1.0, 1.0, 1.0, 1.0, 1.0]\n"
     ]
    },
    {
     "data": {
      "text/plain": [
       "[<matplotlib.lines.Line2D at 0x123ad72e0>]"
      ]
     },
     "execution_count": 286,
     "metadata": {},
     "output_type": "execute_result"
    },
    {
     "data": {
      "image/png": "[encoded data removed]",
      "text/plain": [
       "<Figure size 432x288 with 1 Axes>"
      ]
     },
     "metadata": {
      "needs_background": "light"
     },
     "output_type": "display_data"
    }
   ],
   "source": [
    "np.random.seed(42)\n",
    "data_xor_train = create_XOR(100,0.1)\n",
    "np.random.seed(86)\n",
    "data_xor_test = create_XOR(50,0.1)\n",
    "res = []\n",
    "for i in range(1,20):\n",
    "    a = KNN(i,euclidean_distance2,mean,data_xor_train[0], data_xor_train[1])\n",
    "    res.append(a.accuracy(data_xor_test[0],data_xor_test[1]))\n",
    "\n",
    "print(res)\n",
    "plt.plot(res)\n"
   ]
  },
  {
   "cell_type": "markdown",
   "metadata": {},
   "source": [
    "Expérimentations sur des datasets réels\n",
    "-------\n",
    "\n"
   ]
  },
  {
   "cell_type": "markdown",
   "metadata": {},
   "source": [
    "## Étape 5 : données réelles UCI\n",
    "\n",
    "Plusieurs datasets sont téléchargeables depuis: http://mldata.org\n",
    "\n",
    "Voir : https://scikit-learn.org/0.19/datasets/mldata.html\n",
    "\n",
    "Voici la fonction permettant de les charger (en spécifiant leur nom). La fonction se charge de charger les données depuis le web.\n"
   ]
  },
  {
   "cell_type": "code",
   "execution_count": 287,
   "metadata": {},
   "outputs": [],
   "source": [
    "# from sklearn.datasets import fetch_mldata\n",
    "\n",
    "# def loadFile(name):\n",
    "#     data = fetch_mldata(name, data_home='.')\n",
    "#     print(data.data.shape)\n",
    "#     unique=np.unique(data.target)\n",
    "#     for i in range(len(data.target)):\n",
    "#         if (data.target[i]==unique[0]):\n",
    "#             data.target[i]=1\n",
    "#         else:\n",
    "#             data.target[i]=-1\n",
    "            \n",
    "\n",
    "from sklearn.datasets import fetch_openml\n",
    "    \n",
    "def loadFile(name):\n",
    "          \n",
    "    data = fetch_openml(name, version=1, cache=True)\n",
    "    #data.target = data.target.astype(np.int8) # fetch_openml() returns targets as strings\n",
    "    #sort_by_target(data) # fetch_openml() returns an unsorted dataset\n",
    "    unique = np.unique(data.target)\n",
    "    for i in range(len(data.target)):\n",
    "        if (data.target[i]==unique[0]):\n",
    "            data.target[i]=1\n",
    "        else:\n",
    "            data.target[i]=-1\n",
    "    return data\n",
    "#Les donnees sont dans data.data et data.target\n",
    "data = loadFile(\"breast-w\")\n",
    "\n",
    "descs = data.data\n",
    "labels = data.target\n",
    "\n"
   ]
  },
  {
   "cell_type": "markdown",
   "metadata": {},
   "source": [
    "<font color=\"RED\" size=\"+1\">**[Q]**</font> Écrire la fonction `split` permettant de découper un labeledSet données en 2: un ensemble d'apprentissage et un ensemble de test."
   ]
  },
  {
   "cell_type": "code",
   "execution_count": 288,
   "metadata": {},
   "outputs": [],
   "source": [
    "def split(data_set):\n",
    "    slice1 = data_set[0:data_set.shape[0]//2]\n",
    "    slice2 = data_set[data_set.shape[0]//2+1:data_set.shape[0]]\n",
    "    return slice1, slice2"
   ]
  },
  {
   "cell_type": "markdown",
   "metadata": {},
   "source": [
    "<font color=\"RED\" size=\"+1\">**[Q]**</font> Tester différents k-NN , pour différentes valeurs de $k$, et tracer la courbe de performance (accuracy) pour les données d'apprentissage et les données de test."
   ]
  },
  {
   "cell_type": "markdown",
   "metadata": {
    "collapsed": true
   },
   "source": [
    "A partir de datasets trouvés sur le web, réaliser un ensemble d'expérimentations permettant de comparer les 3 classifiers (knn, perceptron de Rosenblatt et version kernélisée) que vous avez implémentés.\n",
    "\n",
    "Par exemple, vous pouvez utiliser les datasets suivants:\n",
    "- https://archive.ics.uci.edu/ml/datasets/Breast+Cancer+Coimbra\n",
    "- https://www.kaggle.com/uciml/indian-liver-patient-records\n",
    "- voir sur les données ouvertes de Paris : https://opendata.paris.fr/explore/?sort=modified\n",
    "\n",
    "Afin d'utiliser de tels jeux de données, il sera certainement nécessaire que vous réalisiez un prétraitement afin de pouvoir utiliser vos implémentations."
   ]
  },
  {
   "cell_type": "code",
   "execution_count": 289,
   "metadata": {},
   "outputs": [
    {
     "name": "stdout",
     "output_type": "stream",
     "text": [
      "Classification du dataset avec knn k=3:\n",
      "\t+5.0 +1.0 +1.0 +3.0 +2.0 +1.0 +1.0 +1.0 +1.0    : +1 ---> +1 \n",
      "\t+2.0 +1.0 +1.0 +1.0 +2.0 +1.0 +3.0 +1.0 +1.0    : +1 ---> +1 \n",
      "\t+3.0 +4.0 +5.0 +3.0 +7.0 +3.0 +4.0 +6.0 +1.0    : +1 ---> -1 \n",
      "\t+2.0 +7.0 +10.0 +10.0 +7.0 +10.0 +4.0 +9.0 +4.0    : -1 ---> -1 \n",
      "\t+1.0 +1.0 +1.0 +1.0 +2.0 +1.0 +2.0 +1.0 +1.0    : +1 ---> +1 \n",
      "\t+4.0 +1.0 +1.0 +1.0 +3.0 +1.0 +2.0 +2.0 +1.0    : +1 ---> +1 \n",
      "\t+5.0 +3.0 +3.0 +1.0 +3.0 +3.0 +3.0 +3.0 +3.0    : -1 ---> +1 \n",
      "\t+8.0 +10.0 +10.0 +7.0 +10.0 +10.0 +7.0 +3.0 +8.0    : -1 ---> -1 \n",
      "\t+8.0 +10.0 +5.0 +3.0 +8.0 +4.0 +4.0 +10.0 +3.0    : -1 ---> -1 \n",
      "\t+10.0 +3.0 +5.0 +4.0 +3.0 +7.0 +3.0 +5.0 +3.0    : -1 ---> -1 \n",
      "\t+6.0 +10.0 +10.0 +10.0 +10.0 +10.0 +8.0 +10.0 +10.0    : -1 ---> -1 \n",
      "\t+3.0 +10.0 +3.0 +10.0 +6.0 +10.0 +5.0 +1.0 +4.0    : -1 ---> -1 \n",
      "\t+3.0 +2.0 +2.0 +1.0 +4.0 +3.0 +2.0 +1.0 +1.0    : +1 ---> +1 \n",
      "\t+4.0 +4.0 +4.0 +2.0 +2.0 +3.0 +2.0 +1.0 +1.0    : +1 ---> +1 \n",
      "\t+2.0 +1.0 +1.0 +1.0 +2.0 +1.0 +3.0 +1.0 +1.0    : +1 ---> +1 \n",
      "\t+2.0 +1.0 +1.0 +1.0 +2.0 +1.0 +2.0 +1.0 +1.0    : +1 ---> +1 \n",
      "\t+6.0 +10.0 +10.0 +10.0 +8.0 +10.0 +7.0 +10.0 +7.0    : -1 ---> -1 \n",
      "\t+5.0 +8.0 +8.0 +10.0 +5.0 +10.0 +8.0 +10.0 +3.0    : -1 ---> -1 \n",
      "\t+1.0 +1.0 +3.0 +1.0 +2.0 +1.0 +1.0 +1.0 +1.0    : +1 ---> +1 \n",
      "\t+1.0 +1.0 +3.0 +1.0 +1.0 +1.0 +2.0 +1.0 +1.0    : +1 ---> +1 \n",
      "\t+4.0 +3.0 +2.0 +1.0 +3.0 +1.0 +2.0 +1.0 +1.0    : +1 ---> +1 \n",
      "\t+1.0 +1.0 +3.0 +1.0 +2.0 +1.0 +1.0 +1.0 +1.0    : +1 ---> +1 \n",
      "\t+4.0 +1.0 +2.0 +1.0 +2.0 +1.0 +2.0 +1.0 +1.0    : +1 ---> +1 \n",
      "\t+5.0 +1.0 +1.0 +2.0 +2.0 +1.0 +2.0 +1.0 +1.0    : +1 ---> +1 \n",
      "\t+3.0 +1.0 +2.0 +1.0 +2.0 +1.0 +2.0 +1.0 +1.0    : +1 ---> +1 \n",
      "\t+1.0 +1.0 +1.0 +1.0 +2.0 +1.0 +1.0 +1.0 +1.0    : +1 ---> +1 \n",
      "\t+1.0 +1.0 +1.0 +1.0 +2.0 +1.0 +2.0 +1.0 +1.0    : +1 ---> +1 \n",
      "\t+1.0 +1.0 +1.0 +1.0 +1.0 +1.0 +2.0 +1.0 +1.0    : +1 ---> +1 \n",
      "\t+3.0 +1.0 +1.0 +4.0 +3.0 +1.0 +2.0 +2.0 +1.0    : +1 ---> +1 \n",
      "\t+5.0 +3.0 +4.0 +1.0 +4.0 +1.0 +3.0 +1.0 +1.0    : +1 ---> +1 \n",
      "\t+1.0 +1.0 +1.0 +1.0 +2.0 +1.0 +1.0 +1.0 +1.0    : +1 ---> +1 \n",
      "\t+10.0 +6.0 +3.0 +6.0 +4.0 +10.0 +7.0 +8.0 +4.0    : -1 ---> -1 \n",
      "\t+3.0 +2.0 +2.0 +2.0 +2.0 +1.0 +3.0 +2.0 +1.0    : +1 ---> +1 \n",
      "\t+2.0 +1.0 +1.0 +1.0 +2.0 +1.0 +1.0 +1.0 +1.0    : +1 ---> +1 \n",
      "\t+2.0 +1.0 +1.0 +1.0 +2.0 +1.0 +1.0 +1.0 +1.0    : +1 ---> +1 \n",
      "\t+3.0 +3.0 +2.0 +2.0 +3.0 +1.0 +1.0 +2.0 +3.0    : +1 ---> +1 \n",
      "\t+7.0 +6.0 +6.0 +3.0 +2.0 +10.0 +7.0 +1.0 +1.0    : -1 ---> -1 \n",
      "\t+5.0 +3.0 +3.0 +2.0 +3.0 +1.0 +3.0 +1.0 +1.0    : +1 ---> +1 \n",
      "\t+2.0 +1.0 +1.0 +1.0 +2.0 +1.0 +2.0 +2.0 +1.0    : +1 ---> +1 \n",
      "\t+5.0 +1.0 +1.0 +1.0 +3.0 +2.0 +2.0 +2.0 +1.0    : +1 ---> +1 \n",
      "\t+1.0 +1.0 +1.0 +2.0 +2.0 +1.0 +2.0 +1.0 +1.0    : +1 ---> +1 \n",
      "\t+10.0 +8.0 +7.0 +4.0 +3.0 +10.0 +7.0 +9.0 +1.0    : -1 ---> -1 \n",
      "\t+3.0 +1.0 +1.0 +1.0 +2.0 +1.0 +2.0 +1.0 +1.0    : +1 ---> +1 \n",
      "\t+1.0 +1.0 +1.0 +1.0 +1.0 +1.0 +1.0 +1.0 +1.0    : +1 ---> +1 \n",
      "\t+1.0 +2.0 +3.0 +1.0 +2.0 +1.0 +2.0 +1.0 +1.0    : +1 ---> +1 \n",
      "\t+3.0 +1.0 +1.0 +1.0 +2.0 +1.0 +2.0 +1.0 +1.0    : +1 ---> +1 \n",
      "\t+3.0 +1.0 +1.0 +1.0 +2.0 +1.0 +3.0 +1.0 +1.0    : +1 ---> +1 \n",
      "\t+4.0 +1.0 +1.0 +1.0 +2.0 +1.0 +1.0 +1.0 +1.0    : +1 ---> +1 \n",
      "\t+3.0 +2.0 +1.0 +1.0 +2.0 +1.0 +2.0 +2.0 +1.0    : +1 ---> +1 \n",
      "\t+1.0 +2.0 +3.0 +1.0 +2.0 +1.0 +1.0 +1.0 +1.0    : +1 ---> +1 \n",
      "\t+3.0 +10.0 +8.0 +7.0 +6.0 +9.0 +9.0 +3.0 +8.0    : -1 ---> -1 \n",
      "\t+3.0 +1.0 +1.0 +1.0 +2.0 +1.0 +1.0 +1.0 +1.0    : +1 ---> +1 \n",
      "\t+5.0 +3.0 +3.0 +1.0 +2.0 +1.0 +2.0 +1.0 +1.0    : +1 ---> +1 \n",
      "\t+3.0 +1.0 +1.0 +1.0 +2.0 +4.0 +1.0 +1.0 +1.0    : +1 ---> +1 \n",
      "\t+1.0 +2.0 +1.0 +3.0 +2.0 +1.0 +1.0 +2.0 +1.0    : +1 ---> +1 \n",
      "\t+1.0 +1.0 +1.0 +1.0 +2.0 +1.0 +2.0 +1.0 +1.0    : +1 ---> +1 \n",
      "\t+4.0 +2.0 +2.0 +1.0 +2.0 +1.0 +2.0 +1.0 +1.0    : +1 ---> +1 \n",
      "\t+1.0 +1.0 +1.0 +1.0 +2.0 +1.0 +2.0 +1.0 +1.0    : +1 ---> +1 \n",
      "\t+2.0 +3.0 +2.0 +2.0 +2.0 +2.0 +3.0 +1.0 +1.0    : +1 ---> +1 \n",
      "\t+3.0 +1.0 +2.0 +1.0 +2.0 +1.0 +2.0 +1.0 +1.0    : +1 ---> +1 \n",
      "\t+1.0 +1.0 +1.0 +1.0 +2.0 +1.0 +2.0 +1.0 +1.0    : +1 ---> +1 \n",
      "\t+1.0 +1.0 +1.0 +1.0 +1.0 +nan +2.0 +1.0 +1.0    : +1 ---> +1 \n",
      "\t+10.0 +10.0 +10.0 +6.0 +8.0 +4.0 +8.0 +5.0 +1.0    : -1 ---> -1 \n",
      "\t+5.0 +1.0 +2.0 +1.0 +2.0 +1.0 +3.0 +1.0 +1.0    : +1 ---> +1 \n",
      "\t+8.0 +5.0 +6.0 +2.0 +3.0 +10.0 +6.0 +6.0 +1.0    : -1 ---> -1 \n",
      "\t+3.0 +3.0 +2.0 +6.0 +3.0 +3.0 +3.0 +5.0 +1.0    : +1 ---> -1 \n",
      "\t+8.0 +7.0 +8.0 +5.0 +10.0 +10.0 +7.0 +2.0 +1.0    : -1 ---> -1 \n",
      "\t+1.0 +1.0 +1.0 +1.0 +2.0 +1.0 +2.0 +1.0 +1.0    : +1 ---> +1 \n",
      "\t+5.0 +2.0 +2.0 +2.0 +2.0 +2.0 +3.0 +2.0 +2.0    : +1 ---> +1 \n",
      "\t+2.0 +3.0 +1.0 +1.0 +5.0 +1.0 +1.0 +1.0 +1.0    : +1 ---> +1 \n",
      "\t+3.0 +2.0 +2.0 +3.0 +2.0 +3.0 +3.0 +1.0 +1.0    : +1 ---> +1 \n",
      "\t+10.0 +10.0 +10.0 +7.0 +10.0 +10.0 +8.0 +2.0 +1.0    : -1 ---> -1 \n",
      "\t+4.0 +3.0 +3.0 +1.0 +2.0 +1.0 +3.0 +3.0 +1.0    : +1 ---> +1 \n",
      "\t+5.0 +1.0 +3.0 +1.0 +2.0 +1.0 +2.0 +1.0 +1.0    : +1 ---> +1 \n",
      "\t+3.0 +1.0 +1.0 +1.0 +2.0 +1.0 +1.0 +1.0 +1.0    : +1 ---> +1 \n",
      "\t+9.0 +10.0 +10.0 +10.0 +10.0 +10.0 +10.0 +10.0 +1.0    : -1 ---> -1 \n",
      "\t+5.0 +3.0 +6.0 +1.0 +2.0 +1.0 +1.0 +1.0 +1.0    : +1 ---> +1 \n",
      "\t+8.0 +7.0 +8.0 +2.0 +4.0 +2.0 +5.0 +10.0 +1.0    : -1 ---> -1 \n",
      "\t+1.0 +1.0 +1.0 +1.0 +2.0 +1.0 +2.0 +1.0 +1.0    : +1 ---> +1 \n",
      "\t+2.0 +1.0 +1.0 +1.0 +2.0 +1.0 +2.0 +1.0 +1.0    : +1 ---> +1 \n",
      "\t+1.0 +3.0 +1.0 +1.0 +2.0 +1.0 +2.0 +2.0 +1.0    : +1 ---> +1 \n",
      "\t+5.0 +1.0 +1.0 +3.0 +4.0 +1.0 +3.0 +2.0 +1.0    : +1 ---> +1 \n",
      "\t+5.0 +1.0 +1.0 +1.0 +2.0 +1.0 +2.0 +2.0 +1.0    : +1 ---> +1 \n",
      "\t+3.0 +2.0 +2.0 +3.0 +2.0 +1.0 +1.0 +1.0 +1.0    : +1 ---> +1 \n",
      "\t+6.0 +9.0 +7.0 +5.0 +5.0 +8.0 +4.0 +2.0 +1.0    : +1 ---> -1 \n",
      "\t+10.0 +8.0 +10.0 +1.0 +3.0 +10.0 +5.0 +1.0 +1.0    : -1 ---> -1 \n",
      "\t+10.0 +10.0 +10.0 +1.0 +6.0 +1.0 +2.0 +8.0 +1.0    : -1 ---> -1 \n",
      "\t+4.0 +1.0 +1.0 +1.0 +2.0 +1.0 +1.0 +1.0 +1.0    : +1 ---> +1 \n",
      "\t+4.0 +1.0 +3.0 +3.0 +2.0 +1.0 +1.0 +1.0 +1.0    : +1 ---> +1 \n",
      "\t+5.0 +1.0 +1.0 +1.0 +2.0 +1.0 +1.0 +1.0 +1.0    : +1 ---> +1 \n",
      "\t+10.0 +4.0 +3.0 +10.0 +4.0 +10.0 +10.0 +1.0 +1.0    : -1 ---> -1 \n",
      "\t+5.0 +2.0 +2.0 +4.0 +2.0 +4.0 +1.0 +1.0 +1.0    : +1 ---> +1 \n",
      "\t+1.0 +1.0 +1.0 +3.0 +2.0 +3.0 +1.0 +1.0 +1.0    : +1 ---> +1 \n",
      "\t+1.0 +1.0 +1.0 +1.0 +2.0 +2.0 +1.0 +1.0 +1.0    : +1 ---> +1 \n",
      "\t+5.0 +1.0 +1.0 +6.0 +3.0 +1.0 +2.0 +1.0 +1.0    : +1 ---> +1 \n",
      "\t+2.0 +1.0 +1.0 +1.0 +2.0 +1.0 +1.0 +1.0 +1.0    : +1 ---> +1 \n",
      "\t+1.0 +1.0 +1.0 +1.0 +2.0 +1.0 +1.0 +1.0 +1.0    : +1 ---> +1 \n",
      "\t+5.0 +1.0 +1.0 +1.0 +2.0 +1.0 +1.0 +1.0 +1.0    : +1 ---> +1 \n",
      "\t+1.0 +1.0 +1.0 +1.0 +1.0 +1.0 +1.0 +1.0 +1.0    : +1 ---> +1 \n",
      "\t+5.0 +7.0 +9.0 +8.0 +6.0 +10.0 +8.0 +10.0 +1.0    : -1 ---> -1 \n",
      "\t+4.0 +1.0 +1.0 +3.0 +1.0 +1.0 +2.0 +1.0 +1.0    : +1 ---> +1 \n",
      "\t+5.0 +1.0 +1.0 +1.0 +2.0 +1.0 +1.0 +1.0 +1.0    : +1 ---> +1 \n",
      "\t+3.0 +1.0 +1.0 +3.0 +2.0 +1.0 +1.0 +1.0 +1.0    : +1 ---> +1 \n",
      "\t+4.0 +5.0 +5.0 +8.0 +6.0 +10.0 +10.0 +7.0 +1.0    : -1 ---> -1 \n",
      "\t+2.0 +3.0 +1.0 +1.0 +3.0 +1.0 +1.0 +1.0 +1.0    : +1 ---> +1 \n",
      "\t+10.0 +2.0 +2.0 +1.0 +2.0 +6.0 +1.0 +1.0 +2.0    : -1 ---> +1 \n",
      "\t+10.0 +6.0 +5.0 +8.0 +5.0 +10.0 +8.0 +6.0 +1.0    : -1 ---> -1 \n",
      "\t+8.0 +8.0 +9.0 +6.0 +6.0 +3.0 +10.0 +10.0 +1.0    : -1 ---> -1 \n",
      "\t+5.0 +1.0 +2.0 +1.0 +2.0 +1.0 +1.0 +1.0 +1.0    : +1 ---> +1 \n",
      "\t+5.0 +1.0 +3.0 +1.0 +2.0 +1.0 +1.0 +1.0 +1.0    : +1 ---> +1 \n",
      "\t+5.0 +1.0 +1.0 +3.0 +2.0 +1.0 +1.0 +1.0 +1.0    : +1 ---> +1 \n",
      "\t+3.0 +1.0 +1.0 +1.0 +2.0 +5.0 +1.0 +1.0 +1.0    : +1 ---> +1 \n",
      "\t+6.0 +1.0 +1.0 +3.0 +2.0 +1.0 +1.0 +1.0 +1.0    : +1 ---> +1 \n",
      "\t+4.0 +1.0 +1.0 +1.0 +2.0 +1.0 +1.0 +2.0 +1.0    : +1 ---> +1 \n",
      "\t+4.0 +1.0 +1.0 +1.0 +2.0 +1.0 +1.0 +1.0 +1.0    : +1 ---> +1 \n",
      "\t+10.0 +9.0 +8.0 +7.0 +6.0 +4.0 +7.0 +10.0 +3.0    : -1 ---> -1 \n",
      "\t+10.0 +6.0 +6.0 +2.0 +4.0 +10.0 +9.0 +7.0 +1.0    : -1 ---> -1 \n",
      "\t+6.0 +6.0 +6.0 +5.0 +4.0 +10.0 +7.0 +6.0 +2.0    : -1 ---> -1 \n",
      "\t+4.0 +1.0 +1.0 +1.0 +2.0 +1.0 +1.0 +1.0 +1.0    : +1 ---> +1 \n",
      "\t+1.0 +1.0 +2.0 +1.0 +2.0 +1.0 +2.0 +1.0 +1.0    : +1 ---> +1 \n",
      "\t+3.0 +1.0 +1.0 +1.0 +1.0 +1.0 +2.0 +1.0 +1.0    : +1 ---> +1 \n",
      "\t+6.0 +1.0 +1.0 +3.0 +2.0 +1.0 +1.0 +1.0 +1.0    : +1 ---> +1 \n",
      "\t+6.0 +1.0 +1.0 +1.0 +1.0 +1.0 +1.0 +1.0 +1.0    : +1 ---> +1 \n",
      "\t+4.0 +1.0 +1.0 +1.0 +2.0 +1.0 +1.0 +1.0 +1.0    : +1 ---> +1 \n",
      "\t+5.0 +1.0 +1.0 +1.0 +2.0 +1.0 +1.0 +1.0 +1.0    : +1 ---> +1 \n",
      "\t+3.0 +1.0 +1.0 +1.0 +2.0 +1.0 +1.0 +1.0 +1.0    : +1 ---> +1 \n",
      "\t+4.0 +1.0 +2.0 +1.0 +2.0 +1.0 +1.0 +1.0 +1.0    : +1 ---> +1 \n",
      "\t+4.0 +1.0 +1.0 +1.0 +2.0 +1.0 +1.0 +1.0 +1.0    : +1 ---> +1 \n",
      "\t+5.0 +2.0 +1.0 +1.0 +2.0 +1.0 +1.0 +1.0 +1.0    : +1 ---> +1 \n",
      "\t+4.0 +8.0 +7.0 +10.0 +4.0 +10.0 +7.0 +5.0 +1.0    : -1 ---> -1 \n",
      "\t+5.0 +1.0 +1.0 +1.0 +1.0 +1.0 +1.0 +1.0 +1.0    : +1 ---> +1 \n",
      "\t+5.0 +3.0 +2.0 +4.0 +2.0 +1.0 +1.0 +1.0 +1.0    : +1 ---> +1 \n",
      "\t+9.0 +10.0 +10.0 +10.0 +10.0 +5.0 +10.0 +10.0 +10.0    : -1 ---> -1 \n",
      "\t+8.0 +7.0 +8.0 +5.0 +5.0 +10.0 +9.0 +10.0 +1.0    : -1 ---> -1 \n",
      "\t+5.0 +1.0 +2.0 +1.0 +2.0 +1.0 +1.0 +1.0 +1.0    : +1 ---> +1 \n",
      "\t+1.0 +1.0 +1.0 +3.0 +1.0 +3.0 +1.0 +1.0 +1.0    : +1 ---> +1 \n",
      "\t+3.0 +1.0 +1.0 +1.0 +1.0 +1.0 +2.0 +1.0 +1.0    : +1 ---> +1 \n",
      "\t+10.0 +10.0 +10.0 +10.0 +6.0 +10.0 +8.0 +1.0 +5.0    : -1 ---> -1 \n",
      "\t+3.0 +6.0 +4.0 +10.0 +3.0 +3.0 +3.0 +4.0 +1.0    : -1 ---> -1 \n",
      "\t+6.0 +3.0 +2.0 +1.0 +3.0 +4.0 +4.0 +1.0 +1.0    : -1 ---> +1 \n",
      "\t+1.0 +1.0 +1.0 +1.0 +2.0 +1.0 +1.0 +1.0 +1.0    : +1 ---> +1 \n",
      "\t+5.0 +8.0 +9.0 +4.0 +3.0 +10.0 +7.0 +1.0 +1.0    : -1 ---> -1 \n",
      "\t+4.0 +1.0 +1.0 +1.0 +1.0 +1.0 +2.0 +1.0 +1.0    : +1 ---> +1 \n",
      "\t+5.0 +10.0 +10.0 +10.0 +6.0 +10.0 +6.0 +5.0 +2.0    : -1 ---> -1 \n",
      "\t+5.0 +1.0 +2.0 +10.0 +4.0 +5.0 +2.0 +1.0 +1.0    : +1 ---> -1 \n",
      "\t+3.0 +1.0 +1.0 +1.0 +1.0 +1.0 +2.0 +1.0 +1.0    : +1 ---> +1 \n",
      "\t+1.0 +1.0 +1.0 +1.0 +1.0 +1.0 +1.0 +1.0 +1.0    : +1 ---> +1 \n"
     ]
    },
    {
     "name": "stdout",
     "output_type": "stream",
     "text": [
      "\t+4.0 +2.0 +1.0 +1.0 +2.0 +1.0 +1.0 +1.0 +1.0    : +1 ---> +1 \n",
      "\t+4.0 +1.0 +1.0 +1.0 +2.0 +1.0 +2.0 +1.0 +1.0    : +1 ---> +1 \n",
      "\t+4.0 +1.0 +1.0 +1.0 +2.0 +1.0 +2.0 +1.0 +1.0    : +1 ---> +1 \n",
      "\t+6.0 +1.0 +1.0 +1.0 +2.0 +1.0 +3.0 +1.0 +1.0    : +1 ---> +1 \n",
      "\t+4.0 +1.0 +1.0 +1.0 +2.0 +1.0 +2.0 +1.0 +1.0    : +1 ---> +1 \n",
      "\t+4.0 +1.0 +1.0 +2.0 +2.0 +1.0 +2.0 +1.0 +1.0    : +1 ---> +1 \n",
      "\t+4.0 +1.0 +1.0 +1.0 +2.0 +1.0 +3.0 +1.0 +1.0    : +1 ---> +1 \n",
      "\t+1.0 +1.0 +1.0 +1.0 +2.0 +1.0 +1.0 +1.0 +1.0    : +1 ---> +1 \n",
      "\t+3.0 +3.0 +1.0 +1.0 +2.0 +1.0 +1.0 +1.0 +1.0    : +1 ---> +1 \n",
      "\t+8.0 +10.0 +10.0 +10.0 +7.0 +5.0 +4.0 +8.0 +7.0    : -1 ---> -1 \n",
      "\t+1.0 +1.0 +1.0 +1.0 +2.0 +4.0 +1.0 +1.0 +1.0    : +1 ---> +1 \n",
      "\t+5.0 +1.0 +1.0 +1.0 +2.0 +1.0 +1.0 +1.0 +1.0    : +1 ---> +1 \n",
      "\t+2.0 +1.0 +1.0 +1.0 +2.0 +1.0 +1.0 +1.0 +1.0    : +1 ---> +1 \n",
      "\t+1.0 +1.0 +1.0 +1.0 +2.0 +1.0 +1.0 +1.0 +1.0    : +1 ---> +1 \n",
      "\t+5.0 +1.0 +1.0 +1.0 +2.0 +1.0 +2.0 +1.0 +1.0    : +1 ---> +1 \n",
      "\t+5.0 +1.0 +1.0 +1.0 +2.0 +1.0 +1.0 +1.0 +1.0    : +1 ---> +1 \n",
      "\t+3.0 +1.0 +1.0 +1.0 +1.0 +1.0 +2.0 +1.0 +1.0    : +1 ---> +1 \n",
      "\t+6.0 +6.0 +7.0 +10.0 +3.0 +10.0 +8.0 +10.0 +2.0    : -1 ---> -1 \n",
      "\t+4.0 +10.0 +4.0 +7.0 +3.0 +10.0 +9.0 +10.0 +1.0    : -1 ---> -1 \n",
      "\t+1.0 +1.0 +1.0 +1.0 +1.0 +1.0 +1.0 +1.0 +1.0    : +1 ---> +1 \n",
      "\t+1.0 +1.0 +1.0 +1.0 +1.0 +1.0 +2.0 +1.0 +1.0    : +1 ---> +1 \n",
      "\t+3.0 +1.0 +2.0 +2.0 +2.0 +1.0 +1.0 +1.0 +1.0    : +1 ---> +1 \n",
      "\t+4.0 +7.0 +8.0 +3.0 +4.0 +10.0 +9.0 +1.0 +1.0    : -1 ---> -1 \n",
      "\t+1.0 +1.0 +1.0 +1.0 +3.0 +1.0 +1.0 +1.0 +1.0    : +1 ---> +1 \n",
      "\t+4.0 +1.0 +1.0 +1.0 +3.0 +1.0 +1.0 +1.0 +1.0    : +1 ---> +1 \n",
      "\t+10.0 +4.0 +5.0 +4.0 +3.0 +5.0 +7.0 +3.0 +1.0    : -1 ---> -1 \n",
      "\t+7.0 +5.0 +6.0 +10.0 +4.0 +10.0 +5.0 +3.0 +1.0    : -1 ---> -1 \n",
      "\t+3.0 +1.0 +1.0 +1.0 +2.0 +1.0 +2.0 +1.0 +1.0    : +1 ---> +1 \n",
      "\t+3.0 +1.0 +1.0 +2.0 +2.0 +1.0 +1.0 +1.0 +1.0    : +1 ---> +1 \n",
      "\t+4.0 +1.0 +1.0 +1.0 +2.0 +1.0 +1.0 +1.0 +1.0    : +1 ---> +1 \n",
      "\t+4.0 +1.0 +1.0 +1.0 +2.0 +1.0 +3.0 +1.0 +1.0    : +1 ---> +1 \n",
      "\t+6.0 +1.0 +3.0 +2.0 +2.0 +1.0 +1.0 +1.0 +1.0    : +1 ---> +1 \n",
      "\t+4.0 +1.0 +1.0 +1.0 +1.0 +1.0 +2.0 +1.0 +1.0    : +1 ---> +1 \n",
      "\t+7.0 +4.0 +4.0 +3.0 +4.0 +10.0 +6.0 +9.0 +1.0    : -1 ---> -1 \n",
      "\t+4.0 +2.0 +2.0 +1.0 +2.0 +1.0 +2.0 +1.0 +1.0    : +1 ---> +1 \n",
      "\t+1.0 +1.0 +1.0 +1.0 +1.0 +1.0 +3.0 +1.0 +1.0    : +1 ---> +1 \n",
      "\t+3.0 +1.0 +1.0 +1.0 +2.0 +1.0 +2.0 +1.0 +1.0    : +1 ---> +1 \n",
      "\t+2.0 +1.0 +1.0 +1.0 +2.0 +1.0 +2.0 +1.0 +1.0    : +1 ---> +1 \n",
      "\t+1.0 +1.0 +3.0 +2.0 +2.0 +1.0 +3.0 +1.0 +1.0    : +1 ---> +1 \n",
      "\t+5.0 +1.0 +1.0 +1.0 +2.0 +1.0 +3.0 +1.0 +1.0    : +1 ---> +1 \n",
      "\t+5.0 +1.0 +2.0 +1.0 +2.0 +1.0 +3.0 +1.0 +1.0    : +1 ---> +1 \n",
      "\t+4.0 +1.0 +1.0 +1.0 +2.0 +1.0 +2.0 +1.0 +1.0    : +1 ---> +1 \n",
      "\t+6.0 +1.0 +1.0 +1.0 +2.0 +1.0 +2.0 +1.0 +1.0    : +1 ---> +1 \n",
      "\t+5.0 +1.0 +1.0 +1.0 +2.0 +2.0 +2.0 +1.0 +1.0    : +1 ---> +1 \n",
      "\t+3.0 +1.0 +1.0 +1.0 +2.0 +1.0 +1.0 +1.0 +1.0    : +1 ---> +1 \n",
      "\t+5.0 +3.0 +1.0 +1.0 +2.0 +1.0 +1.0 +1.0 +1.0    : +1 ---> +1 \n",
      "\t+4.0 +1.0 +1.0 +1.0 +2.0 +1.0 +2.0 +1.0 +1.0    : +1 ---> +1 \n",
      "\t+2.0 +1.0 +3.0 +2.0 +2.0 +1.0 +2.0 +1.0 +1.0    : +1 ---> +1 \n",
      "\t+5.0 +1.0 +1.0 +1.0 +2.0 +1.0 +2.0 +1.0 +1.0    : +1 ---> +1 \n",
      "\t+6.0 +10.0 +10.0 +10.0 +4.0 +10.0 +7.0 +10.0 +1.0    : -1 ---> -1 \n",
      "\t+2.0 +1.0 +1.0 +1.0 +1.0 +1.0 +1.0 +1.0 +1.0    : +1 ---> +1 \n",
      "\t+3.0 +1.0 +1.0 +1.0 +1.0 +1.0 +1.0 +1.0 +1.0    : +1 ---> +1 \n",
      "\t+7.0 +8.0 +3.0 +7.0 +4.0 +5.0 +7.0 +8.0 +2.0    : -1 ---> -1 \n",
      "\t+3.0 +1.0 +1.0 +1.0 +2.0 +1.0 +2.0 +1.0 +1.0    : +1 ---> +1 \n",
      "\t+1.0 +1.0 +1.0 +1.0 +2.0 +1.0 +3.0 +1.0 +1.0    : +1 ---> +1 \n",
      "\t+3.0 +2.0 +2.0 +2.0 +2.0 +1.0 +4.0 +2.0 +1.0    : +1 ---> +1 \n",
      "\t+4.0 +4.0 +2.0 +1.0 +2.0 +5.0 +2.0 +1.0 +2.0    : +1 ---> +1 \n",
      "\t+3.0 +1.0 +1.0 +1.0 +2.0 +1.0 +1.0 +1.0 +1.0    : +1 ---> +1 \n",
      "\t+4.0 +3.0 +1.0 +1.0 +2.0 +1.0 +4.0 +8.0 +1.0    : +1 ---> +1 \n",
      "\t+5.0 +2.0 +2.0 +2.0 +1.0 +1.0 +2.0 +1.0 +1.0    : +1 ---> +1 \n",
      "\t+5.0 +1.0 +1.0 +3.0 +2.0 +1.0 +1.0 +1.0 +1.0    : +1 ---> +1 \n",
      "\t+2.0 +1.0 +1.0 +1.0 +2.0 +1.0 +2.0 +1.0 +1.0    : +1 ---> +1 \n",
      "\t+5.0 +1.0 +1.0 +1.0 +2.0 +1.0 +2.0 +1.0 +1.0    : +1 ---> +1 \n",
      "\t+5.0 +1.0 +1.0 +1.0 +2.0 +1.0 +3.0 +1.0 +1.0    : +1 ---> +1 \n",
      "\t+5.0 +1.0 +1.0 +1.0 +2.0 +1.0 +3.0 +1.0 +1.0    : +1 ---> +1 \n",
      "\t+1.0 +1.0 +1.0 +1.0 +2.0 +1.0 +3.0 +1.0 +1.0    : +1 ---> +1 \n",
      "\t+3.0 +1.0 +1.0 +1.0 +2.0 +1.0 +2.0 +1.0 +1.0    : +1 ---> +1 \n",
      "\t+4.0 +1.0 +1.0 +1.0 +2.0 +1.0 +3.0 +2.0 +1.0    : +1 ---> +1 \n",
      "\t+5.0 +7.0 +10.0 +10.0 +5.0 +10.0 +10.0 +10.0 +1.0    : -1 ---> -1 \n",
      "\t+3.0 +1.0 +2.0 +1.0 +2.0 +1.0 +3.0 +1.0 +1.0    : +1 ---> +1 \n",
      "\t+4.0 +1.0 +1.0 +1.0 +2.0 +3.0 +2.0 +1.0 +1.0    : +1 ---> +1 \n",
      "\t+8.0 +4.0 +4.0 +1.0 +6.0 +10.0 +2.0 +5.0 +2.0    : -1 ---> -1 \n",
      "\t+10.0 +10.0 +8.0 +10.0 +6.0 +5.0 +10.0 +3.0 +1.0    : -1 ---> -1 \n",
      "\t+8.0 +10.0 +4.0 +4.0 +8.0 +10.0 +8.0 +2.0 +1.0    : -1 ---> -1 \n",
      "\t+7.0 +6.0 +10.0 +5.0 +3.0 +10.0 +9.0 +10.0 +2.0    : -1 ---> -1 \n",
      "\t+3.0 +1.0 +1.0 +1.0 +2.0 +1.0 +2.0 +1.0 +1.0    : +1 ---> +1 \n",
      "\t+1.0 +1.0 +1.0 +1.0 +2.0 +1.0 +2.0 +1.0 +1.0    : +1 ---> +1 \n",
      "\t+10.0 +9.0 +7.0 +3.0 +4.0 +2.0 +7.0 +7.0 +1.0    : -1 ---> -1 \n",
      "\t+5.0 +1.0 +2.0 +1.0 +2.0 +1.0 +3.0 +1.0 +1.0    : +1 ---> +1 \n",
      "\t+5.0 +1.0 +1.0 +1.0 +2.0 +1.0 +2.0 +1.0 +1.0    : +1 ---> +1 \n",
      "\t+1.0 +1.0 +1.0 +1.0 +2.0 +1.0 +2.0 +1.0 +1.0    : +1 ---> +1 \n",
      "\t+1.0 +1.0 +1.0 +1.0 +2.0 +1.0 +2.0 +1.0 +1.0    : +1 ---> +1 \n",
      "\t+1.0 +1.0 +1.0 +1.0 +2.0 +1.0 +3.0 +1.0 +1.0    : +1 ---> +1 \n",
      "\t+5.0 +1.0 +2.0 +1.0 +2.0 +1.0 +2.0 +1.0 +1.0    : +1 ---> +1 \n",
      "\t+5.0 +7.0 +10.0 +6.0 +5.0 +10.0 +7.0 +5.0 +1.0    : -1 ---> -1 \n",
      "\t+6.0 +10.0 +5.0 +5.0 +4.0 +10.0 +6.0 +10.0 +1.0    : -1 ---> -1 \n",
      "\t+3.0 +1.0 +1.0 +1.0 +2.0 +1.0 +1.0 +1.0 +1.0    : +1 ---> +1 \n",
      "\t+5.0 +1.0 +1.0 +6.0 +3.0 +1.0 +1.0 +1.0 +1.0    : +1 ---> +1 \n",
      "\t+1.0 +1.0 +1.0 +1.0 +2.0 +1.0 +1.0 +1.0 +1.0    : +1 ---> +1 \n",
      "\t+8.0 +10.0 +10.0 +10.0 +6.0 +10.0 +10.0 +10.0 +1.0    : -1 ---> -1 \n",
      "\t+5.0 +1.0 +1.0 +1.0 +2.0 +1.0 +2.0 +2.0 +1.0    : +1 ---> +1 \n",
      "\t+9.0 +8.0 +8.0 +9.0 +6.0 +3.0 +4.0 +1.0 +1.0    : -1 ---> -1 \n",
      "\t+5.0 +1.0 +1.0 +1.0 +2.0 +1.0 +1.0 +1.0 +1.0    : +1 ---> +1 \n",
      "\t+4.0 +10.0 +8.0 +5.0 +4.0 +1.0 +10.0 +1.0 +1.0    : -1 ---> -1 \n",
      "\t+2.0 +5.0 +7.0 +6.0 +4.0 +10.0 +7.0 +6.0 +1.0    : -1 ---> -1 \n",
      "\t+10.0 +3.0 +4.0 +5.0 +3.0 +10.0 +4.0 +1.0 +1.0    : -1 ---> -1 \n",
      "\t+5.0 +1.0 +2.0 +1.0 +2.0 +1.0 +1.0 +1.0 +1.0    : +1 ---> +1 \n",
      "\t+4.0 +8.0 +6.0 +3.0 +4.0 +10.0 +7.0 +1.0 +1.0    : -1 ---> -1 \n",
      "\t+5.0 +1.0 +1.0 +1.0 +2.0 +1.0 +2.0 +1.0 +1.0    : +1 ---> +1 \n",
      "\t+4.0 +1.0 +2.0 +1.0 +2.0 +1.0 +2.0 +1.0 +1.0    : +1 ---> +1 \n",
      "\t+5.0 +1.0 +3.0 +1.0 +2.0 +1.0 +3.0 +1.0 +1.0    : +1 ---> +1 \n",
      "\t+3.0 +1.0 +1.0 +1.0 +2.0 +1.0 +2.0 +1.0 +1.0    : +1 ---> +1 \n",
      "\t+5.0 +2.0 +4.0 +1.0 +1.0 +1.0 +1.0 +1.0 +1.0    : +1 ---> +1 \n",
      "\t+3.0 +1.0 +1.0 +1.0 +2.0 +1.0 +2.0 +1.0 +1.0    : +1 ---> +1 \n",
      "\t+1.0 +1.0 +1.0 +1.0 +1.0 +1.0 +2.0 +1.0 +1.0    : +1 ---> +1 \n",
      "\t+4.0 +1.0 +1.0 +1.0 +2.0 +1.0 +2.0 +1.0 +1.0    : +1 ---> +1 \n",
      "\t+5.0 +4.0 +6.0 +8.0 +4.0 +1.0 +8.0 +10.0 +1.0    : -1 ---> -1 \n",
      "\t+5.0 +3.0 +2.0 +8.0 +5.0 +10.0 +8.0 +1.0 +2.0    : -1 ---> -1 \n",
      "\t+10.0 +5.0 +10.0 +3.0 +5.0 +8.0 +7.0 +8.0 +3.0    : -1 ---> -1 \n",
      "\t+4.0 +1.0 +1.0 +2.0 +2.0 +1.0 +1.0 +1.0 +1.0    : +1 ---> +1 \n",
      "\t+1.0 +1.0 +1.0 +1.0 +2.0 +1.0 +1.0 +1.0 +1.0    : +1 ---> +1 \n",
      "\t+5.0 +10.0 +10.0 +10.0 +10.0 +10.0 +10.0 +1.0 +1.0    : -1 ---> -1 \n",
      "\t+5.0 +1.0 +1.0 +1.0 +2.0 +1.0 +1.0 +1.0 +1.0    : +1 ---> +1 \n",
      "\t+10.0 +4.0 +3.0 +10.0 +3.0 +10.0 +7.0 +1.0 +2.0    : -1 ---> -1 \n",
      "\t+5.0 +10.0 +10.0 +10.0 +5.0 +2.0 +8.0 +5.0 +1.0    : -1 ---> -1 \n",
      "\t+8.0 +10.0 +10.0 +10.0 +6.0 +10.0 +10.0 +10.0 +10.0    : -1 ---> -1 \n",
      "\t+2.0 +3.0 +1.0 +1.0 +2.0 +1.0 +2.0 +1.0 +1.0    : +1 ---> +1 \n",
      "\t+2.0 +1.0 +1.0 +1.0 +1.0 +1.0 +2.0 +1.0 +1.0    : +1 ---> +1 \n",
      "\t+4.0 +1.0 +3.0 +1.0 +2.0 +1.0 +2.0 +1.0 +1.0    : +1 ---> +1 \n",
      "\t+3.0 +1.0 +1.0 +1.0 +2.0 +1.0 +2.0 +1.0 +1.0    : +1 ---> +1 \n",
      "\t+1.0 +1.0 +1.0 +1.0 +1.0 +nan +1.0 +1.0 +1.0    : +1 ---> +1 \n",
      "\t+4.0 +1.0 +1.0 +1.0 +2.0 +1.0 +2.0 +1.0 +1.0    : +1 ---> +1 \n",
      "\t+5.0 +1.0 +1.0 +1.0 +2.0 +1.0 +2.0 +1.0 +1.0    : +1 ---> +1 \n",
      "\t+3.0 +1.0 +1.0 +1.0 +2.0 +1.0 +2.0 +1.0 +1.0    : +1 ---> +1 \n",
      "\t+6.0 +3.0 +3.0 +3.0 +3.0 +2.0 +6.0 +1.0 +1.0    : +1 ---> +1 \n",
      "\t+7.0 +1.0 +2.0 +3.0 +2.0 +1.0 +2.0 +1.0 +1.0    : +1 ---> +1 \n",
      "\t+1.0 +1.0 +1.0 +1.0 +2.0 +1.0 +1.0 +1.0 +1.0    : +1 ---> +1 \n",
      "\t+5.0 +1.0 +1.0 +2.0 +1.0 +1.0 +2.0 +1.0 +1.0    : +1 ---> +1 \n",
      "\t+3.0 +1.0 +3.0 +1.0 +3.0 +4.0 +1.0 +1.0 +1.0    : +1 ---> +1 \n",
      "\t+4.0 +6.0 +6.0 +5.0 +7.0 +6.0 +7.0 +7.0 +3.0    : -1 ---> -1 \n",
      "\t+2.0 +1.0 +1.0 +1.0 +2.0 +5.0 +1.0 +1.0 +1.0    : +1 ---> +1 \n",
      "\t+2.0 +1.0 +1.0 +1.0 +2.0 +1.0 +1.0 +1.0 +1.0    : +1 ---> +1 \n",
      "\t+4.0 +1.0 +1.0 +1.0 +2.0 +1.0 +1.0 +1.0 +1.0    : +1 ---> +1 \n",
      "\t+6.0 +2.0 +3.0 +1.0 +2.0 +1.0 +1.0 +1.0 +1.0    : +1 ---> +1 \n",
      "\t+5.0 +1.0 +1.0 +1.0 +2.0 +1.0 +2.0 +1.0 +1.0    : +1 ---> +1 \n",
      "\t+1.0 +1.0 +1.0 +1.0 +2.0 +1.0 +1.0 +1.0 +1.0    : +1 ---> +1 \n"
     ]
    },
    {
     "name": "stdout",
     "output_type": "stream",
     "text": [
      "\t+8.0 +7.0 +4.0 +4.0 +5.0 +3.0 +5.0 +10.0 +1.0    : -1 ---> -1 \n",
      "\t+3.0 +1.0 +1.0 +1.0 +2.0 +1.0 +1.0 +1.0 +1.0    : +1 ---> +1 \n",
      "\t+3.0 +1.0 +4.0 +1.0 +2.0 +1.0 +1.0 +1.0 +1.0    : +1 ---> +1 \n",
      "\t+10.0 +10.0 +7.0 +8.0 +7.0 +1.0 +10.0 +10.0 +3.0    : -1 ---> -1 \n",
      "\t+4.0 +2.0 +4.0 +3.0 +2.0 +2.0 +2.0 +1.0 +1.0    : +1 ---> +1 \n",
      "\t+4.0 +1.0 +1.0 +1.0 +2.0 +1.0 +1.0 +1.0 +1.0    : +1 ---> +1 \n",
      "\t+5.0 +1.0 +1.0 +3.0 +2.0 +1.0 +1.0 +1.0 +1.0    : +1 ---> +1 \n",
      "\t+4.0 +1.0 +1.0 +3.0 +2.0 +1.0 +1.0 +1.0 +1.0    : +1 ---> +1 \n",
      "\t+3.0 +1.0 +1.0 +1.0 +2.0 +1.0 +2.0 +1.0 +1.0    : +1 ---> +1 \n",
      "\t+3.0 +1.0 +1.0 +1.0 +2.0 +1.0 +2.0 +1.0 +1.0    : +1 ---> +1 \n",
      "\t+1.0 +1.0 +1.0 +1.0 +2.0 +1.0 +1.0 +1.0 +1.0    : +1 ---> +1 \n",
      "\t+2.0 +1.0 +1.0 +1.0 +2.0 +1.0 +1.0 +1.0 +1.0    : +1 ---> +1 \n",
      "\t+3.0 +1.0 +1.0 +1.0 +2.0 +1.0 +2.0 +1.0 +1.0    : +1 ---> +1 \n",
      "\t+1.0 +2.0 +2.0 +1.0 +2.0 +1.0 +1.0 +1.0 +1.0    : +1 ---> +1 \n",
      "\t+1.0 +1.0 +1.0 +3.0 +2.0 +1.0 +1.0 +1.0 +1.0    : +1 ---> +1 \n",
      "\t+5.0 +10.0 +10.0 +10.0 +10.0 +2.0 +10.0 +10.0 +10.0    : -1 ---> -1 \n",
      "\t+3.0 +1.0 +1.0 +1.0 +2.0 +1.0 +2.0 +1.0 +1.0    : +1 ---> +1 \n",
      "\t+3.0 +1.0 +1.0 +2.0 +3.0 +4.0 +1.0 +1.0 +1.0    : +1 ---> +1 \n",
      "\t+1.0 +2.0 +1.0 +3.0 +2.0 +1.0 +2.0 +1.0 +1.0    : +1 ---> +1 \n",
      "\t+5.0 +1.0 +1.0 +1.0 +2.0 +1.0 +2.0 +2.0 +1.0    : +1 ---> +1 \n",
      "\t+4.0 +1.0 +1.0 +1.0 +2.0 +1.0 +2.0 +1.0 +1.0    : +1 ---> +1 \n",
      "\t+3.0 +1.0 +1.0 +1.0 +2.0 +1.0 +3.0 +1.0 +1.0    : +1 ---> +1 \n",
      "\t+3.0 +1.0 +1.0 +1.0 +2.0 +1.0 +2.0 +1.0 +1.0    : +1 ---> +1 \n",
      "\t+5.0 +1.0 +1.0 +1.0 +2.0 +1.0 +2.0 +1.0 +1.0    : +1 ---> +1 \n",
      "\t+5.0 +4.0 +5.0 +1.0 +8.0 +1.0 +3.0 +6.0 +1.0    : +1 ---> -1 \n",
      "\t+7.0 +8.0 +8.0 +7.0 +3.0 +10.0 +7.0 +2.0 +3.0    : -1 ---> -1 \n",
      "\t+1.0 +1.0 +1.0 +1.0 +2.0 +1.0 +1.0 +1.0 +1.0    : +1 ---> +1 \n",
      "\t+1.0 +1.0 +1.0 +1.0 +2.0 +1.0 +2.0 +1.0 +1.0    : +1 ---> +1 \n",
      "\t+4.0 +1.0 +1.0 +1.0 +2.0 +1.0 +3.0 +1.0 +1.0    : +1 ---> +1 \n",
      "\t+1.0 +1.0 +3.0 +1.0 +2.0 +1.0 +2.0 +1.0 +1.0    : +1 ---> +1 \n",
      "\t+1.0 +1.0 +3.0 +1.0 +2.0 +1.0 +2.0 +1.0 +1.0    : +1 ---> +1 \n",
      "\t+3.0 +1.0 +1.0 +3.0 +2.0 +1.0 +2.0 +1.0 +1.0    : +1 ---> +1 \n",
      "\t+1.0 +1.0 +1.0 +1.0 +2.0 +1.0 +1.0 +1.0 +1.0    : +1 ---> +1 \n",
      "\t+5.0 +2.0 +2.0 +2.0 +2.0 +1.0 +1.0 +1.0 +2.0    : +1 ---> +1 \n",
      "\t+3.0 +1.0 +1.0 +1.0 +2.0 +1.0 +3.0 +1.0 +1.0    : +1 ---> +1 \n",
      "\t+5.0 +7.0 +4.0 +1.0 +6.0 +1.0 +7.0 +10.0 +3.0    : -1 ---> +1 \n",
      "\t+5.0 +10.0 +10.0 +8.0 +5.0 +5.0 +7.0 +10.0 +1.0    : -1 ---> -1 \n",
      "\t+3.0 +10.0 +7.0 +8.0 +5.0 +8.0 +7.0 +4.0 +1.0    : -1 ---> -1 \n",
      "\t+3.0 +2.0 +1.0 +2.0 +2.0 +1.0 +3.0 +1.0 +1.0    : +1 ---> +1 \n",
      "\t+2.0 +1.0 +1.0 +1.0 +2.0 +1.0 +3.0 +1.0 +1.0    : +1 ---> +1 \n",
      "\t+5.0 +3.0 +2.0 +1.0 +3.0 +1.0 +1.0 +1.0 +1.0    : +1 ---> +1 \n",
      "\t+1.0 +1.0 +1.0 +1.0 +2.0 +1.0 +2.0 +1.0 +1.0    : +1 ---> +1 \n",
      "\t+4.0 +1.0 +4.0 +1.0 +2.0 +1.0 +1.0 +1.0 +1.0    : +1 ---> +1 \n",
      "\t+1.0 +1.0 +2.0 +1.0 +2.0 +1.0 +2.0 +1.0 +1.0    : +1 ---> +1 \n",
      "\t+5.0 +1.0 +1.0 +1.0 +2.0 +1.0 +1.0 +1.0 +1.0    : +1 ---> +1 \n",
      "\t+1.0 +1.0 +1.0 +1.0 +2.0 +1.0 +1.0 +1.0 +1.0    : +1 ---> +1 \n",
      "\t+2.0 +1.0 +1.0 +1.0 +2.0 +1.0 +1.0 +1.0 +1.0    : +1 ---> +1 \n",
      "\t+10.0 +10.0 +10.0 +10.0 +5.0 +10.0 +10.0 +10.0 +7.0    : -1 ---> -1 \n",
      "\t+5.0 +10.0 +10.0 +10.0 +4.0 +10.0 +5.0 +6.0 +3.0    : -1 ---> -1 \n",
      "\t+5.0 +1.0 +1.0 +1.0 +2.0 +1.0 +3.0 +2.0 +1.0    : +1 ---> +1 \n",
      "\t+1.0 +1.0 +1.0 +1.0 +2.0 +1.0 +1.0 +1.0 +1.0    : +1 ---> +1 \n",
      "\t+1.0 +1.0 +1.0 +1.0 +2.0 +1.0 +1.0 +1.0 +1.0    : +1 ---> +1 \n",
      "\t+1.0 +1.0 +1.0 +1.0 +2.0 +1.0 +1.0 +1.0 +1.0    : +1 ---> +1 \n",
      "\t+1.0 +1.0 +1.0 +1.0 +2.0 +1.0 +1.0 +1.0 +1.0    : +1 ---> +1 \n",
      "\t+3.0 +1.0 +1.0 +1.0 +2.0 +1.0 +2.0 +3.0 +1.0    : +1 ---> +1 \n",
      "\t+4.0 +1.0 +1.0 +1.0 +2.0 +1.0 +1.0 +1.0 +1.0    : +1 ---> +1 \n",
      "\t+1.0 +1.0 +1.0 +1.0 +2.0 +1.0 +1.0 +1.0 +8.0    : +1 ---> +1 \n",
      "\t+1.0 +1.0 +1.0 +3.0 +2.0 +1.0 +1.0 +1.0 +1.0    : +1 ---> +1 \n",
      "\t+5.0 +10.0 +10.0 +5.0 +4.0 +5.0 +4.0 +4.0 +1.0    : -1 ---> -1 \n",
      "\t+3.0 +1.0 +1.0 +1.0 +2.0 +1.0 +1.0 +1.0 +1.0    : +1 ---> +1 \n",
      "\t+3.0 +1.0 +1.0 +1.0 +2.0 +1.0 +2.0 +1.0 +2.0    : +1 ---> +1 \n",
      "\t+3.0 +1.0 +1.0 +1.0 +3.0 +2.0 +1.0 +1.0 +1.0    : +1 ---> +1 \n",
      "\t+2.0 +1.0 +1.0 +1.0 +2.0 +1.0 +1.0 +1.0 +1.0    : +1 ---> +1 \n",
      "\t+5.0 +10.0 +10.0 +3.0 +7.0 +3.0 +8.0 +10.0 +2.0    : -1 ---> -1 \n",
      "\t+4.0 +8.0 +6.0 +4.0 +3.0 +4.0 +10.0 +6.0 +1.0    : -1 ---> -1 \n",
      "\t+4.0 +8.0 +8.0 +5.0 +4.0 +5.0 +10.0 +4.0 +1.0    : -1 ---> -1 \n",
      "Taux de bonne classification sur le dataset:  0.9742120343839542\n",
      "Classification du dataset avec un perceptron :\n",
      "\t+5.0 +1.0 +1.0 +3.0 +2.0 +1.0 +1.0 +1.0 +1.0    : +1 ---> +1 \n",
      "\t+2.0 +1.0 +1.0 +1.0 +2.0 +1.0 +3.0 +1.0 +1.0    : +1 ---> +1 \n",
      "\t+3.0 +4.0 +5.0 +3.0 +7.0 +3.0 +4.0 +6.0 +1.0    : +1 ---> -1 \n",
      "\t+2.0 +7.0 +10.0 +10.0 +7.0 +10.0 +4.0 +9.0 +4.0    : -1 ---> -1 \n",
      "\t+1.0 +1.0 +1.0 +1.0 +2.0 +1.0 +2.0 +1.0 +1.0    : +1 ---> +1 \n",
      "\t+4.0 +1.0 +1.0 +1.0 +3.0 +1.0 +2.0 +2.0 +1.0    : +1 ---> +1 \n",
      "\t+5.0 +3.0 +3.0 +1.0 +3.0 +3.0 +3.0 +3.0 +3.0    : -1 ---> -1 \n",
      "\t+8.0 +10.0 +10.0 +7.0 +10.0 +10.0 +7.0 +3.0 +8.0    : -1 ---> -1 \n",
      "\t+8.0 +10.0 +5.0 +3.0 +8.0 +4.0 +4.0 +10.0 +3.0    : -1 ---> -1 \n",
      "\t+10.0 +3.0 +5.0 +4.0 +3.0 +7.0 +3.0 +5.0 +3.0    : -1 ---> -1 \n",
      "\t+6.0 +10.0 +10.0 +10.0 +10.0 +10.0 +8.0 +10.0 +10.0    : -1 ---> -1 \n",
      "\t+3.0 +10.0 +3.0 +10.0 +6.0 +10.0 +5.0 +1.0 +4.0    : -1 ---> -1 \n",
      "\t+3.0 +2.0 +2.0 +1.0 +4.0 +3.0 +2.0 +1.0 +1.0    : +1 ---> +1 \n",
      "\t+4.0 +4.0 +4.0 +2.0 +2.0 +3.0 +2.0 +1.0 +1.0    : +1 ---> -1 \n",
      "\t+2.0 +1.0 +1.0 +1.0 +2.0 +1.0 +3.0 +1.0 +1.0    : +1 ---> +1 \n",
      "\t+2.0 +1.0 +1.0 +1.0 +2.0 +1.0 +2.0 +1.0 +1.0    : +1 ---> +1 \n",
      "\t+6.0 +10.0 +10.0 +10.0 +8.0 +10.0 +7.0 +10.0 +7.0    : -1 ---> -1 \n",
      "\t+5.0 +8.0 +8.0 +10.0 +5.0 +10.0 +8.0 +10.0 +3.0    : -1 ---> -1 \n",
      "\t+1.0 +1.0 +3.0 +1.0 +2.0 +1.0 +1.0 +1.0 +1.0    : +1 ---> -1 \n",
      "\t+1.0 +1.0 +3.0 +1.0 +1.0 +1.0 +2.0 +1.0 +1.0    : +1 ---> -1 \n",
      "\t+4.0 +3.0 +2.0 +1.0 +3.0 +1.0 +2.0 +1.0 +1.0    : +1 ---> -1 \n",
      "\t+1.0 +1.0 +3.0 +1.0 +2.0 +1.0 +1.0 +1.0 +1.0    : +1 ---> -1 \n",
      "\t+4.0 +1.0 +2.0 +1.0 +2.0 +1.0 +2.0 +1.0 +1.0    : +1 ---> +1 \n",
      "\t+5.0 +1.0 +1.0 +2.0 +2.0 +1.0 +2.0 +1.0 +1.0    : +1 ---> +1 \n",
      "\t+3.0 +1.0 +2.0 +1.0 +2.0 +1.0 +2.0 +1.0 +1.0    : +1 ---> +1 \n",
      "\t+1.0 +1.0 +1.0 +1.0 +2.0 +1.0 +1.0 +1.0 +1.0    : +1 ---> +1 \n",
      "\t+1.0 +1.0 +1.0 +1.0 +2.0 +1.0 +2.0 +1.0 +1.0    : +1 ---> +1 \n",
      "\t+1.0 +1.0 +1.0 +1.0 +1.0 +1.0 +2.0 +1.0 +1.0    : +1 ---> +1 \n",
      "\t+3.0 +1.0 +1.0 +4.0 +3.0 +1.0 +2.0 +2.0 +1.0    : +1 ---> +1 \n",
      "\t+5.0 +3.0 +4.0 +1.0 +4.0 +1.0 +3.0 +1.0 +1.0    : +1 ---> +1 \n",
      "\t+1.0 +1.0 +1.0 +1.0 +2.0 +1.0 +1.0 +1.0 +1.0    : +1 ---> +1 \n",
      "\t+10.0 +6.0 +3.0 +6.0 +4.0 +10.0 +7.0 +8.0 +4.0    : -1 ---> -1 \n",
      "\t+3.0 +2.0 +2.0 +2.0 +2.0 +1.0 +3.0 +2.0 +1.0    : +1 ---> +1 \n",
      "\t+2.0 +1.0 +1.0 +1.0 +2.0 +1.0 +1.0 +1.0 +1.0    : +1 ---> +1 \n",
      "\t+2.0 +1.0 +1.0 +1.0 +2.0 +1.0 +1.0 +1.0 +1.0    : +1 ---> +1 \n",
      "\t+3.0 +3.0 +2.0 +2.0 +3.0 +1.0 +1.0 +2.0 +3.0    : +1 ---> -1 \n",
      "\t+7.0 +6.0 +6.0 +3.0 +2.0 +10.0 +7.0 +1.0 +1.0    : -1 ---> -1 \n",
      "\t+5.0 +3.0 +3.0 +2.0 +3.0 +1.0 +3.0 +1.0 +1.0    : +1 ---> -1 \n",
      "\t+2.0 +1.0 +1.0 +1.0 +2.0 +1.0 +2.0 +2.0 +1.0    : +1 ---> +1 \n",
      "\t+5.0 +1.0 +1.0 +1.0 +3.0 +2.0 +2.0 +2.0 +1.0    : +1 ---> +1 \n",
      "\t+1.0 +1.0 +1.0 +2.0 +2.0 +1.0 +2.0 +1.0 +1.0    : +1 ---> +1 \n",
      "\t+10.0 +8.0 +7.0 +4.0 +3.0 +10.0 +7.0 +9.0 +1.0    : -1 ---> -1 \n",
      "\t+3.0 +1.0 +1.0 +1.0 +2.0 +1.0 +2.0 +1.0 +1.0    : +1 ---> +1 \n",
      "\t+1.0 +1.0 +1.0 +1.0 +1.0 +1.0 +1.0 +1.0 +1.0    : +1 ---> -1 \n",
      "\t+1.0 +2.0 +3.0 +1.0 +2.0 +1.0 +2.0 +1.0 +1.0    : +1 ---> -1 \n",
      "\t+3.0 +1.0 +1.0 +1.0 +2.0 +1.0 +2.0 +1.0 +1.0    : +1 ---> +1 \n",
      "\t+3.0 +1.0 +1.0 +1.0 +2.0 +1.0 +3.0 +1.0 +1.0    : +1 ---> +1 \n",
      "\t+4.0 +1.0 +1.0 +1.0 +2.0 +1.0 +1.0 +1.0 +1.0    : +1 ---> +1 \n",
      "\t+3.0 +2.0 +1.0 +1.0 +2.0 +1.0 +2.0 +2.0 +1.0    : +1 ---> -1 \n",
      "\t+1.0 +2.0 +3.0 +1.0 +2.0 +1.0 +1.0 +1.0 +1.0    : +1 ---> -1 \n",
      "\t+3.0 +10.0 +8.0 +7.0 +6.0 +9.0 +9.0 +3.0 +8.0    : -1 ---> -1 \n",
      "\t+3.0 +1.0 +1.0 +1.0 +2.0 +1.0 +1.0 +1.0 +1.0    : +1 ---> +1 \n",
      "\t+5.0 +3.0 +3.0 +1.0 +2.0 +1.0 +2.0 +1.0 +1.0    : +1 ---> -1 \n",
      "\t+3.0 +1.0 +1.0 +1.0 +2.0 +4.0 +1.0 +1.0 +1.0    : +1 ---> -1 \n",
      "\t+1.0 +2.0 +1.0 +3.0 +2.0 +1.0 +1.0 +2.0 +1.0    : +1 ---> -1 \n",
      "\t+1.0 +1.0 +1.0 +1.0 +2.0 +1.0 +2.0 +1.0 +1.0    : +1 ---> +1 \n",
      "\t+4.0 +2.0 +2.0 +1.0 +2.0 +1.0 +2.0 +1.0 +1.0    : +1 ---> -1 \n",
      "\t+1.0 +1.0 +1.0 +1.0 +2.0 +1.0 +2.0 +1.0 +1.0    : +1 ---> +1 \n",
      "\t+2.0 +3.0 +2.0 +2.0 +2.0 +2.0 +3.0 +1.0 +1.0    : +1 ---> -1 \n",
      "\t+3.0 +1.0 +2.0 +1.0 +2.0 +1.0 +2.0 +1.0 +1.0    : +1 ---> +1 \n",
      "\t+1.0 +1.0 +1.0 +1.0 +2.0 +1.0 +2.0 +1.0 +1.0    : +1 ---> +1 \n",
      "\t+1.0 +1.0 +1.0 +1.0 +1.0 +nan +2.0 +1.0 +1.0    : +1 ---> +1 \n",
      "\t+10.0 +10.0 +10.0 +6.0 +8.0 +4.0 +8.0 +5.0 +1.0    : -1 ---> -1 \n",
      "\t+5.0 +1.0 +2.0 +1.0 +2.0 +1.0 +3.0 +1.0 +1.0    : +1 ---> +1 \n",
      "\t+8.0 +5.0 +6.0 +2.0 +3.0 +10.0 +6.0 +6.0 +1.0    : -1 ---> -1 \n",
      "\t+3.0 +3.0 +2.0 +6.0 +3.0 +3.0 +3.0 +5.0 +1.0    : +1 ---> -1 \n",
      "\t+8.0 +7.0 +8.0 +5.0 +10.0 +10.0 +7.0 +2.0 +1.0    : -1 ---> -1 \n",
      "\t+1.0 +1.0 +1.0 +1.0 +2.0 +1.0 +2.0 +1.0 +1.0    : +1 ---> +1 \n",
      "\t+5.0 +2.0 +2.0 +2.0 +2.0 +2.0 +3.0 +2.0 +2.0    : +1 ---> +1 \n",
      "\t+2.0 +3.0 +1.0 +1.0 +5.0 +1.0 +1.0 +1.0 +1.0    : +1 ---> +1 \n",
      "\t+3.0 +2.0 +2.0 +3.0 +2.0 +3.0 +3.0 +1.0 +1.0    : +1 ---> -1 \n",
      "\t+10.0 +10.0 +10.0 +7.0 +10.0 +10.0 +8.0 +2.0 +1.0    : -1 ---> -1 \n",
      "\t+4.0 +3.0 +3.0 +1.0 +2.0 +1.0 +3.0 +3.0 +1.0    : +1 ---> -1 \n",
      "\t+5.0 +1.0 +3.0 +1.0 +2.0 +1.0 +2.0 +1.0 +1.0    : +1 ---> +1 \n",
      "\t+3.0 +1.0 +1.0 +1.0 +2.0 +1.0 +1.0 +1.0 +1.0    : +1 ---> +1 \n",
      "\t+9.0 +10.0 +10.0 +10.0 +10.0 +10.0 +10.0 +10.0 +1.0    : -1 ---> -1 \n",
      "\t+5.0 +3.0 +6.0 +1.0 +2.0 +1.0 +1.0 +1.0 +1.0    : +1 ---> -1 \n",
      "\t+8.0 +7.0 +8.0 +2.0 +4.0 +2.0 +5.0 +10.0 +1.0    : -1 ---> -1 \n",
      "\t+1.0 +1.0 +1.0 +1.0 +2.0 +1.0 +2.0 +1.0 +1.0    : +1 ---> +1 \n",
      "\t+2.0 +1.0 +1.0 +1.0 +2.0 +1.0 +2.0 +1.0 +1.0    : +1 ---> +1 \n",
      "\t+1.0 +3.0 +1.0 +1.0 +2.0 +1.0 +2.0 +2.0 +1.0    : +1 ---> -1 \n",
      "\t+5.0 +1.0 +1.0 +3.0 +4.0 +1.0 +3.0 +2.0 +1.0    : +1 ---> +1 \n",
      "\t+5.0 +1.0 +1.0 +1.0 +2.0 +1.0 +2.0 +2.0 +1.0    : +1 ---> +1 \n",
      "\t+3.0 +2.0 +2.0 +3.0 +2.0 +1.0 +1.0 +1.0 +1.0    : +1 ---> -1 \n",
      "\t+6.0 +9.0 +7.0 +5.0 +5.0 +8.0 +4.0 +2.0 +1.0    : +1 ---> -1 \n",
      "\t+10.0 +8.0 +10.0 +1.0 +3.0 +10.0 +5.0 +1.0 +1.0    : -1 ---> -1 \n",
      "\t+10.0 +10.0 +10.0 +1.0 +6.0 +1.0 +2.0 +8.0 +1.0    : -1 ---> -1 \n",
      "\t+4.0 +1.0 +1.0 +1.0 +2.0 +1.0 +1.0 +1.0 +1.0    : +1 ---> +1 \n",
      "\t+4.0 +1.0 +3.0 +3.0 +2.0 +1.0 +1.0 +1.0 +1.0    : +1 ---> -1 \n",
      "\t+5.0 +1.0 +1.0 +1.0 +2.0 +1.0 +1.0 +1.0 +1.0    : +1 ---> +1 \n",
      "\t+10.0 +4.0 +3.0 +10.0 +4.0 +10.0 +10.0 +1.0 +1.0    : -1 ---> +1 \n",
      "\t+5.0 +2.0 +2.0 +4.0 +2.0 +4.0 +1.0 +1.0 +1.0    : +1 ---> -1 \n",
      "\t+1.0 +1.0 +1.0 +3.0 +2.0 +3.0 +1.0 +1.0 +1.0    : +1 ---> -1 \n",
      "\t+1.0 +1.0 +1.0 +1.0 +2.0 +2.0 +1.0 +1.0 +1.0    : +1 ---> +1 \n",
      "\t+5.0 +1.0 +1.0 +6.0 +3.0 +1.0 +2.0 +1.0 +1.0    : +1 ---> +1 \n",
      "\t+2.0 +1.0 +1.0 +1.0 +2.0 +1.0 +1.0 +1.0 +1.0    : +1 ---> +1 \n",
      "\t+1.0 +1.0 +1.0 +1.0 +2.0 +1.0 +1.0 +1.0 +1.0    : +1 ---> +1 \n",
      "\t+5.0 +1.0 +1.0 +1.0 +2.0 +1.0 +1.0 +1.0 +1.0    : +1 ---> +1 \n",
      "\t+1.0 +1.0 +1.0 +1.0 +1.0 +1.0 +1.0 +1.0 +1.0    : +1 ---> -1 \n",
      "\t+5.0 +7.0 +9.0 +8.0 +6.0 +10.0 +8.0 +10.0 +1.0    : -1 ---> -1 \n",
      "\t+4.0 +1.0 +1.0 +3.0 +1.0 +1.0 +2.0 +1.0 +1.0    : +1 ---> +1 \n",
      "\t+5.0 +1.0 +1.0 +1.0 +2.0 +1.0 +1.0 +1.0 +1.0    : +1 ---> +1 \n",
      "\t+3.0 +1.0 +1.0 +3.0 +2.0 +1.0 +1.0 +1.0 +1.0    : +1 ---> +1 \n",
      "\t+4.0 +5.0 +5.0 +8.0 +6.0 +10.0 +10.0 +7.0 +1.0    : -1 ---> -1 \n",
      "\t+2.0 +3.0 +1.0 +1.0 +3.0 +1.0 +1.0 +1.0 +1.0    : +1 ---> -1 \n",
      "\t+10.0 +2.0 +2.0 +1.0 +2.0 +6.0 +1.0 +1.0 +2.0    : -1 ---> -1 \n",
      "\t+10.0 +6.0 +5.0 +8.0 +5.0 +10.0 +8.0 +6.0 +1.0    : -1 ---> -1 \n",
      "\t+8.0 +8.0 +9.0 +6.0 +6.0 +3.0 +10.0 +10.0 +1.0    : -1 ---> -1 \n",
      "\t+5.0 +1.0 +2.0 +1.0 +2.0 +1.0 +1.0 +1.0 +1.0    : +1 ---> +1 \n",
      "\t+5.0 +1.0 +3.0 +1.0 +2.0 +1.0 +1.0 +1.0 +1.0    : +1 ---> -1 \n",
      "\t+5.0 +1.0 +1.0 +3.0 +2.0 +1.0 +1.0 +1.0 +1.0    : +1 ---> +1 \n",
      "\t+3.0 +1.0 +1.0 +1.0 +2.0 +5.0 +1.0 +1.0 +1.0    : +1 ---> -1 \n",
      "\t+6.0 +1.0 +1.0 +3.0 +2.0 +1.0 +1.0 +1.0 +1.0    : +1 ---> +1 \n",
      "\t+4.0 +1.0 +1.0 +1.0 +2.0 +1.0 +1.0 +2.0 +1.0    : +1 ---> +1 \n",
      "\t+4.0 +1.0 +1.0 +1.0 +2.0 +1.0 +1.0 +1.0 +1.0    : +1 ---> +1 \n",
      "\t+10.0 +9.0 +8.0 +7.0 +6.0 +4.0 +7.0 +10.0 +3.0    : -1 ---> -1 \n",
      "\t+10.0 +6.0 +6.0 +2.0 +4.0 +10.0 +9.0 +7.0 +1.0    : -1 ---> -1 \n",
      "\t+6.0 +6.0 +6.0 +5.0 +4.0 +10.0 +7.0 +6.0 +2.0    : -1 ---> -1 \n",
      "\t+4.0 +1.0 +1.0 +1.0 +2.0 +1.0 +1.0 +1.0 +1.0    : +1 ---> +1 \n",
      "\t+1.0 +1.0 +2.0 +1.0 +2.0 +1.0 +2.0 +1.0 +1.0    : +1 ---> +1 \n",
      "\t+3.0 +1.0 +1.0 +1.0 +1.0 +1.0 +2.0 +1.0 +1.0    : +1 ---> +1 \n",
      "\t+6.0 +1.0 +1.0 +3.0 +2.0 +1.0 +1.0 +1.0 +1.0    : +1 ---> +1 \n",
      "\t+6.0 +1.0 +1.0 +1.0 +1.0 +1.0 +1.0 +1.0 +1.0    : +1 ---> +1 \n",
      "\t+4.0 +1.0 +1.0 +1.0 +2.0 +1.0 +1.0 +1.0 +1.0    : +1 ---> +1 \n",
      "\t+5.0 +1.0 +1.0 +1.0 +2.0 +1.0 +1.0 +1.0 +1.0    : +1 ---> +1 \n",
      "\t+3.0 +1.0 +1.0 +1.0 +2.0 +1.0 +1.0 +1.0 +1.0    : +1 ---> +1 \n",
      "\t+4.0 +1.0 +2.0 +1.0 +2.0 +1.0 +1.0 +1.0 +1.0    : +1 ---> +1 \n",
      "\t+4.0 +1.0 +1.0 +1.0 +2.0 +1.0 +1.0 +1.0 +1.0    : +1 ---> +1 \n",
      "\t+5.0 +2.0 +1.0 +1.0 +2.0 +1.0 +1.0 +1.0 +1.0    : +1 ---> -1 \n",
      "\t+4.0 +8.0 +7.0 +10.0 +4.0 +10.0 +7.0 +5.0 +1.0    : -1 ---> -1 \n",
      "\t+5.0 +1.0 +1.0 +1.0 +1.0 +1.0 +1.0 +1.0 +1.0    : +1 ---> +1 \n",
      "\t+5.0 +3.0 +2.0 +4.0 +2.0 +1.0 +1.0 +1.0 +1.0    : +1 ---> -1 \n",
      "\t+9.0 +10.0 +10.0 +10.0 +10.0 +5.0 +10.0 +10.0 +10.0    : -1 ---> -1 \n",
      "\t+8.0 +7.0 +8.0 +5.0 +5.0 +10.0 +9.0 +10.0 +1.0    : -1 ---> -1 \n",
      "\t+5.0 +1.0 +2.0 +1.0 +2.0 +1.0 +1.0 +1.0 +1.0    : +1 ---> +1 \n",
      "\t+1.0 +1.0 +1.0 +3.0 +1.0 +3.0 +1.0 +1.0 +1.0    : +1 ---> -1 \n",
      "\t+3.0 +1.0 +1.0 +1.0 +1.0 +1.0 +2.0 +1.0 +1.0    : +1 ---> +1 \n",
      "\t+10.0 +10.0 +10.0 +10.0 +6.0 +10.0 +8.0 +1.0 +5.0    : -1 ---> -1 \n",
      "\t+3.0 +6.0 +4.0 +10.0 +3.0 +3.0 +3.0 +4.0 +1.0    : -1 ---> -1 \n",
      "\t+6.0 +3.0 +2.0 +1.0 +3.0 +4.0 +4.0 +1.0 +1.0    : -1 ---> +1 \n",
      "\t+1.0 +1.0 +1.0 +1.0 +2.0 +1.0 +1.0 +1.0 +1.0    : +1 ---> +1 \n",
      "\t+5.0 +8.0 +9.0 +4.0 +3.0 +10.0 +7.0 +1.0 +1.0    : -1 ---> -1 \n",
      "\t+4.0 +1.0 +1.0 +1.0 +1.0 +1.0 +2.0 +1.0 +1.0    : +1 ---> +1 \n",
      "\t+5.0 +10.0 +10.0 +10.0 +6.0 +10.0 +6.0 +5.0 +2.0    : -1 ---> -1 \n",
      "\t+5.0 +1.0 +2.0 +10.0 +4.0 +5.0 +2.0 +1.0 +1.0    : +1 ---> +1 \n",
      "\t+3.0 +1.0 +1.0 +1.0 +1.0 +1.0 +2.0 +1.0 +1.0    : +1 ---> +1 \n",
      "\t+1.0 +1.0 +1.0 +1.0 +1.0 +1.0 +1.0 +1.0 +1.0    : +1 ---> -1 \n",
      "\t+4.0 +2.0 +1.0 +1.0 +2.0 +1.0 +1.0 +1.0 +1.0    : +1 ---> -1 \n",
      "\t+4.0 +1.0 +1.0 +1.0 +2.0 +1.0 +2.0 +1.0 +1.0    : +1 ---> +1 \n",
      "\t+4.0 +1.0 +1.0 +1.0 +2.0 +1.0 +2.0 +1.0 +1.0    : +1 ---> +1 \n",
      "\t+6.0 +1.0 +1.0 +1.0 +2.0 +1.0 +3.0 +1.0 +1.0    : +1 ---> +1 \n",
      "\t+4.0 +1.0 +1.0 +1.0 +2.0 +1.0 +2.0 +1.0 +1.0    : +1 ---> +1 \n",
      "\t+4.0 +1.0 +1.0 +2.0 +2.0 +1.0 +2.0 +1.0 +1.0    : +1 ---> +1 \n",
      "\t+4.0 +1.0 +1.0 +1.0 +2.0 +1.0 +3.0 +1.0 +1.0    : +1 ---> +1 \n",
      "\t+1.0 +1.0 +1.0 +1.0 +2.0 +1.0 +1.0 +1.0 +1.0    : +1 ---> +1 \n",
      "\t+3.0 +3.0 +1.0 +1.0 +2.0 +1.0 +1.0 +1.0 +1.0    : +1 ---> -1 \n",
      "\t+8.0 +10.0 +10.0 +10.0 +7.0 +5.0 +4.0 +8.0 +7.0    : -1 ---> -1 \n",
      "\t+1.0 +1.0 +1.0 +1.0 +2.0 +4.0 +1.0 +1.0 +1.0    : +1 ---> -1 \n",
      "\t+5.0 +1.0 +1.0 +1.0 +2.0 +1.0 +1.0 +1.0 +1.0    : +1 ---> +1 \n",
      "\t+2.0 +1.0 +1.0 +1.0 +2.0 +1.0 +1.0 +1.0 +1.0    : +1 ---> +1 \n",
      "\t+1.0 +1.0 +1.0 +1.0 +2.0 +1.0 +1.0 +1.0 +1.0    : +1 ---> +1 \n",
      "\t+5.0 +1.0 +1.0 +1.0 +2.0 +1.0 +2.0 +1.0 +1.0    : +1 ---> +1 \n",
      "\t+5.0 +1.0 +1.0 +1.0 +2.0 +1.0 +1.0 +1.0 +1.0    : +1 ---> +1 \n",
      "\t+3.0 +1.0 +1.0 +1.0 +1.0 +1.0 +2.0 +1.0 +1.0    : +1 ---> +1 \n",
      "\t+6.0 +6.0 +7.0 +10.0 +3.0 +10.0 +8.0 +10.0 +2.0    : -1 ---> -1 \n",
      "\t+4.0 +10.0 +4.0 +7.0 +3.0 +10.0 +9.0 +10.0 +1.0    : -1 ---> -1 \n",
      "\t+1.0 +1.0 +1.0 +1.0 +1.0 +1.0 +1.0 +1.0 +1.0    : +1 ---> -1 \n",
      "\t+1.0 +1.0 +1.0 +1.0 +1.0 +1.0 +2.0 +1.0 +1.0    : +1 ---> +1 \n",
      "\t+3.0 +1.0 +2.0 +2.0 +2.0 +1.0 +1.0 +1.0 +1.0    : +1 ---> -1 \n",
      "\t+4.0 +7.0 +8.0 +3.0 +4.0 +10.0 +9.0 +1.0 +1.0    : -1 ---> -1 \n",
      "\t+1.0 +1.0 +1.0 +1.0 +3.0 +1.0 +1.0 +1.0 +1.0    : +1 ---> +1 \n",
      "\t+4.0 +1.0 +1.0 +1.0 +3.0 +1.0 +1.0 +1.0 +1.0    : +1 ---> +1 \n",
      "\t+10.0 +4.0 +5.0 +4.0 +3.0 +5.0 +7.0 +3.0 +1.0    : -1 ---> -1 \n",
      "\t+7.0 +5.0 +6.0 +10.0 +4.0 +10.0 +5.0 +3.0 +1.0    : -1 ---> -1 \n",
      "\t+3.0 +1.0 +1.0 +1.0 +2.0 +1.0 +2.0 +1.0 +1.0    : +1 ---> +1 \n",
      "\t+3.0 +1.0 +1.0 +2.0 +2.0 +1.0 +1.0 +1.0 +1.0    : +1 ---> +1 \n",
      "\t+4.0 +1.0 +1.0 +1.0 +2.0 +1.0 +1.0 +1.0 +1.0    : +1 ---> +1 \n",
      "\t+4.0 +1.0 +1.0 +1.0 +2.0 +1.0 +3.0 +1.0 +1.0    : +1 ---> +1 \n",
      "\t+6.0 +1.0 +3.0 +2.0 +2.0 +1.0 +1.0 +1.0 +1.0    : +1 ---> -1 \n",
      "\t+4.0 +1.0 +1.0 +1.0 +1.0 +1.0 +2.0 +1.0 +1.0    : +1 ---> +1 \n",
      "\t+7.0 +4.0 +4.0 +3.0 +4.0 +10.0 +6.0 +9.0 +1.0    : -1 ---> -1 \n",
      "\t+4.0 +2.0 +2.0 +1.0 +2.0 +1.0 +2.0 +1.0 +1.0    : +1 ---> -1 \n",
      "\t+1.0 +1.0 +1.0 +1.0 +1.0 +1.0 +3.0 +1.0 +1.0    : +1 ---> +1 \n",
      "\t+3.0 +1.0 +1.0 +1.0 +2.0 +1.0 +2.0 +1.0 +1.0    : +1 ---> +1 \n",
      "\t+2.0 +1.0 +1.0 +1.0 +2.0 +1.0 +2.0 +1.0 +1.0    : +1 ---> +1 \n",
      "\t+1.0 +1.0 +3.0 +2.0 +2.0 +1.0 +3.0 +1.0 +1.0    : +1 ---> +1 \n",
      "\t+5.0 +1.0 +1.0 +1.0 +2.0 +1.0 +3.0 +1.0 +1.0    : +1 ---> +1 \n",
      "\t+5.0 +1.0 +2.0 +1.0 +2.0 +1.0 +3.0 +1.0 +1.0    : +1 ---> +1 \n",
      "\t+4.0 +1.0 +1.0 +1.0 +2.0 +1.0 +2.0 +1.0 +1.0    : +1 ---> +1 \n",
      "\t+6.0 +1.0 +1.0 +1.0 +2.0 +1.0 +2.0 +1.0 +1.0    : +1 ---> +1 \n",
      "\t+5.0 +1.0 +1.0 +1.0 +2.0 +2.0 +2.0 +1.0 +1.0    : +1 ---> +1 \n",
      "\t+3.0 +1.0 +1.0 +1.0 +2.0 +1.0 +1.0 +1.0 +1.0    : +1 ---> +1 \n",
      "\t+5.0 +3.0 +1.0 +1.0 +2.0 +1.0 +1.0 +1.0 +1.0    : +1 ---> -1 \n",
      "\t+4.0 +1.0 +1.0 +1.0 +2.0 +1.0 +2.0 +1.0 +1.0    : +1 ---> +1 \n",
      "\t+2.0 +1.0 +3.0 +2.0 +2.0 +1.0 +2.0 +1.0 +1.0    : +1 ---> +1 \n",
      "\t+5.0 +1.0 +1.0 +1.0 +2.0 +1.0 +2.0 +1.0 +1.0    : +1 ---> +1 \n",
      "\t+6.0 +10.0 +10.0 +10.0 +4.0 +10.0 +7.0 +10.0 +1.0    : -1 ---> -1 \n",
      "\t+2.0 +1.0 +1.0 +1.0 +1.0 +1.0 +1.0 +1.0 +1.0    : +1 ---> -1 \n",
      "\t+3.0 +1.0 +1.0 +1.0 +1.0 +1.0 +1.0 +1.0 +1.0    : +1 ---> -1 \n",
      "\t+7.0 +8.0 +3.0 +7.0 +4.0 +5.0 +7.0 +8.0 +2.0    : -1 ---> -1 \n",
      "\t+3.0 +1.0 +1.0 +1.0 +2.0 +1.0 +2.0 +1.0 +1.0    : +1 ---> +1 \n",
      "\t+1.0 +1.0 +1.0 +1.0 +2.0 +1.0 +3.0 +1.0 +1.0    : +1 ---> +1 \n",
      "\t+3.0 +2.0 +2.0 +2.0 +2.0 +1.0 +4.0 +2.0 +1.0    : +1 ---> +1 \n",
      "\t+4.0 +4.0 +2.0 +1.0 +2.0 +5.0 +2.0 +1.0 +2.0    : +1 ---> -1 \n",
      "\t+3.0 +1.0 +1.0 +1.0 +2.0 +1.0 +1.0 +1.0 +1.0    : +1 ---> +1 \n",
      "\t+4.0 +3.0 +1.0 +1.0 +2.0 +1.0 +4.0 +8.0 +1.0    : +1 ---> -1 \n",
      "\t+5.0 +2.0 +2.0 +2.0 +1.0 +1.0 +2.0 +1.0 +1.0    : +1 ---> -1 \n",
      "\t+5.0 +1.0 +1.0 +3.0 +2.0 +1.0 +1.0 +1.0 +1.0    : +1 ---> +1 \n",
      "\t+2.0 +1.0 +1.0 +1.0 +2.0 +1.0 +2.0 +1.0 +1.0    : +1 ---> +1 \n",
      "\t+5.0 +1.0 +1.0 +1.0 +2.0 +1.0 +2.0 +1.0 +1.0    : +1 ---> +1 \n",
      "\t+5.0 +1.0 +1.0 +1.0 +2.0 +1.0 +3.0 +1.0 +1.0    : +1 ---> +1 \n",
      "\t+5.0 +1.0 +1.0 +1.0 +2.0 +1.0 +3.0 +1.0 +1.0    : +1 ---> +1 \n",
      "\t+1.0 +1.0 +1.0 +1.0 +2.0 +1.0 +3.0 +1.0 +1.0    : +1 ---> +1 \n",
      "\t+3.0 +1.0 +1.0 +1.0 +2.0 +1.0 +2.0 +1.0 +1.0    : +1 ---> +1 \n",
      "\t+4.0 +1.0 +1.0 +1.0 +2.0 +1.0 +3.0 +2.0 +1.0    : +1 ---> +1 \n",
      "\t+5.0 +7.0 +10.0 +10.0 +5.0 +10.0 +10.0 +10.0 +1.0    : -1 ---> -1 \n",
      "\t+3.0 +1.0 +2.0 +1.0 +2.0 +1.0 +3.0 +1.0 +1.0    : +1 ---> +1 \n",
      "\t+4.0 +1.0 +1.0 +1.0 +2.0 +3.0 +2.0 +1.0 +1.0    : +1 ---> +1 \n",
      "\t+8.0 +4.0 +4.0 +1.0 +6.0 +10.0 +2.0 +5.0 +2.0    : -1 ---> -1 \n",
      "\t+10.0 +10.0 +8.0 +10.0 +6.0 +5.0 +10.0 +3.0 +1.0    : -1 ---> -1 \n",
      "\t+8.0 +10.0 +4.0 +4.0 +8.0 +10.0 +8.0 +2.0 +1.0    : -1 ---> -1 \n",
      "\t+7.0 +6.0 +10.0 +5.0 +3.0 +10.0 +9.0 +10.0 +2.0    : -1 ---> -1 \n",
      "\t+3.0 +1.0 +1.0 +1.0 +2.0 +1.0 +2.0 +1.0 +1.0    : +1 ---> +1 \n",
      "\t+1.0 +1.0 +1.0 +1.0 +2.0 +1.0 +2.0 +1.0 +1.0    : +1 ---> +1 \n",
      "\t+10.0 +9.0 +7.0 +3.0 +4.0 +2.0 +7.0 +7.0 +1.0    : -1 ---> -1 \n",
      "\t+5.0 +1.0 +2.0 +1.0 +2.0 +1.0 +3.0 +1.0 +1.0    : +1 ---> +1 \n",
      "\t+5.0 +1.0 +1.0 +1.0 +2.0 +1.0 +2.0 +1.0 +1.0    : +1 ---> +1 \n",
      "\t+1.0 +1.0 +1.0 +1.0 +2.0 +1.0 +2.0 +1.0 +1.0    : +1 ---> +1 \n",
      "\t+1.0 +1.0 +1.0 +1.0 +2.0 +1.0 +2.0 +1.0 +1.0    : +1 ---> +1 \n",
      "\t+1.0 +1.0 +1.0 +1.0 +2.0 +1.0 +3.0 +1.0 +1.0    : +1 ---> +1 \n",
      "\t+5.0 +1.0 +2.0 +1.0 +2.0 +1.0 +2.0 +1.0 +1.0    : +1 ---> +1 \n",
      "\t+5.0 +7.0 +10.0 +6.0 +5.0 +10.0 +7.0 +5.0 +1.0    : -1 ---> -1 \n",
      "\t+6.0 +10.0 +5.0 +5.0 +4.0 +10.0 +6.0 +10.0 +1.0    : -1 ---> -1 \n",
      "\t+3.0 +1.0 +1.0 +1.0 +2.0 +1.0 +1.0 +1.0 +1.0    : +1 ---> +1 \n",
      "\t+5.0 +1.0 +1.0 +6.0 +3.0 +1.0 +1.0 +1.0 +1.0    : +1 ---> +1 \n",
      "\t+1.0 +1.0 +1.0 +1.0 +2.0 +1.0 +1.0 +1.0 +1.0    : +1 ---> +1 \n",
      "\t+8.0 +10.0 +10.0 +10.0 +6.0 +10.0 +10.0 +10.0 +1.0    : -1 ---> -1 \n",
      "\t+5.0 +1.0 +1.0 +1.0 +2.0 +1.0 +2.0 +2.0 +1.0    : +1 ---> +1 \n",
      "\t+9.0 +8.0 +8.0 +9.0 +6.0 +3.0 +4.0 +1.0 +1.0    : -1 ---> -1 \n",
      "\t+5.0 +1.0 +1.0 +1.0 +2.0 +1.0 +1.0 +1.0 +1.0    : +1 ---> +1 \n",
      "\t+4.0 +10.0 +8.0 +5.0 +4.0 +1.0 +10.0 +1.0 +1.0    : -1 ---> -1 \n",
      "\t+2.0 +5.0 +7.0 +6.0 +4.0 +10.0 +7.0 +6.0 +1.0    : -1 ---> -1 \n",
      "\t+10.0 +3.0 +4.0 +5.0 +3.0 +10.0 +4.0 +1.0 +1.0    : -1 ---> -1 \n",
      "\t+5.0 +1.0 +2.0 +1.0 +2.0 +1.0 +1.0 +1.0 +1.0    : +1 ---> +1 \n",
      "\t+4.0 +8.0 +6.0 +3.0 +4.0 +10.0 +7.0 +1.0 +1.0    : -1 ---> -1 \n",
      "\t+5.0 +1.0 +1.0 +1.0 +2.0 +1.0 +2.0 +1.0 +1.0    : +1 ---> +1 \n",
      "\t+4.0 +1.0 +2.0 +1.0 +2.0 +1.0 +2.0 +1.0 +1.0    : +1 ---> +1 \n",
      "\t+5.0 +1.0 +3.0 +1.0 +2.0 +1.0 +3.0 +1.0 +1.0    : +1 ---> +1 \n",
      "\t+3.0 +1.0 +1.0 +1.0 +2.0 +1.0 +2.0 +1.0 +1.0    : +1 ---> +1 \n",
      "\t+5.0 +2.0 +4.0 +1.0 +1.0 +1.0 +1.0 +1.0 +1.0    : +1 ---> -1 \n",
      "\t+3.0 +1.0 +1.0 +1.0 +2.0 +1.0 +2.0 +1.0 +1.0    : +1 ---> +1 \n",
      "\t+1.0 +1.0 +1.0 +1.0 +1.0 +1.0 +2.0 +1.0 +1.0    : +1 ---> +1 \n",
      "\t+4.0 +1.0 +1.0 +1.0 +2.0 +1.0 +2.0 +1.0 +1.0    : +1 ---> +1 \n",
      "\t+5.0 +4.0 +6.0 +8.0 +4.0 +1.0 +8.0 +10.0 +1.0    : -1 ---> -1 \n",
      "\t+5.0 +3.0 +2.0 +8.0 +5.0 +10.0 +8.0 +1.0 +2.0    : -1 ---> +1 \n",
      "\t+10.0 +5.0 +10.0 +3.0 +5.0 +8.0 +7.0 +8.0 +3.0    : -1 ---> -1 \n",
      "\t+4.0 +1.0 +1.0 +2.0 +2.0 +1.0 +1.0 +1.0 +1.0    : +1 ---> +1 \n",
      "\t+1.0 +1.0 +1.0 +1.0 +2.0 +1.0 +1.0 +1.0 +1.0    : +1 ---> +1 \n",
      "\t+5.0 +10.0 +10.0 +10.0 +10.0 +10.0 +10.0 +1.0 +1.0    : -1 ---> -1 \n",
      "\t+5.0 +1.0 +1.0 +1.0 +2.0 +1.0 +1.0 +1.0 +1.0    : +1 ---> +1 \n",
      "\t+10.0 +4.0 +3.0 +10.0 +3.0 +10.0 +7.0 +1.0 +2.0    : -1 ---> -1 \n",
      "\t+5.0 +10.0 +10.0 +10.0 +5.0 +2.0 +8.0 +5.0 +1.0    : -1 ---> -1 \n",
      "\t+8.0 +10.0 +10.0 +10.0 +6.0 +10.0 +10.0 +10.0 +10.0    : -1 ---> -1 \n",
      "\t+2.0 +3.0 +1.0 +1.0 +2.0 +1.0 +2.0 +1.0 +1.0    : +1 ---> -1 \n",
      "\t+2.0 +1.0 +1.0 +1.0 +1.0 +1.0 +2.0 +1.0 +1.0    : +1 ---> +1 \n",
      "\t+4.0 +1.0 +3.0 +1.0 +2.0 +1.0 +2.0 +1.0 +1.0    : +1 ---> +1 \n",
      "\t+3.0 +1.0 +1.0 +1.0 +2.0 +1.0 +2.0 +1.0 +1.0    : +1 ---> +1 \n",
      "\t+1.0 +1.0 +1.0 +1.0 +1.0 +nan +1.0 +1.0 +1.0    : +1 ---> +1 \n",
      "\t+4.0 +1.0 +1.0 +1.0 +2.0 +1.0 +2.0 +1.0 +1.0    : +1 ---> +1 \n",
      "\t+5.0 +1.0 +1.0 +1.0 +2.0 +1.0 +2.0 +1.0 +1.0    : +1 ---> +1 \n",
      "\t+3.0 +1.0 +1.0 +1.0 +2.0 +1.0 +2.0 +1.0 +1.0    : +1 ---> +1 \n",
      "\t+6.0 +3.0 +3.0 +3.0 +3.0 +2.0 +6.0 +1.0 +1.0    : +1 ---> +1 \n",
      "\t+7.0 +1.0 +2.0 +3.0 +2.0 +1.0 +2.0 +1.0 +1.0    : +1 ---> +1 \n",
      "\t+1.0 +1.0 +1.0 +1.0 +2.0 +1.0 +1.0 +1.0 +1.0    : +1 ---> +1 \n",
      "\t+5.0 +1.0 +1.0 +2.0 +1.0 +1.0 +2.0 +1.0 +1.0    : +1 ---> +1 \n",
      "\t+3.0 +1.0 +3.0 +1.0 +3.0 +4.0 +1.0 +1.0 +1.0    : +1 ---> -1 \n",
      "\t+4.0 +6.0 +6.0 +5.0 +7.0 +6.0 +7.0 +7.0 +3.0    : -1 ---> -1 \n",
      "\t+2.0 +1.0 +1.0 +1.0 +2.0 +5.0 +1.0 +1.0 +1.0    : +1 ---> -1 \n",
      "\t+2.0 +1.0 +1.0 +1.0 +2.0 +1.0 +1.0 +1.0 +1.0    : +1 ---> +1 \n",
      "\t+4.0 +1.0 +1.0 +1.0 +2.0 +1.0 +1.0 +1.0 +1.0    : +1 ---> +1 \n",
      "\t+6.0 +2.0 +3.0 +1.0 +2.0 +1.0 +1.0 +1.0 +1.0    : +1 ---> -1 \n",
      "\t+5.0 +1.0 +1.0 +1.0 +2.0 +1.0 +2.0 +1.0 +1.0    : +1 ---> +1 \n",
      "\t+1.0 +1.0 +1.0 +1.0 +2.0 +1.0 +1.0 +1.0 +1.0    : +1 ---> +1 \n",
      "\t+8.0 +7.0 +4.0 +4.0 +5.0 +3.0 +5.0 +10.0 +1.0    : -1 ---> -1 \n",
      "\t+3.0 +1.0 +1.0 +1.0 +2.0 +1.0 +1.0 +1.0 +1.0    : +1 ---> +1 \n",
      "\t+3.0 +1.0 +4.0 +1.0 +2.0 +1.0 +1.0 +1.0 +1.0    : +1 ---> -1 \n",
      "\t+10.0 +10.0 +7.0 +8.0 +7.0 +1.0 +10.0 +10.0 +3.0    : -1 ---> -1 \n",
      "\t+4.0 +2.0 +4.0 +3.0 +2.0 +2.0 +2.0 +1.0 +1.0    : +1 ---> -1 \n",
      "\t+4.0 +1.0 +1.0 +1.0 +2.0 +1.0 +1.0 +1.0 +1.0    : +1 ---> +1 \n",
      "\t+5.0 +1.0 +1.0 +3.0 +2.0 +1.0 +1.0 +1.0 +1.0    : +1 ---> +1 \n",
      "\t+4.0 +1.0 +1.0 +3.0 +2.0 +1.0 +1.0 +1.0 +1.0    : +1 ---> +1 \n",
      "\t+3.0 +1.0 +1.0 +1.0 +2.0 +1.0 +2.0 +1.0 +1.0    : +1 ---> +1 \n",
      "\t+3.0 +1.0 +1.0 +1.0 +2.0 +1.0 +2.0 +1.0 +1.0    : +1 ---> +1 \n",
      "\t+1.0 +1.0 +1.0 +1.0 +2.0 +1.0 +1.0 +1.0 +1.0    : +1 ---> +1 \n",
      "\t+2.0 +1.0 +1.0 +1.0 +2.0 +1.0 +1.0 +1.0 +1.0    : +1 ---> +1 \n",
      "\t+3.0 +1.0 +1.0 +1.0 +2.0 +1.0 +2.0 +1.0 +1.0    : +1 ---> +1 \n",
      "\t+1.0 +2.0 +2.0 +1.0 +2.0 +1.0 +1.0 +1.0 +1.0    : +1 ---> -1 \n",
      "\t+1.0 +1.0 +1.0 +3.0 +2.0 +1.0 +1.0 +1.0 +1.0    : +1 ---> -1 \n",
      "\t+5.0 +10.0 +10.0 +10.0 +10.0 +2.0 +10.0 +10.0 +10.0    : -1 ---> -1 \n",
      "\t+3.0 +1.0 +1.0 +1.0 +2.0 +1.0 +2.0 +1.0 +1.0    : +1 ---> +1 \n",
      "\t+3.0 +1.0 +1.0 +2.0 +3.0 +4.0 +1.0 +1.0 +1.0    : +1 ---> +1 \n",
      "\t+1.0 +2.0 +1.0 +3.0 +2.0 +1.0 +2.0 +1.0 +1.0    : +1 ---> -1 \n",
      "\t+5.0 +1.0 +1.0 +1.0 +2.0 +1.0 +2.0 +2.0 +1.0    : +1 ---> +1 \n",
      "\t+4.0 +1.0 +1.0 +1.0 +2.0 +1.0 +2.0 +1.0 +1.0    : +1 ---> +1 \n",
      "\t+3.0 +1.0 +1.0 +1.0 +2.0 +1.0 +3.0 +1.0 +1.0    : +1 ---> +1 \n",
      "\t+3.0 +1.0 +1.0 +1.0 +2.0 +1.0 +2.0 +1.0 +1.0    : +1 ---> +1 \n",
      "\t+5.0 +1.0 +1.0 +1.0 +2.0 +1.0 +2.0 +1.0 +1.0    : +1 ---> +1 \n",
      "\t+5.0 +4.0 +5.0 +1.0 +8.0 +1.0 +3.0 +6.0 +1.0    : +1 ---> -1 \n",
      "\t+7.0 +8.0 +8.0 +7.0 +3.0 +10.0 +7.0 +2.0 +3.0    : -1 ---> -1 \n",
      "\t+1.0 +1.0 +1.0 +1.0 +2.0 +1.0 +1.0 +1.0 +1.0    : +1 ---> +1 \n",
      "\t+1.0 +1.0 +1.0 +1.0 +2.0 +1.0 +2.0 +1.0 +1.0    : +1 ---> +1 \n",
      "\t+4.0 +1.0 +1.0 +1.0 +2.0 +1.0 +3.0 +1.0 +1.0    : +1 ---> +1 \n",
      "\t+1.0 +1.0 +3.0 +1.0 +2.0 +1.0 +2.0 +1.0 +1.0    : +1 ---> +1 \n",
      "\t+1.0 +1.0 +3.0 +1.0 +2.0 +1.0 +2.0 +1.0 +1.0    : +1 ---> +1 \n",
      "\t+3.0 +1.0 +1.0 +3.0 +2.0 +1.0 +2.0 +1.0 +1.0    : +1 ---> +1 \n",
      "\t+1.0 +1.0 +1.0 +1.0 +2.0 +1.0 +1.0 +1.0 +1.0    : +1 ---> +1 \n",
      "\t+5.0 +2.0 +2.0 +2.0 +2.0 +1.0 +1.0 +1.0 +2.0    : +1 ---> -1 \n",
      "\t+3.0 +1.0 +1.0 +1.0 +2.0 +1.0 +3.0 +1.0 +1.0    : +1 ---> +1 \n",
      "\t+5.0 +7.0 +4.0 +1.0 +6.0 +1.0 +7.0 +10.0 +3.0    : -1 ---> -1 \n",
      "\t+5.0 +10.0 +10.0 +8.0 +5.0 +5.0 +7.0 +10.0 +1.0    : -1 ---> -1 \n",
      "\t+3.0 +10.0 +7.0 +8.0 +5.0 +8.0 +7.0 +4.0 +1.0    : -1 ---> -1 \n",
      "\t+3.0 +2.0 +1.0 +2.0 +2.0 +1.0 +3.0 +1.0 +1.0    : +1 ---> +1 \n",
      "\t+2.0 +1.0 +1.0 +1.0 +2.0 +1.0 +3.0 +1.0 +1.0    : +1 ---> +1 \n",
      "\t+5.0 +3.0 +2.0 +1.0 +3.0 +1.0 +1.0 +1.0 +1.0    : +1 ---> -1 \n",
      "\t+1.0 +1.0 +1.0 +1.0 +2.0 +1.0 +2.0 +1.0 +1.0    : +1 ---> +1 \n",
      "\t+4.0 +1.0 +4.0 +1.0 +2.0 +1.0 +1.0 +1.0 +1.0    : +1 ---> -1 \n",
      "\t+1.0 +1.0 +2.0 +1.0 +2.0 +1.0 +2.0 +1.0 +1.0    : +1 ---> +1 \n",
      "\t+5.0 +1.0 +1.0 +1.0 +2.0 +1.0 +1.0 +1.0 +1.0    : +1 ---> +1 \n",
      "\t+1.0 +1.0 +1.0 +1.0 +2.0 +1.0 +1.0 +1.0 +1.0    : +1 ---> +1 \n",
      "\t+2.0 +1.0 +1.0 +1.0 +2.0 +1.0 +1.0 +1.0 +1.0    : +1 ---> +1 \n",
      "\t+10.0 +10.0 +10.0 +10.0 +5.0 +10.0 +10.0 +10.0 +7.0    : -1 ---> -1 \n",
      "\t+5.0 +10.0 +10.0 +10.0 +4.0 +10.0 +5.0 +6.0 +3.0    : -1 ---> -1 \n",
      "\t+5.0 +1.0 +1.0 +1.0 +2.0 +1.0 +3.0 +2.0 +1.0    : +1 ---> +1 \n",
      "\t+1.0 +1.0 +1.0 +1.0 +2.0 +1.0 +1.0 +1.0 +1.0    : +1 ---> +1 \n",
      "\t+1.0 +1.0 +1.0 +1.0 +2.0 +1.0 +1.0 +1.0 +1.0    : +1 ---> +1 \n",
      "\t+1.0 +1.0 +1.0 +1.0 +2.0 +1.0 +1.0 +1.0 +1.0    : +1 ---> +1 \n",
      "\t+1.0 +1.0 +1.0 +1.0 +2.0 +1.0 +1.0 +1.0 +1.0    : +1 ---> +1 \n",
      "\t+3.0 +1.0 +1.0 +1.0 +2.0 +1.0 +2.0 +3.0 +1.0    : +1 ---> +1 \n",
      "\t+4.0 +1.0 +1.0 +1.0 +2.0 +1.0 +1.0 +1.0 +1.0    : +1 ---> +1 \n",
      "\t+1.0 +1.0 +1.0 +1.0 +2.0 +1.0 +1.0 +1.0 +8.0    : +1 ---> +1 \n",
      "\t+1.0 +1.0 +1.0 +3.0 +2.0 +1.0 +1.0 +1.0 +1.0    : +1 ---> -1 \n",
      "\t+5.0 +10.0 +10.0 +5.0 +4.0 +5.0 +4.0 +4.0 +1.0    : -1 ---> -1 \n",
      "\t+3.0 +1.0 +1.0 +1.0 +2.0 +1.0 +1.0 +1.0 +1.0    : +1 ---> +1 \n",
      "\t+3.0 +1.0 +1.0 +1.0 +2.0 +1.0 +2.0 +1.0 +2.0    : +1 ---> +1 \n",
      "\t+3.0 +1.0 +1.0 +1.0 +3.0 +2.0 +1.0 +1.0 +1.0    : +1 ---> +1 \n",
      "\t+2.0 +1.0 +1.0 +1.0 +2.0 +1.0 +1.0 +1.0 +1.0    : +1 ---> +1 \n",
      "\t+5.0 +10.0 +10.0 +3.0 +7.0 +3.0 +8.0 +10.0 +2.0    : -1 ---> -1 \n",
      "\t+4.0 +8.0 +6.0 +4.0 +3.0 +4.0 +10.0 +6.0 +1.0    : -1 ---> -1 \n",
      "\t+4.0 +8.0 +8.0 +5.0 +4.0 +5.0 +10.0 +4.0 +1.0    : -1 ---> -1 \n",
      "Taux de bonne classification sur le dataset:  0.8108882521489972\n"
     ]
    }
   ],
   "source": [
    "desc_train ,desc_test = split(descs)\n",
    "label_train ,label_test = split(labels) \n",
    "\n",
    "k =  KNN(3, euclidean_distance2, mode, desc_train, label_train)\n",
    "\n",
    "print(\"Classification du dataset avec knn k=3:\")\n",
    "for i in range(desc_test.shape[0]):\n",
    "    print(\"\\t{0:+} {1:+} {2:+} {3:+} {4:+} {5:+} {6:+} {7:+} {8:+}\\\n",
    "    : {9:+} ---> {10:+} \".format(desc_test[i,:][0], desc_test[i,:][1], \\\n",
    "                                                        desc_test[i,:][2], desc_test[i,:][3], \\\n",
    "                                                        desc_test[i,:][4], desc_test[i,:][5], \\\n",
    "                                                        desc_test[i,:][6], desc_test[i,:][7],desc_test[i,:][8], \\\n",
    "                                                        label_test[i], \\\n",
    "                                                        k.predict(desc_test[i,:])\n",
    "                                                        )\n",
    "         )\n",
    "# Affichage du taux de bonne classification \n",
    "print(\"Taux de bonne classification sur le dataset: \", k.accuracy(desc_test,label_test)) \n",
    "\n",
    "classifier_p = ClassifierPerceptron(9,0.2)\n",
    "classifier_p.train(desc_train, label_train)\n",
    "\n",
    "print(\"Classification du dataset avec un perceptron :\")\n",
    "for i in range(desc_test.shape[0]):\n",
    "    print(\"\\t{0:+} {1:+} {2:+} {3:+} {4:+} {5:+} {6:+} {7:+} {8:+}\\\n",
    "    : {9:+} ---> {10:+} \".format(desc_test[i,:][0], desc_test[i,:][1], \\\n",
    "                                                        desc_test[i,:][2], desc_test[i,:][3], \\\n",
    "                                                        desc_test[i,:][4], desc_test[i,:][5], \\\n",
    "                                                        desc_test[i,:][6], desc_test[i,:][7],desc_test[i,:][8], \\\n",
    "                                                        label_test[i], \\\n",
    "                                                        classifier_p.predict(desc_test[i,:])\n",
    "                                                        )\n",
    "         )\n",
    "# Affichage du taux de bonne classification \n",
    "print(\"Taux de bonne classification sur le dataset: \", classifier_p.accuracy(desc_test,label_test)) \n"
   ]
  },
  {
   "cell_type": "code",
   "execution_count": null,
   "metadata": {},
   "outputs": [],
   "source": []
  },
  {
   "cell_type": "code",
   "execution_count": null,
   "metadata": {},
   "outputs": [],
   "source": []
  },
  {
   "cell_type": "code",
   "execution_count": null,
   "metadata": {},
   "outputs": [],
   "source": []
  }
 ],
 "metadata": {
  "kernelspec": {
   "display_name": "Python 3",
   "language": "python",
   "name": "python3"
  },
  "language_info": {
   "codemirror_mode": {
    "name": "ipython",
    "version": 3
   },
   "file_extension": ".py",
   "mimetype": "text/x-python",
   "name": "python",
   "nbconvert_exporter": "python",
   "pygments_lexer": "ipython3",
   "version": "3.8.1"
  }
 },
 "nbformat": 4,
 "nbformat_minor": 1
}
