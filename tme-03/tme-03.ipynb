{
 "cells": [
  {
   "cell_type": "markdown",
   "metadata": {},
   "source": [
    "IA & Data science (LU3IN0226) -- 2019-2020\n",
    "--------\n",
    "*&copy; Equipe pédagogique: Gauvain Bourgne, Vincent Guigue, Marie-Jeanne Lesot, Christophe Marsala, Olivier Schwander.*\n"
   ]
  },
  {
   "cell_type": "markdown",
   "metadata": {},
   "source": [
    "# TD-TME03: Programmation du kernel perceptron\n",
    "\n",
    "Le but de ce TP est de terminer l'extension de l'algorithme du perceptron de la version de perceptron à noyau, de créer une librairie pour les classifieurs et de réaliser des expérimentations des algorithmes implémentés depuis le début sur données réelles."
   ]
  },
  {
   "cell_type": "markdown",
   "metadata": {},
   "source": [
    "<font size=\"+1\" color=\"RED\">**[Q]**</font> **Indiquer dans la boîte ci-dessous vos noms et prénoms :**"
   ]
  },
  {
   "cell_type": "markdown",
   "metadata": {},
   "source": [
    "*Double-cliquer ici et insérer les noms et prénoms de votre binôme*"
   ]
  },
  {
   "cell_type": "markdown",
   "metadata": {},
   "source": [
    "<font color=\"RED\" size=\"+1\">**[Q]**</font> **Renommer ce fichier ipython**\n",
    "\n",
    "Tout en haut de cette page, cliquer sur <tt>tme-03</tt> et rajouter à la suite de <tt>tme-03</tt> les noms des membres du binômes séparés par un tiret."
   ]
  },
  {
   "cell_type": "markdown",
   "metadata": {},
   "source": [
    "<font color=\"RED\" size=\"+1\">IMPORTANT: soumission de votre fichier final</font>\n",
    "\n",
    "**Nom à donner au fichier à poster** : *tme-03-Nom1_Nom2.ipynb* \n",
    "- *Nom1* et *Nom2* : noms des membres du binôme\n",
    "- ne pas compresser ou faire une archive: il faut rendre le fichier ipython tel quel, éventuellement, si vous avez d'autres fichiers vous les rendez séparément.\n",
    "\n",
    "**Echancier pour la soumission de votre compte-rendu:**\n",
    "- le compte-rendu est à remettre sur la page Moodle selon les directives données en séances.\n"
   ]
  },
  {
   "cell_type": "markdown",
   "metadata": {},
   "source": [
    "## Création d'une librairie\n",
    "\n",
    "Afin de pouvoir réutiliser les classes et fonctions écrites précédemment dans les séances de TDTME, vous allez construire une librairie avec vos fonctions.\n",
    "\n",
    "<font color=\"RED\">Important:</font> dans un premier temps, vous devez écrire les classes et fonctions demandées dans le notebook de la séance de TDTME en cours. La séance suivante, vous rajouterez les classes et fonctions écrites et testées dans vos fichiers de la librairie IADS pour pouvoir réutiliser vos classifieurs par la suite.\n",
    "\n",
    "Récupérer et désarchiver l'archive iads.tgz de telle sorte que le répertoire `iads` soit un répertoire frère du répertoire `tme03`.\n",
    "\n",
    "Ainsi, vous devrez avoir l'arborescence suivante dans votre répertoire $HOME:\n",
    "\n",
    "    - LU3IN026/\n",
    "        - tme-01/\n",
    "            - tme-01.ipynb\n",
    "        - tme-02/\n",
    "            - tme-02.ipynb\n",
    "        - tme-03/\n",
    "            - tme-03.ipynb\n",
    "        - iads/\n",
    "            - Classifiers.py\n",
    "            - utils.py\n",
    "            - __init__.py\n",
    "          \n",
    "\n",
    "**Important** :\n",
    "- ce fichier tme-03.ipynb doit toujours rester dans le répertorie tme-03/\n",
    "- pour ouvrir les fichiers py qui se trouvent dans le répertoire iads/ il est nécessaire d'utiliser un éditeur de texte comme emacs, gedit, idle,...\n",
    "\n",
    "\n",
    "<font color=\"RED\" size=\"+1\">[Q]</font> **Ouvrir et compléter les fichiers Classifiers.py et utils.py**\n",
    "\n",
    "Pour compléter ces fichiers, reprendre le code écrit dans le TDTME précédent pour compléter toute les parties indiquées <tt>#TODO</tt>.\n",
    "- dans `utils.py`, il faut compléter la fonction `createGaussianDataset`\n",
    "- dans `Classifiers.py`, il faut compléter le code des classifiers"
   ]
  },
  {
   "cell_type": "code",
   "execution_count": 155,
   "metadata": {},
   "outputs": [
    {
     "data": {
      "text/plain": [
       "<module 'iads.Classifiers' from '../iads/Classifiers.py'>"
      ]
     },
     "execution_count": 155,
     "metadata": {},
     "output_type": "execute_result"
    }
   ],
   "source": [
    "import numpy as np\n",
    "import pandas as pd\n",
    "import matplotlib.pyplot as plt\n",
    "%matplotlib inline  \n",
    "\n",
    "# La ligne suivante permet de préciser le chemin d'accès à la librairie iads\n",
    "import sys\n",
    "sys.path.append('../')   # iads doit être dans le répertoire frère du répertoire courant !\n",
    "\n",
    "# Importation de la librairie iads\n",
    "import iads as iads\n",
    "\n",
    "# importation de Classifiers\n",
    "from iads import Classifiers as cl\n",
    "\n",
    "# importation de utils\n",
    "from iads import utils as ut\n",
    "import importlib\n",
    "importlib.reload(ut)\n",
    "importlib.reload(cl)"
   ]
  },
  {
   "cell_type": "code",
   "execution_count": 131,
   "metadata": {},
   "outputs": [
    {
     "name": "stdout",
     "output_type": "stream",
     "text": [
      "Help on module iads.utils in iads:\n",
      "\n",
      "NAME\n",
      "    iads.utils\n",
      "\n",
      "DESCRIPTION\n",
      "    Package: iads\n",
      "    Fichier: utils.py\n",
      "    Année: semestre 2 - 2019-2020, Sorbonne Université\n",
      "\n",
      "FUNCTIONS\n",
      "    create_XOR(nb_points, var)\n",
      "        # ------------------------\n",
      "    \n",
      "    genere_dataset_gaussian(positive_center, positive_sigma, negative_center, negative_sigma, nb_points)\n",
      "    \n",
      "    genere_dataset_uniform(p, n, borneInf=-1, borneSup=1)\n",
      "        # ------------------------\n",
      "    \n",
      "    plot2DSet(desc, labels)\n",
      "        ndarray * ndarray -> affichage\n",
      "    \n",
      "    plot_frontiere(desc_set, label_set, classifier, step=30)\n",
      "        desc_set * label_set * Classifier * int -> NoneType\n",
      "        Remarque: le 4e argument est optionnel et donne la \"résolution\" du tracé\n",
      "        affiche la frontière de décision associée au classifieur\n",
      "\n",
      "FILE\n",
      "    /Users/HOCINE/Desktop/DataScience/iads/utils.py\n",
      "\n",
      "\n"
     ]
    }
   ],
   "source": [
    "# La commande suivante permet d'obtenir des infos sur une librairie chargée :\n",
    "help(ut)"
   ]
  },
  {
   "cell_type": "code",
   "execution_count": 132,
   "metadata": {},
   "outputs": [
    {
     "name": "stdout",
     "output_type": "stream",
     "text": [
      "Help on module iads.Classifiers in iads:\n",
      "\n",
      "NAME\n",
      "    iads.Classifiers\n",
      "\n",
      "DESCRIPTION\n",
      "    Package: iads\n",
      "    Fichier: Classifiers.py\n",
      "    Année: semestre 2 - 2019-2020, Sorbonne Université\n",
      "\n",
      "CLASSES\n",
      "    builtins.object\n",
      "        Classifier\n",
      "            ClassifierLineaireRandom\n",
      "            ClassifierPerceptron\n",
      "        KNN\n",
      "    \n",
      "    class Classifier(builtins.object)\n",
      "     |  Classifier(input_dimension)\n",
      "     |  \n",
      "     |  Classe pour représenter un classifieur\n",
      "     |  Attention: cette classe est une classe abstraite, elle ne peut pas être\n",
      "     |  instanciée.\n",
      "     |  \n",
      "     |  Methods defined here:\n",
      "     |  \n",
      "     |  __init__(self, input_dimension)\n",
      "     |      Constructeur de Classifier\n",
      "     |      Argument:\n",
      "     |          - intput_dimension (int) : dimension de la description des exemples\n",
      "     |      Hypothèse : input_dimension > 0\n",
      "     |  \n",
      "     |  accuracy(self, desc_set, label_set)\n",
      "     |      Permet de calculer la qualité du système sur un dataset donné\n",
      "     |      desc_set: ndarray avec des descriptions\n",
      "     |      label_set: ndarray avec les labels correspondants\n",
      "     |      Hypothèse: desc_set et label_set ont le même nombre de lignes\n",
      "     |  \n",
      "     |  predict(self, x)\n",
      "     |      rend la prediction sur x (soit -1 ou soit +1)\n",
      "     |      x: une description\n",
      "     |  \n",
      "     |  score(self, x)\n",
      "     |      rend le score de prédiction sur x (valeur réelle)\n",
      "     |      x: une description\n",
      "     |  \n",
      "     |  train(self, desc_set, label_set)\n",
      "     |      Permet d'entrainer le modele sur l'ensemble donné\n",
      "     |      desc_set: ndarray avec des descriptions\n",
      "     |      label_set: ndarray avec les labels correspondants\n",
      "     |      Hypothèse: desc_set et label_set ont le même nombre de lignes\n",
      "     |  \n",
      "     |  ----------------------------------------------------------------------\n",
      "     |  Data descriptors defined here:\n",
      "     |  \n",
      "     |  __dict__\n",
      "     |      dictionary for instance variables (if defined)\n",
      "     |  \n",
      "     |  __weakref__\n",
      "     |      list of weak references to the object (if defined)\n",
      "    \n",
      "    class ClassifierLineaireRandom(Classifier)\n",
      "     |  ClassifierLineaireRandom(input_dimension)\n",
      "     |  \n",
      "     |  Classe pour représenter un classifieur linéaire aléatoire\n",
      "     |  Cette classe hérite de la classe Classifier\n",
      "     |  \n",
      "     |  Method resolution order:\n",
      "     |      ClassifierLineaireRandom\n",
      "     |      Classifier\n",
      "     |      builtins.object\n",
      "     |  \n",
      "     |  Methods defined here:\n",
      "     |  \n",
      "     |  __init__(self, input_dimension)\n",
      "     |      Constructeur de Classifier\n",
      "     |      Argument:\n",
      "     |          - intput_dimension (int) : dimension de la description des exemples\n",
      "     |      Hypothèse : input_dimension > 0\n",
      "     |  \n",
      "     |  predict(self, x)\n",
      "     |      rend la prediction sur x (soit -1 ou soit +1)\n",
      "     |      x: une description\n",
      "     |  \n",
      "     |  score(self, x)\n",
      "     |      rend le score de prédiction sur x (valeur réelle)\n",
      "     |      x: une description\n",
      "     |  \n",
      "     |  train(self, desc_set, label_set)\n",
      "     |      Permet d'entrainer le modele sur l'ensemble donné\n",
      "     |      desc_set: ndarray avec des descriptions\n",
      "     |      label_set: ndarray avec les labels correspondants\n",
      "     |      Hypothèse: desc_set et label_set ont le même nombre de lignes\n",
      "     |  \n",
      "     |  ----------------------------------------------------------------------\n",
      "     |  Methods inherited from Classifier:\n",
      "     |  \n",
      "     |  accuracy(self, desc_set, label_set)\n",
      "     |      Permet de calculer la qualité du système sur un dataset donné\n",
      "     |      desc_set: ndarray avec des descriptions\n",
      "     |      label_set: ndarray avec les labels correspondants\n",
      "     |      Hypothèse: desc_set et label_set ont le même nombre de lignes\n",
      "     |  \n",
      "     |  ----------------------------------------------------------------------\n",
      "     |  Data descriptors inherited from Classifier:\n",
      "     |  \n",
      "     |  __dict__\n",
      "     |      dictionary for instance variables (if defined)\n",
      "     |  \n",
      "     |  __weakref__\n",
      "     |      list of weak references to the object (if defined)\n",
      "    \n",
      "    class ClassifierPerceptron(Classifier)\n",
      "     |  ClassifierPerceptron(input_dimension, learning_rate)\n",
      "     |  \n",
      "     |  Perceptron de Rosenblatt\n",
      "     |  \n",
      "     |  Method resolution order:\n",
      "     |      ClassifierPerceptron\n",
      "     |      Classifier\n",
      "     |      builtins.object\n",
      "     |  \n",
      "     |  Methods defined here:\n",
      "     |  \n",
      "     |  __init__(self, input_dimension, learning_rate)\n",
      "     |      Constructeur de Classifier\n",
      "     |      Argument:\n",
      "     |          - intput_dimension (int) : dimension de la description des exemples\n",
      "     |          - learning_rate :\n",
      "     |      Hypothèse : input_dimension > 0\n",
      "     |  \n",
      "     |  predict(self, x)\n",
      "     |      rend la prediction sur x (soit -1 ou soit +1)\n",
      "     |      x: une description\n",
      "     |  \n",
      "     |  score(self, x)\n",
      "     |      rend le score de prédiction sur x (valeur réelle)\n",
      "     |      x: une description\n",
      "     |  \n",
      "     |  train(self, desc_set, label_set)\n",
      "     |      Permet d'entrainer le modele sur l'ensemble donné\n",
      "     |      desc_set: ndarray avec des descriptions\n",
      "     |      label_set: ndarray avec les labels correspondants\n",
      "     |      Hypothèse: desc_set et label_set ont le même nombre de lignes\n",
      "     |  \n",
      "     |  ----------------------------------------------------------------------\n",
      "     |  Methods inherited from Classifier:\n",
      "     |  \n",
      "     |  accuracy(self, desc_set, label_set)\n",
      "     |      Permet de calculer la qualité du système sur un dataset donné\n",
      "     |      desc_set: ndarray avec des descriptions\n",
      "     |      label_set: ndarray avec les labels correspondants\n",
      "     |      Hypothèse: desc_set et label_set ont le même nombre de lignes\n",
      "     |  \n",
      "     |  ----------------------------------------------------------------------\n",
      "     |  Data descriptors inherited from Classifier:\n",
      "     |  \n",
      "     |  __dict__\n",
      "     |      dictionary for instance variables (if defined)\n",
      "     |  \n",
      "     |  __weakref__\n",
      "     |      list of weak references to the object (if defined)\n",
      "    \n",
      "    class KNN(builtins.object)\n",
      "     |  KNN(k, distance_fn, choice_fn, data_desc, data_label)\n",
      "     |  \n",
      "     |  # ---------------------------\n",
      "     |  \n",
      "     |  Methods defined here:\n",
      "     |  \n",
      "     |  __init__(self, k, distance_fn, choice_fn, data_desc, data_label)\n",
      "     |      Initialize self.  See help(type(self)) for accurate signature.\n",
      "     |  \n",
      "     |  accuracy(self, desc_set, label_set)\n",
      "     |      Permet de calculer la qualité du système sur un dataset donné\n",
      "     |      desc_set: ndarray avec des descriptions\n",
      "     |      label_set: ndarray avec les labels correspondants\n",
      "     |      Hypothèse: desc_set et label_set ont le même nombre de lignes\n",
      "     |  \n",
      "     |  predict(self, x)\n",
      "     |  \n",
      "     |  ----------------------------------------------------------------------\n",
      "     |  Data descriptors defined here:\n",
      "     |  \n",
      "     |  __dict__\n",
      "     |      dictionary for instance variables (if defined)\n",
      "     |  \n",
      "     |  __weakref__\n",
      "     |      list of weak references to the object (if defined)\n",
      "\n",
      "FUNCTIONS\n",
      "    euclidean_distance(point1, point2)\n",
      "    \n",
      "    euclidean_distance2(a, b)\n",
      "    \n",
      "    mean(labels)\n",
      "    \n",
      "    mode(labels)\n",
      "\n",
      "FILE\n",
      "    /Users/HOCINE/Desktop/DataScience/iads/Classifiers.py\n",
      "\n",
      "\n"
     ]
    }
   ],
   "source": [
    "help(cl)"
   ]
  },
  {
   "cell_type": "markdown",
   "metadata": {},
   "source": [
    "Pour utiliser les fonctions ou classes définies dans des librairies, il suffit de préfixer le nom de la fonction/classe par le nom d'importation de la librairie.\n",
    "\n",
    "Par exemple, pour utiliser les fonctions de `utils.py` il faut rajouter `ut.` devant le nom des fonctions:"
   ]
  },
  {
   "cell_type": "code",
   "execution_count": 133,
   "metadata": {},
   "outputs": [
    {
     "name": "stdout",
     "output_type": "stream",
     "text": [
      "Taille du dataset généré : (20, 2) exemples\n",
      "[ 1  1  1  1  1  1  1  1  1  1 -1 -1 -1 -1 -1 -1 -1 -1 -1 -1]\n"
     ]
    },
    {
     "data": {
      "image/png": "[encoded data removed]",
      "text/plain": [
       "<Figure size 432x288 with 1 Axes>"
      ]
     },
     "metadata": {
      "needs_background": "light"
     },
     "output_type": "display_data"
    }
   ],
   "source": [
    "\n",
    "# Exemple d'utilisation:\n",
    "\n",
    "data_desc, data_label = ut.genere_dataset_gaussian(np.array([1,1]),np.array([[1,0],[0,1]]),np.array([-1,-1]),np.array([[1,0],[0,1]]),10)\n",
    "\n",
    "print(\"Taille du dataset généré :\", np.shape(data_desc), \"exemples\")\n",
    "print(data_label)\n",
    "\n",
    "# Affichage :\n",
    "ut.plot2DSet(data_desc,data_label)\n"
   ]
  },
  {
   "cell_type": "markdown",
   "metadata": {},
   "source": [
    "<font color=\"RED\" size=\"+1\">[Q]</font> Reprendre le code du TME 2 sur l'apprentissage d'un perceptron sur les données XOR et adaptez-les pour pouvoir utiliser les fonctions de `utils.py` et les classes de `Classifiers.py`.\n"
   ]
  },
  {
   "cell_type": "code",
   "execution_count": 134,
   "metadata": {},
   "outputs": [
    {
     "data": {
      "image/png": "[encoded data removed]",
      "text/plain": [
       "<Figure size 432x288 with 1 Axes>"
      ]
     },
     "metadata": {
      "needs_background": "light"
     },
     "output_type": "display_data"
    }
   ],
   "source": [
    "data_xor = ut.create_XOR(50,0.1)\n",
    "ut.plot2DSet(data_xor[0], data_xor[1])"
   ]
  },
  {
   "cell_type": "code",
   "execution_count": 135,
   "metadata": {},
   "outputs": [
    {
     "name": "stdout",
     "output_type": "stream",
     "text": [
      "hello\n",
      "Classification du dataset:\n",
      "\t-0.066 +0.010 : +1 ---> -1 [-0.00871]\n",
      "\t-0.097 +0.094 : +1 ---> -1 [-0.01320]\n",
      "\t+0.108 +0.088 : +1 ---> +1 [+0.01359]\n",
      "\t+0.073 -0.117 : +1 ---> +1 [+0.01020]\n",
      "\t-0.083 -0.136 : +1 ---> -1 [-0.01000]\n",
      "\t+0.058 +0.081 : +1 ---> +1 [+0.00713]\n",
      "\t+0.116 -0.176 : +1 ---> +1 [+0.01620]\n",
      "\t-0.026 +0.217 : +1 ---> -1 [-0.00470]\n",
      "\t+0.137 -0.058 : +1 ---> +1 [+0.01821]\n",
      "\t+0.051 +0.024 : +1 ---> +1 [+0.00656]\n",
      "\t-0.083 -0.124 : +1 ---> -1 [-0.01008]\n",
      "\t+0.038 +0.151 : +1 ---> +1 [+0.00414]\n",
      "\t-0.270 +0.055 : +1 ---> -1 [-0.03559]\n",
      "\t-0.054 -0.054 : +1 ---> -1 [-0.00677]\n",
      "\t-0.115 -0.086 : +1 ---> -1 [-0.01456]\n",
      "\t-0.022 -0.052 : +1 ---> -1 [-0.00254]\n",
      "\t-0.064 +0.001 : +1 ---> -1 [-0.00834]\n",
      "\t+0.043 +0.036 : +1 ---> +1 [+0.00537]\n",
      "\t-0.021 -0.097 : +1 ---> -1 [-0.00220]\n",
      "\t-0.013 +0.180 : +1 ---> -1 [-0.00274]\n",
      "\t+0.017 -0.158 : +1 ---> +1 [+0.00317]\n",
      "\t-0.152 -0.172 : +1 ---> -1 [-0.01881]\n",
      "\t-0.223 +0.086 : +1 ---> -1 [-0.02956]\n",
      "\t+0.022 -0.032 : +1 ---> +1 [+0.00307]\n",
      "\t-0.075 -0.045 : +1 ---> -1 [-0.00947]\n",
      "\t+0.891 +0.967 : +1 ---> +1 [+0.11077]\n",
      "\t+0.975 +1.027 : +1 ---> +1 [+0.12138]\n",
      "\t+1.001 +1.062 : +1 ---> +1 [+0.12454]\n",
      "\t+1.067 +0.871 : +1 ---> +1 [+0.13425]\n",
      "\t+0.925 +1.011 : +1 ---> +1 [+0.11495]\n",
      "\t+1.033 +0.866 : +1 ---> +1 [+0.12980]\n",
      "\t+0.922 +0.900 : +1 ---> +1 [+0.11522]\n",
      "\t+0.874 +1.100 : +1 ---> +1 [+0.10778]\n",
      "\t+0.971 +1.009 : +1 ---> +1 [+0.12095]\n",
      "\t+1.113 +0.910 : +1 ---> +1 [+0.14001]\n",
      "\t+0.990 +0.878 : +1 ---> +1 [+0.12422]\n",
      "\t+0.997 +1.001 : +1 ---> +1 [+0.12435]\n",
      "\t+1.075 +1.004 : +1 ---> +1 [+0.13459]\n",
      "\t+0.938 +0.955 : +1 ---> +1 [+0.11689]\n",
      "\t+0.947 +0.948 : +1 ---> +1 [+0.11819]\n",
      "\t+1.153 +0.983 : +1 ---> +1 [+0.14481]\n",
      "\t+1.102 +1.030 : +1 ---> +1 [+0.13794]\n",
      "\t+1.103 +1.091 : +1 ---> +1 [+0.13775]\n",
      "\t+0.832 +0.991 : +1 ---> +1 [+0.10283]\n",
      "\t+1.002 +1.039 : +1 ---> +1 [+0.12476]\n",
      "\t+0.916 +1.138 : +1 ---> +1 [+0.11295]\n",
      "\t+1.061 +0.843 : +1 ---> +1 [+0.13360]\n",
      "\t+1.067 +0.932 : +1 ---> +1 [+0.13395]\n",
      "\t+1.098 +0.956 : +1 ---> +1 [+0.13779]\n",
      "\t+1.121 +0.952 : +1 ---> +1 [+0.14082]\n",
      "\t+0.943 +0.028 : -1 ---> +1 [+0.12294]\n",
      "\t+0.999 -0.157 : -1 ---> +1 [+0.13137]\n",
      "\t+1.134 -0.060 : -1 ---> +1 [+0.14841]\n",
      "\t+1.011 +0.106 : -1 ---> +1 [+0.13140]\n",
      "\t+0.912 +0.071 : -1 ---> +1 [+0.11869]\n",
      "\t+1.138 +0.090 : -1 ---> +1 [+0.14814]\n",
      "\t+1.193 -0.080 : -1 ---> +1 [+0.15629]\n",
      "\t+0.923 -0.077 : -1 ---> +1 [+0.12102]\n",
      "\t+0.892 -0.145 : -1 ---> +1 [+0.11727]\n",
      "\t+1.105 +0.080 : -1 ---> +1 [+0.14386]\n",
      "\t+0.983 +0.063 : -1 ---> +1 [+0.12804]\n",
      "\t+1.012 -0.007 : -1 ---> +1 [+0.13223]\n",
      "\t+1.034 -0.139 : -1 ---> +1 [+0.13578]\n",
      "\t+0.826 -0.074 : -1 ---> +1 [+0.10825]\n",
      "\t+0.974 -0.009 : -1 ---> +1 [+0.12727]\n",
      "\t+1.213 +0.105 : -1 ---> +1 [+0.15783]\n",
      "\t+0.879 -0.080 : -1 ---> +1 [+0.11521]\n",
      "\t+0.896 -0.017 : -1 ---> +1 [+0.11709]\n",
      "\t+1.172 -0.173 : -1 ---> +1 [+0.15411]\n",
      "\t+1.071 +0.050 : -1 ---> +1 [+0.13956]\n",
      "\t+1.040 -0.032 : -1 ---> +1 [+0.13601]\n",
      "\t+0.966 +0.033 : -1 ---> +1 [+0.12598]\n",
      "\t+0.941 +0.116 : -1 ---> +1 [+0.12227]\n",
      "\t+0.773 -0.196 : -1 ---> +1 [+0.10212]\n",
      "\t+0.837 -0.078 : -1 ---> +1 [+0.10974]\n",
      "\t-0.083 +1.113 : -1 ---> -1 [-0.01731]\n",
      "\t-0.031 +0.840 : -1 ---> -1 [-0.00896]\n",
      "\t+0.033 +1.147 : -1 ---> -1 [-0.00238]\n",
      "\t+0.164 +0.944 : -1 ---> +1 [+0.01592]\n",
      "\t+0.017 +0.887 : -1 ---> -1 [-0.00291]\n",
      "\t+0.210 +1.218 : -1 ---> +1 [+0.02030]\n",
      "\t-0.010 +0.994 : -1 ---> -1 [-0.00702]\n",
      "\t-0.213 +1.165 : -1 ---> -1 [-0.03453]\n",
      "\t+0.061 +0.987 : -1 ---> +1 [+0.00220]\n",
      "\t+0.074 +1.059 : -1 ---> +1 [+0.00355]\n",
      "\t+0.069 +1.100 : -1 ---> +1 [+0.00256]\n",
      "\t+0.067 +0.928 : -1 ---> +1 [+0.00335]\n",
      "\t+0.168 +1.168 : -1 ---> +1 [+0.01512]\n",
      "\t-0.112 +0.870 : -1 ---> -1 [-0.01966]\n",
      "\t-0.048 +1.040 : -1 ---> -1 [-0.01236]\n",
      "\t-0.045 +1.089 : -1 ---> -1 [-0.01221]\n",
      "\t+0.111 +0.941 : -1 ---> +1 [+0.00904]\n",
      "\t+0.140 +0.852 : -1 ---> +1 [+0.01330]\n",
      "\t+0.204 +1.064 : -1 ---> +1 [+0.02047]\n",
      "\t+0.122 +0.970 : -1 ---> +1 [+0.01036]\n",
      "\t-0.047 +1.103 : -1 ---> -1 [-0.01251]\n",
      "\t-0.157 +0.893 : -1 ---> -1 [-0.02570]\n",
      "\t-0.120 +0.985 : -1 ---> -1 [-0.02137]\n",
      "\t-0.027 +1.075 : -1 ---> -1 [-0.00979]\n",
      "\t-0.196 +0.906 : -1 ---> -1 [-0.03085]\n",
      "Taux de bonne classification sur le dataset:  0.49\n"
     ]
    },
    {
     "data": {
      "image/png": "[encoded data removed]",
      "text/plain": [
       "<Figure size 432x288 with 1 Axes>"
      ]
     },
     "metadata": {
      "needs_background": "light"
     },
     "output_type": "display_data"
    }
   ],
   "source": [
    "# Pour avoir les mêmes valeurs aléatoires :\n",
    "# supprimer cette ligne une fois la mise au point terminée\n",
    "\n",
    "# ------------------------ A COMPLETER :\n",
    "cl2 = cl.ClassifierPerceptron(2,0.15)\n",
    "cl2.train(data_xor[0],data_xor[1])\n",
    "\n",
    "np.random.seed(56)\n",
    "print(\"Classification du dataset:\")\n",
    "for i in range(data_xor[0].shape[0]):\n",
    "    print(\"\\t{0:+.3f} {1:+.3f} : {2:+} ---> {3:+} [{4:+.5f}]\".format(data_xor[0][i,:][0], data_xor[0][i,:][1], \\\n",
    "                                                                  data_xor[1][i], \\\n",
    "                                                                  cl2.predict(data_xor[0][i,:]), \\\n",
    "                                                                  cl2.score(data_xor[0][i,:])) )\n",
    "\n",
    "# Affichage du taux de bonne classification   \n",
    "ut.plot_frontiere(data_xor[0],data_xor[1],cl2)\n",
    "ut.plot2DSet(data_xor[0],data_xor[1])\n",
    "print(\"Taux de bonne classification sur le dataset: \", cl2.accuracy(data_xor[0],data_xor[1])) "
   ]
  },
  {
   "cell_type": "markdown",
   "metadata": {},
   "source": [
    "Kernel Trick\n",
    "--------------"
   ]
  },
  {
   "cell_type": "markdown",
   "metadata": {},
   "source": [
    "Un \"kernel\" est une \"fonction noyau\" (ou simplement \"noyau\") qui permet de représenter des données d'un espace donné dans un autre espace, souvent de dimension plus grande.\n",
    "\n",
    "Dans notre implémentation, pour pouvoir utiliser différents types de fonction noyau, nous définissons une classe abstraite :"
   ]
  },
  {
   "cell_type": "code",
   "execution_count": 136,
   "metadata": {},
   "outputs": [],
   "source": [
    "class Kernel():\n",
    "    \"\"\" Classe pour représenter des fonctions noyau\n",
    "    \"\"\"\n",
    "    def __init__(self, dim_in, dim_out):\n",
    "        \"\"\" Constructeur de Kernel\n",
    "            Argument:\n",
    "                - dim_in : dimension de l'espace de départ (entrée du noyau)\n",
    "                - dim_out: dimension de l'espace de d'arrivée (sortie du noyau)\n",
    "        \"\"\"\n",
    "        self.input_dim = dim_in\n",
    "        self.output_dim = dim_out\n",
    "        \n",
    "    def get_input_dim(self):\n",
    "        \"\"\" rend la dimension de l'espace de départ\n",
    "        \"\"\"\n",
    "        return self.input_dim\n",
    "\n",
    "    def get_output_dim(self):\n",
    "        \"\"\" rend la dimension de l'espace d'arrivée\n",
    "        \"\"\"\n",
    "        return self.output_dim\n",
    "    \n",
    "    def transform(self, V):\n",
    "        \"\"\" ndarray -> ndarray\n",
    "            fonction pour transformer V dans le nouvel espace de représentation\n",
    "        \"\"\"        \n",
    "        raise NotImplementedError(\"Please Implement this method\")\n"
   ]
  },
  {
   "cell_type": "markdown",
   "metadata": {},
   "source": [
    "L'intérêt de définir une classe mère `Kernel` qui servira à définir des noyaux et que l'on pourra maintenant définir des algorithmes génériques qui pourront prendre des noyaux quelconques en argument."
   ]
  },
  {
   "cell_type": "markdown",
   "metadata": {},
   "source": [
    "### Un premier noyau\n",
    "\n",
    "Le premier noyau, très simple, que l'on définit permet de projeter (manuellement) des données 2D dans un espace de plus grande dimension. \n",
    "\n",
    "Voici un exemple de projection qui transforme le vecteur $(x_1,x_2)$ en vecteur $(x_1,x_2,1)$"
   ]
  },
  {
   "cell_type": "code",
   "execution_count": 137,
   "metadata": {},
   "outputs": [],
   "source": [
    "class KernelBias(Kernel):\n",
    "    \"\"\" Classe pour un noyau simple 2D -> 3D\n",
    "    \"\"\"\n",
    "    def transform(self, V):\n",
    "        \"\"\" ndarray de dim 2 -> ndarray de dim 3            \n",
    "            rajoute une 3e dimension au vecteur donné\n",
    "        \"\"\"\n",
    "        V_proj = np.asarray([V[0],V[1],1])\n",
    "        return V_proj"
   ]
  },
  {
   "cell_type": "code",
   "execution_count": 138,
   "metadata": {},
   "outputs": [
    {
     "data": {
      "text/plain": [
       "array([ 1.846718  , -0.03887846,  1.        ])"
      ]
     },
     "execution_count": 138,
     "metadata": {},
     "output_type": "execute_result"
    }
   ],
   "source": [
    "# Exemple d'utilisation : \n",
    "kb = KernelBias(2,3)\n",
    "kb.transform(data_desc[0])"
   ]
  },
  {
   "cell_type": "markdown",
   "metadata": {},
   "source": [
    "### Un noyau un peu plus compliqué"
   ]
  },
  {
   "cell_type": "markdown",
   "metadata": {},
   "source": [
    "<font color=\"RED\" size=\"+1\">**[Q]**</font> Implémenter le kernel : $(x_1,x_2) \\rightarrow (1,x_1,x_2,x_1*x_1,x_2*x_2,x_1*x_2)$. "
   ]
  },
  {
   "cell_type": "code",
   "execution_count": 139,
   "metadata": {},
   "outputs": [],
   "source": [
    "# ------------------------ A COMPLETER\n",
    "\n",
    "class KernelPoly(Kernel):\n",
    "    def transform(self,V):\n",
    "        V_proj = np.asarray([1,V[0],V[1],V[0]*V[0],V[1]*V[1],V[0]*V[1]])\n",
    "        return V_proj\n"
   ]
  },
  {
   "cell_type": "code",
   "execution_count": 140,
   "metadata": {},
   "outputs": [
    {
     "data": {
      "text/plain": [
       "array([ 1.00000000e+00,  1.84671800e+00, -3.88784560e-02,  3.41036737e+00,\n",
       "        1.51153434e-03, -7.17975446e-02])"
      ]
     },
     "execution_count": 140,
     "metadata": {},
     "output_type": "execute_result"
    }
   ],
   "source": [
    "# Exemple d'utilisation : \n",
    "kp = KernelPoly(2,6)\n",
    "kp.transform(data_desc[0])"
   ]
  },
  {
   "cell_type": "markdown",
   "metadata": {},
   "source": [
    "<font color=\"RED\" size=\"+1\">**[Q]**</font> Implémenter la classe `ClassifierPerceptronKernel` qui prend un kernel en paramètre, et calcule le perceptron sur la version \"kernélisée\" des données. Tester ce perceptron sur le dataset 1 (2 gaussiennes) et le dataset XOR."
   ]
  },
  {
   "cell_type": "markdown",
   "metadata": {},
   "source": [
    "**Attention** : à partir de maintenant, si vous souhaitez utiliser les classes définies dans votre fichier `Classifiers.py` il est nécessaire de préfixer leur nom par `cl.`\n",
    "\n",
    "Par exemple :\n",
    "\n",
    "            class ClassifierPerceptronKernel(cl.Classifier):\n",
    "                ...\n",
    "                ...\n"
   ]
  },
  {
   "cell_type": "code",
   "execution_count": 141,
   "metadata": {},
   "outputs": [],
   "source": [
    "# ------------------------ A COMPLETER :\n",
    "class ClassifierPerceptronKernel(cl.Classifier):\n",
    "    def __init__(self, input_dimension, learning_rate, noyau):\n",
    "        \"\"\" Constructeur de Classifier\n",
    "            Argument:\n",
    "                - input_dimension (int) : dimension de la description des exemples (espace originel)\n",
    "                - learning_rate : \n",
    "                - noyau : Kernel à utiliser\n",
    "            Hypothèse : input_dimension > 0\n",
    "        \"\"\"\n",
    "        self.learning_rate = learning_rate\n",
    "        self.w = np.random.uniform(low = 1,high =10 ,size = noyau.get_output_dim() )     \n",
    "        self.noyau = noyau\n",
    "        \n",
    "    def score(self,x):\n",
    "        \"\"\" rend le score de prédiction sur x (valeur réelle)\n",
    "            x: une description\n",
    "        \"\"\"\n",
    "        x2 = self.noyau.transform(x)\n",
    "        s = np.vdot(self.w , x2)\n",
    "        return s\n",
    "    \n",
    "    def predict(self, x):\n",
    "        \"\"\" rend la prediction sur x (soit -1 ou soit +1)\n",
    "            x: une description\n",
    "        \"\"\"\n",
    "        if(self.score(x)<0):\n",
    "            return -1\n",
    "        return 1\n",
    "\n",
    "    def train(self, desc_set, label_set):\n",
    "        \"\"\" Permet d'entrainer le modele sur l'ensemble donné\n",
    "            desc_set: ndarray avec des descriptions\n",
    "            label_set: ndarray avec les labels correspondants\n",
    "            Hypothèse: desc_set et label_set ont le même nombre de lignes\n",
    "        \"\"\"        \n",
    "        iter=10000\n",
    "        for i in range(iter):\n",
    "            j=np.random.randint(desc_set.shape[0]-1)\n",
    "            x=desc_set[j,:]\n",
    "            x2=self.noyau.transform(x)\n",
    "            y=label_set[j]\n",
    "            if(np.vdot(self.w,x2)*y < 0):\n",
    "                self.w = self.w + self.learning_rate*x2*y\n",
    "        "
   ]
  },
  {
   "cell_type": "markdown",
   "metadata": {},
   "source": [
    "<font color=\"RED\" size=\"+1\">**[Q]**</font> Entraîner un perceptron kernelisé utilisant un `KernelPoly` sur un dataset correspondant au XOR (cf. sujet du TME 2). Que constatez-vous ? Proposez une explication."
   ]
  },
  {
   "cell_type": "code",
   "execution_count": 142,
   "metadata": {},
   "outputs": [
    {
     "name": "stdout",
     "output_type": "stream",
     "text": [
      "Classification du dataset:\n",
      "\t-0.066 +0.010 : +1 ---> +1 [+0.43304]\n",
      "\t-0.097 +0.094 : +1 ---> +1 [+0.39419]\n",
      "\t+0.108 +0.088 : +1 ---> +1 [+0.43760]\n",
      "\t+0.073 -0.117 : +1 ---> +1 [+0.20288]\n",
      "\t-0.083 -0.136 : +1 ---> +1 [+0.41617]\n",
      "\t+0.058 +0.081 : +1 ---> +1 [+0.43693]\n",
      "\t+0.116 -0.176 : +1 ---> +1 [+0.00054]\n",
      "\t-0.026 +0.217 : +1 ---> +1 [+0.37308]\n",
      "\t+0.137 -0.058 : +1 ---> +1 [+0.20789]\n",
      "\t+0.051 +0.024 : +1 ---> +1 [+0.39821]\n",
      "\t-0.083 -0.124 : +1 ---> +1 [+0.42164]\n",
      "\t+0.038 +0.151 : +1 ---> +1 [+0.45585]\n",
      "\t-0.270 +0.055 : +1 ---> +1 [+0.32314]\n",
      "\t-0.054 -0.054 : +1 ---> +1 [+0.41929]\n",
      "\t-0.115 -0.086 : +1 ---> +1 [+0.46243]\n",
      "\t-0.022 -0.052 : +1 ---> +1 [+0.39433]\n",
      "\t-0.064 +0.001 : +1 ---> +1 [+0.43285]\n",
      "\t+0.043 +0.036 : +1 ---> +1 [+0.41086]\n",
      "\t-0.021 -0.097 : +1 ---> +1 [+0.36265]\n",
      "\t-0.013 +0.180 : +1 ---> +1 [+0.41056]\n",
      "\t+0.017 -0.158 : +1 ---> +1 [+0.23875]\n",
      "\t-0.152 -0.172 : +1 ---> +1 [+0.49935]\n",
      "\t-0.223 +0.086 : +1 ---> +1 [+0.30895]\n",
      "\t+0.022 -0.032 : +1 ---> +1 [+0.37197]\n",
      "\t-0.075 -0.045 : +1 ---> +1 [+0.43526]\n",
      "\t+0.891 +0.967 : +1 ---> +1 [+3.89310]\n",
      "\t+0.975 +1.027 : +1 ---> +1 [+4.46725]\n",
      "\t+1.001 +1.062 : +1 ---> +1 [+4.71196]\n",
      "\t+1.067 +0.871 : +1 ---> +1 [+4.14374]\n",
      "\t+0.925 +1.011 : +1 ---> +1 [+4.18549]\n",
      "\t+1.033 +0.866 : +1 ---> +1 [+4.01513]\n",
      "\t+0.922 +0.900 : +1 ---> +1 [+3.78775]\n",
      "\t+0.874 +1.100 : +1 ---> +1 [+4.17882]\n",
      "\t+0.971 +1.009 : +1 ---> +1 [+4.38430]\n",
      "\t+1.113 +0.910 : +1 ---> +1 [+4.48479]\n",
      "\t+0.990 +0.878 : +1 ---> +1 [+3.93601]\n",
      "\t+0.997 +1.001 : +1 ---> +1 [+4.46741]\n",
      "\t+1.075 +1.004 : +1 ---> +1 [+4.80446]\n",
      "\t+0.938 +0.955 : +1 ---> +1 [+4.04952]\n",
      "\t+0.947 +0.948 : +1 ---> +1 [+4.06242]\n",
      "\t+1.153 +0.983 : +1 ---> +1 [+4.99911]\n",
      "\t+1.102 +1.030 : +1 ---> +1 [+5.03224]\n",
      "\t+1.103 +1.091 : +1 ---> +1 [+5.30883]\n",
      "\t+0.832 +0.991 : +1 ---> +1 [+3.69197]\n",
      "\t+1.002 +1.039 : +1 ---> +1 [+4.63326]\n",
      "\t+0.916 +1.138 : +1 ---> +1 [+4.50334]\n",
      "\t+1.061 +0.843 : +1 ---> +1 [+3.98653]\n",
      "\t+1.067 +0.932 : +1 ---> +1 [+4.44326]\n",
      "\t+1.098 +0.956 : +1 ---> +1 [+4.66908]\n",
      "\t+1.121 +0.952 : +1 ---> +1 [+4.72898]\n",
      "\t+0.943 +0.028 : -1 ---> -1 [-1.30104]\n",
      "\t+0.999 -0.157 : -1 ---> -1 [-3.14006]\n",
      "\t+1.134 -0.060 : -1 ---> -1 [-2.86233]\n",
      "\t+1.011 +0.106 : -1 ---> -1 [-0.89338]\n",
      "\t+0.912 +0.071 : -1 ---> -1 [-0.87351]\n",
      "\t+1.138 +0.090 : -1 ---> -1 [-1.45126]\n",
      "\t+1.193 -0.080 : -1 ---> -1 [-3.36504]\n",
      "\t+0.923 -0.077 : -1 ---> -1 [-2.08558]\n",
      "\t+0.892 -0.145 : -1 ---> -1 [-2.50879]\n",
      "\t+1.105 +0.080 : -1 ---> -1 [-1.42077]\n",
      "\t+0.983 +0.063 : -1 ---> -1 [-1.15740]\n",
      "\t+1.012 -0.007 : -1 ---> -1 [-1.84860]\n",
      "\t+1.034 -0.139 : -1 ---> -1 [-3.14634]\n",
      "\t+0.826 -0.074 : -1 ---> -1 [-1.67016]\n",
      "\t+0.974 -0.009 : -1 ---> -1 [-1.72228]\n",
      "\t+1.213 +0.105 : -1 ---> -1 [-1.56884]\n",
      "\t+0.879 -0.080 : -1 ---> -1 [-1.92842]\n",
      "\t+0.896 -0.017 : -1 ---> -1 [-1.49235]\n",
      "\t+1.172 -0.173 : -1 ---> -1 [-4.23123]\n",
      "\t+1.071 +0.050 : -1 ---> -1 [-1.56641]\n",
      "\t+1.040 -0.032 : -1 ---> -1 [-2.18536]\n",
      "\t+0.966 +0.033 : -1 ---> -1 [-1.34519]\n",
      "\t+0.941 +0.116 : -1 ---> -1 [-0.62078]\n",
      "\t+0.773 -0.196 : -1 ---> -1 [-2.37469]\n",
      "\t+0.837 -0.078 : -1 ---> -1 [-1.74716]\n",
      "\t-0.083 +1.113 : -1 ---> -1 [-2.64057]\n",
      "\t-0.031 +0.840 : -1 ---> -1 [-1.01365]\n",
      "\t+0.033 +1.147 : -1 ---> -1 [-1.80440]\n",
      "\t+0.164 +0.944 : -1 ---> -1 [-0.08037]\n",
      "\t+0.017 +0.887 : -1 ---> -1 [-0.87062]\n",
      "\t+0.210 +1.218 : -1 ---> -1 [-0.56806]\n",
      "\t-0.010 +0.994 : -1 ---> -1 [-1.47414]\n",
      "\t-0.213 +1.165 : -1 ---> -1 [-4.13943]\n",
      "\t+0.061 +0.987 : -1 ---> -1 [-0.92368]\n",
      "\t+0.074 +1.059 : -1 ---> -1 [-1.09114]\n",
      "\t+0.069 +1.100 : -1 ---> -1 [-1.30199]\n",
      "\t+0.067 +0.928 : -1 ---> -1 [-0.67671]\n",
      "\t+0.168 +1.168 : -1 ---> -1 [-0.74500]\n",
      "\t-0.112 +0.870 : -1 ---> -1 [-1.66926]\n",
      "\t-0.048 +1.040 : -1 ---> -1 [-1.98256]\n",
      "\t-0.045 +1.089 : -1 ---> -1 [-2.19223]\n",
      "\t+0.111 +0.941 : -1 ---> -1 [-0.42101]\n",
      "\t+0.140 +0.852 : -1 ---> -1 [-0.00266]\n",
      "\t+0.204 +1.064 : -1 ---> -1 [-0.12327]\n",
      "\t+0.122 +0.970 : -1 ---> -1 [-0.43099]\n",
      "\t-0.047 +1.103 : -1 ---> -1 [-2.27321]\n",
      "\t-0.157 +0.893 : -1 ---> -1 [-2.09831]\n",
      "\t-0.120 +0.985 : -1 ---> -1 [-2.27929]\n",
      "\t-0.027 +1.075 : -1 ---> -1 [-1.97290]\n",
      "\t-0.196 +0.906 : -1 ---> -1 [-2.45075]\n",
      "Taux de bonne classification sur le dataset:  1.0\n"
     ]
    },
    {
     "data": {
      "image/png": "[encoded data removed]",
      "text/plain": [
       "<Figure size 432x288 with 1 Axes>"
      ]
     },
     "metadata": {
      "needs_background": "light"
     },
     "output_type": "display_data"
    }
   ],
   "source": [
    "# Pour avoir les mêmes valeurs aléatoires :   # supprimer cette ligne une fois la mise au point terminée\n",
    "\n",
    "##TESTER SUR XOR ET DESSINER LA FRONTIèRE DE DECISION\n",
    "\n",
    "# ------------------------ A COMPLETER :\n",
    "\n",
    "k = KernelPoly(2,6)\n",
    "perceptron_k=ClassifierPerceptronKernel(6, 0.01, k)\n",
    "\n",
    "perceptron_k.train(data_xor[0],data_xor[1])\n",
    "\n",
    "\n",
    "\n",
    "np.random.seed(56)\n",
    "print(\"Classification du dataset:\")\n",
    "for i in range(data_xor[0].shape[0]):\n",
    "    print(\"\\t{0:+.3f} {1:+.3f} : {2:+} ---> {3:+} [{4:+.5f}]\".format(data_xor[0][i,:][0], data_xor[0][i,:][1], \\\n",
    "                                                                  data_xor[1][i], \\\n",
    "                                                                  perceptron_k.predict(data_xor[0][i,:]), \\\n",
    "                                                                  perceptron_k.score(data_xor[0][i,:])) )\n",
    "\n",
    "# Affichage du taux de bonne classification   \n",
    "ut.plot_frontiere(data_xor[0],data_xor[1],perceptron_k)\n",
    "ut.plot2DSet(data_xor[0],data_xor[1])\n",
    "print(\"Taux de bonne classification sur le dataset: \", perceptron_k.accuracy(data_xor[0],data_xor[1])) "
   ]
  },
  {
   "cell_type": "code",
   "execution_count": null,
   "metadata": {},
   "outputs": [],
   "source": []
  },
  {
   "cell_type": "markdown",
   "metadata": {},
   "source": [
    "## Mise en oeuvre sur des données réelles \n",
    "-------\n",
    "A partir de datasets trouvés sur le web, réaliser un ensemble d'expérimentations permettant de comparer les 3 classifiers (knn, perceptron de Rosenblatt et version kernélisée) que vous avez implémentés.\n",
    "\n",
    "Par exemple, vous pouvez utiliser les datasets suivants:\n",
    "- https://archive.ics.uci.edu/ml/datasets/Breast+Cancer+Coimbra\n",
    "- https://www.kaggle.com/uciml/indian-liver-patient-records\n",
    "- voir sur les données ouvertes de Paris : https://opendata.paris.fr/explore/?sort=modified\n",
    "\n",
    "Afin d'utiliser de tels jeux de données, il sera certainement nécessaire que vous réalisiez un prétraitement afin de pouvoir utiliser vos implémentations."
   ]
  },
  {
   "cell_type": "markdown",
   "metadata": {},
   "source": [
    "### Chargement du fichier \"base_2D.csv\""
   ]
  },
  {
   "cell_type": "markdown",
   "metadata": {},
   "source": [
    "Les datasets classiques qui sont disponibles sur le web sont généralement fournis au format CSV (*Comma Separated Values*) présenté dans le cours 2: chaque exemple est donné sur une ligne, et sur cette ligne les valeurs de description sont séparées par une virgule. Le plus souvent, le label de l'exemple est aussi donné sur cette ligne, tout à la fin.\n",
    "\n",
    "Pour lire un fichier CSV et pouvoir travailler dessus, nous utilisons la commande <code>pd.read_csv()</code> de la librairie `pandas`. Cette fonction prend en argument une chaîne de caractères qui don<code>DataFrame</code>ne le nom du fichier à ouvrir (avec le chemin d'accès s'il n'est pas dans le répertoire courant) et elle rend un <code>DataFrame</code>.\n",
    "\n",
    "Pour tester, utiliser le fichier `base-2D.csv` qui se trouve dans le répertoire `data`.\n",
    "On peut noter que la première du fichier contient le nom des colonnes qui seront données au dataframe créé.\n",
    "Si ces noms sont absent (fichier `csv` brut), consulter l'aide sur cette fonction pour voir comment l'utiliser."
   ]
  },
  {
   "cell_type": "code",
   "execution_count": 158,
   "metadata": {},
   "outputs": [
    {
     "name": "stdout",
     "output_type": "stream",
     "text": [
      "Il y a 116 exemples dans la base.\n"
     ]
    }
   ],
   "source": [
    "# Par exemple:\n",
    "data = pd.read_csv(\"data/dataR2.csv\")\n",
    "print(\"Il y a\", len(data), \"exemples dans la base.\")"
   ]
  },
  {
   "cell_type": "code",
   "execution_count": 159,
   "metadata": {},
   "outputs": [
    {
     "data": {
      "text/html": [
       "<div>\n",
       "<style scoped>\n",
       "    .dataframe tbody tr th:only-of-type {\n",
       "        vertical-align: middle;\n",
       "    }\n",
       "\n",
       "    .dataframe tbody tr th {\n",
       "        vertical-align: top;\n",
       "    }\n",
       "\n",
       "    .dataframe thead th {\n",
       "        text-align: right;\n",
       "    }\n",
       "</style>\n",
       "<table border=\"1\" class=\"dataframe\">\n",
       "  <thead>\n",
       "    <tr style=\"text-align: right;\">\n",
       "      <th></th>\n",
       "      <th>Age</th>\n",
       "      <th>BMI</th>\n",
       "      <th>Glucose</th>\n",
       "      <th>Insulin</th>\n",
       "      <th>HOMA</th>\n",
       "      <th>Leptin</th>\n",
       "      <th>Adiponectin</th>\n",
       "      <th>Resistin</th>\n",
       "      <th>MCP.1</th>\n",
       "      <th>Classification</th>\n",
       "    </tr>\n",
       "  </thead>\n",
       "  <tbody>\n",
       "    <tr>\n",
       "      <th>0</th>\n",
       "      <td>48</td>\n",
       "      <td>23.500000</td>\n",
       "      <td>70</td>\n",
       "      <td>2.707</td>\n",
       "      <td>0.467409</td>\n",
       "      <td>8.8071</td>\n",
       "      <td>9.702400</td>\n",
       "      <td>7.99585</td>\n",
       "      <td>417.114</td>\n",
       "      <td>1</td>\n",
       "    </tr>\n",
       "    <tr>\n",
       "      <th>1</th>\n",
       "      <td>83</td>\n",
       "      <td>20.690495</td>\n",
       "      <td>92</td>\n",
       "      <td>3.115</td>\n",
       "      <td>0.706897</td>\n",
       "      <td>8.8438</td>\n",
       "      <td>5.429285</td>\n",
       "      <td>4.06405</td>\n",
       "      <td>468.786</td>\n",
       "      <td>1</td>\n",
       "    </tr>\n",
       "    <tr>\n",
       "      <th>2</th>\n",
       "      <td>82</td>\n",
       "      <td>23.124670</td>\n",
       "      <td>91</td>\n",
       "      <td>4.498</td>\n",
       "      <td>1.009651</td>\n",
       "      <td>17.9393</td>\n",
       "      <td>22.432040</td>\n",
       "      <td>9.27715</td>\n",
       "      <td>554.697</td>\n",
       "      <td>1</td>\n",
       "    </tr>\n",
       "    <tr>\n",
       "      <th>3</th>\n",
       "      <td>68</td>\n",
       "      <td>21.367521</td>\n",
       "      <td>77</td>\n",
       "      <td>3.226</td>\n",
       "      <td>0.612725</td>\n",
       "      <td>9.8827</td>\n",
       "      <td>7.169560</td>\n",
       "      <td>12.76600</td>\n",
       "      <td>928.220</td>\n",
       "      <td>1</td>\n",
       "    </tr>\n",
       "    <tr>\n",
       "      <th>4</th>\n",
       "      <td>86</td>\n",
       "      <td>21.111111</td>\n",
       "      <td>92</td>\n",
       "      <td>3.549</td>\n",
       "      <td>0.805386</td>\n",
       "      <td>6.6994</td>\n",
       "      <td>4.819240</td>\n",
       "      <td>10.57635</td>\n",
       "      <td>773.920</td>\n",
       "      <td>1</td>\n",
       "    </tr>\n",
       "    <tr>\n",
       "      <th>...</th>\n",
       "      <td>...</td>\n",
       "      <td>...</td>\n",
       "      <td>...</td>\n",
       "      <td>...</td>\n",
       "      <td>...</td>\n",
       "      <td>...</td>\n",
       "      <td>...</td>\n",
       "      <td>...</td>\n",
       "      <td>...</td>\n",
       "      <td>...</td>\n",
       "    </tr>\n",
       "    <tr>\n",
       "      <th>111</th>\n",
       "      <td>45</td>\n",
       "      <td>26.850000</td>\n",
       "      <td>92</td>\n",
       "      <td>3.330</td>\n",
       "      <td>0.755688</td>\n",
       "      <td>54.6800</td>\n",
       "      <td>12.100000</td>\n",
       "      <td>10.96000</td>\n",
       "      <td>268.230</td>\n",
       "      <td>2</td>\n",
       "    </tr>\n",
       "    <tr>\n",
       "      <th>112</th>\n",
       "      <td>62</td>\n",
       "      <td>26.840000</td>\n",
       "      <td>100</td>\n",
       "      <td>4.530</td>\n",
       "      <td>1.117400</td>\n",
       "      <td>12.4500</td>\n",
       "      <td>21.420000</td>\n",
       "      <td>7.32000</td>\n",
       "      <td>330.160</td>\n",
       "      <td>2</td>\n",
       "    </tr>\n",
       "    <tr>\n",
       "      <th>113</th>\n",
       "      <td>65</td>\n",
       "      <td>32.050000</td>\n",
       "      <td>97</td>\n",
       "      <td>5.730</td>\n",
       "      <td>1.370998</td>\n",
       "      <td>61.4800</td>\n",
       "      <td>22.540000</td>\n",
       "      <td>10.33000</td>\n",
       "      <td>314.050</td>\n",
       "      <td>2</td>\n",
       "    </tr>\n",
       "    <tr>\n",
       "      <th>114</th>\n",
       "      <td>72</td>\n",
       "      <td>25.590000</td>\n",
       "      <td>82</td>\n",
       "      <td>2.820</td>\n",
       "      <td>0.570392</td>\n",
       "      <td>24.9600</td>\n",
       "      <td>33.750000</td>\n",
       "      <td>3.27000</td>\n",
       "      <td>392.460</td>\n",
       "      <td>2</td>\n",
       "    </tr>\n",
       "    <tr>\n",
       "      <th>115</th>\n",
       "      <td>86</td>\n",
       "      <td>27.180000</td>\n",
       "      <td>138</td>\n",
       "      <td>19.910</td>\n",
       "      <td>6.777364</td>\n",
       "      <td>90.2800</td>\n",
       "      <td>14.110000</td>\n",
       "      <td>4.35000</td>\n",
       "      <td>90.090</td>\n",
       "      <td>2</td>\n",
       "    </tr>\n",
       "  </tbody>\n",
       "</table>\n",
       "<p>116 rows × 10 columns</p>\n",
       "</div>"
      ],
      "text/plain": [
       "     Age        BMI  Glucose  Insulin      HOMA   Leptin  Adiponectin  \\\n",
       "0     48  23.500000       70    2.707  0.467409   8.8071     9.702400   \n",
       "1     83  20.690495       92    3.115  0.706897   8.8438     5.429285   \n",
       "2     82  23.124670       91    4.498  1.009651  17.9393    22.432040   \n",
       "3     68  21.367521       77    3.226  0.612725   9.8827     7.169560   \n",
       "4     86  21.111111       92    3.549  0.805386   6.6994     4.819240   \n",
       "..   ...        ...      ...      ...       ...      ...          ...   \n",
       "111   45  26.850000       92    3.330  0.755688  54.6800    12.100000   \n",
       "112   62  26.840000      100    4.530  1.117400  12.4500    21.420000   \n",
       "113   65  32.050000       97    5.730  1.370998  61.4800    22.540000   \n",
       "114   72  25.590000       82    2.820  0.570392  24.9600    33.750000   \n",
       "115   86  27.180000      138   19.910  6.777364  90.2800    14.110000   \n",
       "\n",
       "     Resistin    MCP.1  Classification  \n",
       "0     7.99585  417.114               1  \n",
       "1     4.06405  468.786               1  \n",
       "2     9.27715  554.697               1  \n",
       "3    12.76600  928.220               1  \n",
       "4    10.57635  773.920               1  \n",
       "..        ...      ...             ...  \n",
       "111  10.96000  268.230               2  \n",
       "112   7.32000  330.160               2  \n",
       "113  10.33000  314.050               2  \n",
       "114   3.27000  392.460               2  \n",
       "115   4.35000   90.090               2  \n",
       "\n",
       "[116 rows x 10 columns]"
      ]
     },
     "execution_count": 159,
     "metadata": {},
     "output_type": "execute_result"
    }
   ],
   "source": [
    "data"
   ]
  },
  {
   "cell_type": "code",
   "execution_count": 160,
   "metadata": {},
   "outputs": [
    {
     "data": {
      "text/plain": [
       "pandas.core.frame.DataFrame"
      ]
     },
     "execution_count": 160,
     "metadata": {},
     "output_type": "execute_result"
    }
   ],
   "source": [
    "type(data)"
   ]
  },
  {
   "cell_type": "markdown",
   "metadata": {},
   "source": [
    "Le problème pour nous c'est qu'un tel dataframe contient à la fois les données et les labels, il faut donc les séparer en 2 `ndarray`."
   ]
  },
  {
   "cell_type": "code",
   "execution_count": 161,
   "metadata": {},
   "outputs": [
    {
     "data": {
      "text/plain": [
       "array([[ 48.        ,  23.5       ,  70.        , ...,   7.99585   ,\n",
       "        417.114     ,   1.        ],\n",
       "       [ 83.        ,  20.69049454,  92.        , ...,   4.06405   ,\n",
       "        468.786     ,   1.        ],\n",
       "       [ 82.        ,  23.12467037,  91.        , ...,   9.27715   ,\n",
       "        554.697     ,   1.        ],\n",
       "       ...,\n",
       "       [ 65.        ,  32.05      ,  97.        , ...,  10.33      ,\n",
       "        314.05      ,   2.        ],\n",
       "       [ 72.        ,  25.59      ,  82.        , ...,   3.27      ,\n",
       "        392.46      ,   2.        ],\n",
       "       [ 86.        ,  27.18      , 138.        , ...,   4.35      ,\n",
       "         90.09      ,   2.        ]])"
      ]
     },
     "execution_count": 161,
     "metadata": {},
     "output_type": "execute_result"
    }
   ],
   "source": [
    "# On commence par construire un ndarray avec les valeurs du dataframe\n",
    "data.values"
   ]
  },
  {
   "cell_type": "code",
   "execution_count": 147,
   "metadata": {},
   "outputs": [],
   "source": [
    "# On découpe ensuite pour séparer les descriptions des labels\n",
    "data_desc = data.values[:,0:9]\n",
    "data_labels = data.values[:,9]"
   ]
  },
  {
   "cell_type": "code",
   "execution_count": 148,
   "metadata": {},
   "outputs": [
    {
     "data": {
      "text/plain": [
       "array([[ 48.        ,  23.5       ,  70.        , ...,   9.7024    ,\n",
       "          7.99585   , 417.114     ],\n",
       "       [ 83.        ,  20.69049454,  92.        , ...,   5.429285  ,\n",
       "          4.06405   , 468.786     ],\n",
       "       [ 82.        ,  23.12467037,  91.        , ...,  22.43204   ,\n",
       "          9.27715   , 554.697     ],\n",
       "       ...,\n",
       "       [ 65.        ,  32.05      ,  97.        , ...,  22.54      ,\n",
       "         10.33      , 314.05      ],\n",
       "       [ 72.        ,  25.59      ,  82.        , ...,  33.75      ,\n",
       "          3.27      , 392.46      ],\n",
       "       [ 86.        ,  27.18      , 138.        , ...,  14.11      ,\n",
       "          4.35      ,  90.09      ]])"
      ]
     },
     "execution_count": 148,
     "metadata": {},
     "output_type": "execute_result"
    }
   ],
   "source": [
    "data_desc"
   ]
  },
  {
   "cell_type": "code",
   "execution_count": 149,
   "metadata": {},
   "outputs": [
    {
     "data": {
      "text/plain": [
       "array([-1., -1., -1., -1., -1., -1., -1., -1., -1., -1., -1., -1., -1.,\n",
       "       -1., -1., -1., -1., -1., -1., -1., -1., -1., -1., -1., -1., -1.,\n",
       "       -1., -1., -1., -1., -1., -1., -1., -1., -1., -1., -1., -1., -1.,\n",
       "       -1., -1., -1., -1., -1., -1., -1., -1., -1., -1., -1., -1., -1.,\n",
       "        1.,  1.,  1.,  1.,  1.,  1.,  1.,  1.,  1.,  1.,  1.,  1.,  1.,\n",
       "        1.,  1.,  1.,  1.,  1.,  1.,  1.,  1.,  1.,  1.,  1.,  1.,  1.,\n",
       "        1.,  1.,  1.,  1.,  1.,  1.,  1.,  1.,  1.,  1.,  1.,  1.,  1.,\n",
       "        1.,  1.,  1.,  1.,  1.,  1.,  1.,  1.,  1.,  1.,  1.,  1.,  1.,\n",
       "        1.,  1.,  1.,  1.,  1.,  1.,  1.,  1.,  1.,  1.,  1.,  1.])"
      ]
     },
     "execution_count": 149,
     "metadata": {},
     "output_type": "execute_result"
    }
   ],
   "source": [
    "data_labels\n",
    "data_labels[data_labels==1] = -1\n",
    "data_labels[data_labels==2] = 1\n",
    "data_labels"
   ]
  },
  {
   "cell_type": "code",
   "execution_count": 150,
   "metadata": {},
   "outputs": [],
   "source": [
    "#ut.plot2DSet(data_desc,data_labels)\n",
    "def normalise(X):\n",
    "    mean = np.mean(X, axis = 0)\n",
    "    std = np.std(X, axis =0)\n",
    "    return (X - mean) / std"
   ]
  },
  {
   "cell_type": "markdown",
   "metadata": {},
   "source": [
    "<font color=\"RED\" size=\"+1\">**[Q]**</font> Réaliser des expérimentations avec des datasets réels.\n",
    "\n",
    "Charger les données, afficher des informations statistiques sur les données, commencer à réfléchir comment appliquer les classifieurs que vous avez implémentés sur ces données..."
   ]
  },
  {
   "cell_type": "code",
   "execution_count": 157,
   "metadata": {},
   "outputs": [
    {
     "name": "stdout",
     "output_type": "stream",
     "text": [
      "[[-0.57979363 -0.81667527 -1.23922225 ... -0.07022151 -0.54551749\n",
      "  -0.34125061]\n",
      " [ 1.60182096 -1.37875056 -0.25829943 ... -0.69734988 -0.86421418\n",
      "  -0.1912238 ]\n",
      " [ 1.53948912 -0.89176446 -0.30288683 ...  1.79799836 -0.4416602\n",
      "   0.05821407]\n",
      " ...\n",
      " [ 0.47984774  0.89385486 -0.03536242 ...  1.81384272 -0.3563202\n",
      "  -0.64049127]\n",
      " [ 0.91617066 -0.39854568 -0.70417344 ...  3.45903808 -0.92857684\n",
      "  -0.41283214]\n",
      " [ 1.7888165  -0.0804471   1.79272102 ...  0.57664406 -0.84103616\n",
      "  -1.29074683]]\n",
      "Classification du dataset:\n",
      "ligne\t0  : -1.0 ---> +1 [+0.00543]\n",
      "ligne\t1  : -1.0 ---> +1 [+0.01738]\n",
      "ligne\t2  : -1.0 ---> +1 [+0.03186]\n",
      "ligne\t3  : -1.0 ---> +1 [+0.02227]\n",
      "ligne\t4  : -1.0 ---> +1 [+0.02298]\n",
      "ligne\t5  : -1.0 ---> +1 [+0.06374]\n",
      "ligne\t6  : -1.0 ---> +1 [+0.00351]\n",
      "ligne\t7  : -1.0 ---> +1 [+0.06612]\n",
      "ligne\t8  : -1.0 ---> +1 [+0.03139]\n",
      "ligne\t9  : -1.0 ---> -1 [-0.00657]\n",
      "ligne\t10  : -1.0 ---> +1 [+0.04874]\n",
      "ligne\t11  : -1.0 ---> +1 [+0.05261]\n",
      "ligne\t12  : -1.0 ---> +1 [+0.07357]\n",
      "ligne\t13  : -1.0 ---> +1 [+0.16991]\n",
      "ligne\t14  : -1.0 ---> +1 [+0.02998]\n",
      "ligne\t15  : -1.0 ---> +1 [+0.06397]\n",
      "ligne\t16  : -1.0 ---> +1 [+0.07894]\n",
      "ligne\t17  : -1.0 ---> -1 [-0.06311]\n",
      "ligne\t18  : -1.0 ---> -1 [-0.07326]\n",
      "ligne\t19  : -1.0 ---> -1 [-0.08315]\n",
      "ligne\t20  : -1.0 ---> +1 [+0.00838]\n",
      "ligne\t21  : -1.0 ---> -1 [-0.02640]\n",
      "ligne\t22  : -1.0 ---> -1 [-0.04267]\n",
      "ligne\t23  : -1.0 ---> -1 [-0.02710]\n",
      "ligne\t24  : -1.0 ---> +1 [+0.01655]\n",
      "ligne\t25  : -1.0 ---> -1 [-0.09967]\n",
      "ligne\t26  : -1.0 ---> -1 [-0.07284]\n",
      "ligne\t27  : -1.0 ---> -1 [-0.04937]\n",
      "ligne\t28  : -1.0 ---> -1 [-0.07190]\n",
      "ligne\t29  : -1.0 ---> -1 [-0.04117]\n",
      "ligne\t30  : -1.0 ---> -1 [-0.11171]\n",
      "ligne\t31  : -1.0 ---> -1 [-0.01995]\n",
      "ligne\t32  : -1.0 ---> -1 [-0.11110]\n",
      "ligne\t33  : -1.0 ---> -1 [-0.02656]\n",
      "ligne\t34  : -1.0 ---> -1 [-0.04015]\n",
      "ligne\t35  : -1.0 ---> -1 [-0.06463]\n",
      "ligne\t36  : -1.0 ---> -1 [-0.05647]\n",
      "ligne\t37  : -1.0 ---> -1 [-0.16434]\n",
      "ligne\t38  : -1.0 ---> -1 [-0.00919]\n",
      "ligne\t39  : -1.0 ---> -1 [-0.11150]\n",
      "ligne\t40  : -1.0 ---> -1 [-0.05784]\n",
      "ligne\t41  : -1.0 ---> -1 [-0.03889]\n",
      "ligne\t42  : -1.0 ---> -1 [-0.02955]\n",
      "ligne\t43  : -1.0 ---> -1 [-0.04699]\n",
      "ligne\t44  : -1.0 ---> -1 [-0.07638]\n",
      "ligne\t45  : -1.0 ---> -1 [-0.03753]\n",
      "ligne\t46  : -1.0 ---> -1 [-0.08464]\n",
      "ligne\t47  : -1.0 ---> -1 [-0.06071]\n",
      "ligne\t48  : -1.0 ---> -1 [-0.07452]\n",
      "ligne\t49  : -1.0 ---> -1 [-0.02156]\n",
      "ligne\t50  : -1.0 ---> -1 [-0.01843]\n",
      "ligne\t51  : -1.0 ---> -1 [-0.01987]\n",
      "ligne\t52  : +1.0 ---> +1 [+0.11279]\n",
      "ligne\t53  : +1.0 ---> +1 [+0.02604]\n",
      "ligne\t54  : +1.0 ---> +1 [+0.06421]\n",
      "ligne\t55  : +1.0 ---> +1 [+0.08414]\n",
      "ligne\t56  : +1.0 ---> +1 [+0.04614]\n",
      "ligne\t57  : +1.0 ---> +1 [+0.05302]\n",
      "ligne\t58  : +1.0 ---> +1 [+0.04891]\n",
      "ligne\t59  : +1.0 ---> +1 [+0.04808]\n",
      "ligne\t60  : +1.0 ---> +1 [+0.04686]\n",
      "ligne\t61  : +1.0 ---> +1 [+0.03882]\n",
      "ligne\t62  : +1.0 ---> +1 [+0.03100]\n",
      "ligne\t63  : +1.0 ---> +1 [+0.06172]\n",
      "ligne\t64  : +1.0 ---> +1 [+0.02612]\n",
      "ligne\t65  : +1.0 ---> +1 [+0.07467]\n",
      "ligne\t66  : +1.0 ---> +1 [+0.01712]\n",
      "ligne\t67  : +1.0 ---> +1 [+0.02873]\n",
      "ligne\t68  : +1.0 ---> +1 [+0.06780]\n",
      "ligne\t69  : +1.0 ---> +1 [+0.12870]\n",
      "ligne\t70  : +1.0 ---> +1 [+0.07899]\n",
      "ligne\t71  : +1.0 ---> +1 [+0.07397]\n",
      "ligne\t72  : +1.0 ---> +1 [+0.11143]\n",
      "ligne\t73  : +1.0 ---> +1 [+0.03576]\n",
      "ligne\t74  : +1.0 ---> +1 [+0.05826]\n",
      "ligne\t75  : +1.0 ---> +1 [+0.05244]\n",
      "ligne\t76  : +1.0 ---> -1 [-0.04248]\n",
      "ligne\t77  : +1.0 ---> +1 [+0.01036]\n",
      "ligne\t78  : +1.0 ---> +1 [+0.10889]\n",
      "ligne\t79  : +1.0 ---> +1 [+0.02204]\n",
      "ligne\t80  : +1.0 ---> -1 [-0.01007]\n",
      "ligne\t81  : +1.0 ---> -1 [-0.07104]\n",
      "ligne\t82  : +1.0 ---> +1 [+0.00039]\n",
      "ligne\t83  : +1.0 ---> +1 [+0.02469]\n",
      "ligne\t84  : +1.0 ---> +1 [+0.02437]\n",
      "ligne\t85  : +1.0 ---> -1 [-0.00015]\n",
      "ligne\t86  : +1.0 ---> +1 [+0.05273]\n",
      "ligne\t87  : +1.0 ---> +1 [+0.02765]\n",
      "ligne\t88  : +1.0 ---> +1 [+0.18424]\n",
      "ligne\t89  : +1.0 ---> +1 [+0.07699]\n",
      "ligne\t90  : +1.0 ---> +1 [+0.03220]\n",
      "ligne\t91  : +1.0 ---> -1 [-0.03403]\n",
      "ligne\t92  : +1.0 ---> -1 [-0.02696]\n",
      "ligne\t93  : +1.0 ---> +1 [+0.02414]\n",
      "ligne\t94  : +1.0 ---> +1 [+0.00206]\n",
      "ligne\t95  : +1.0 ---> -1 [-0.07799]\n",
      "ligne\t96  : +1.0 ---> +1 [+0.01469]\n",
      "ligne\t97  : +1.0 ---> +1 [+0.02156]\n",
      "ligne\t98  : +1.0 ---> -1 [-0.07706]\n",
      "ligne\t99  : +1.0 ---> -1 [-0.00565]\n",
      "ligne\t100  : +1.0 ---> -1 [-0.05475]\n",
      "ligne\t101  : +1.0 ---> -1 [-0.01828]\n",
      "ligne\t102  : +1.0 ---> -1 [-0.07367]\n",
      "ligne\t103  : +1.0 ---> -1 [-0.07909]\n",
      "ligne\t104  : +1.0 ---> -1 [-0.07031]\n",
      "ligne\t105  : +1.0 ---> -1 [-0.04012]\n",
      "ligne\t106  : +1.0 ---> -1 [-0.01339]\n",
      "ligne\t107  : +1.0 ---> -1 [-0.03913]\n",
      "ligne\t108  : +1.0 ---> -1 [-0.00497]\n",
      "ligne\t109  : +1.0 ---> +1 [+0.00829]\n",
      "ligne\t110  : +1.0 ---> -1 [-0.10632]\n",
      "ligne\t111  : +1.0 ---> -1 [-0.03026]\n",
      "ligne\t112  : +1.0 ---> +1 [+0.04072]\n",
      "ligne\t113  : +1.0 ---> -1 [-0.06008]\n",
      "ligne\t114  : +1.0 ---> +1 [+0.02299]\n",
      "ligne\t115  : +1.0 ---> -1 [-0.04649]\n",
      "Taux de bonne classification sur le dataset:  0.6551724137931034\n"
     ]
    }
   ],
   "source": [
    "for i in range(data_desc.shape[1]):\n",
    "    data_desc[:,i] = normalise(data_desc[:,i])\n",
    "print(data_desc)\n",
    "cl2 = cl.ClassifierPerceptron(data_desc.shape[1],0.01)\n",
    "cl2.train(data_desc,data_labels)\n",
    "\n",
    "print(\"Classification du dataset:\")\n",
    "for i in range(data_desc.shape[0]):\n",
    "    print(\"{0:}\\t{1:}  : {2:+} ---> {3:+} [{4:+.5f}]\".format(\"ligne\" , i, \\\n",
    "                                                                  data_labels[i], \\\n",
    "                                                                  cl2.predict(data_desc[i,:]), \\\n",
    "                                                                  cl2.score(data_desc[i,:])) )\n",
    "\n",
    "# Affichage du taux de bonne classification   \n",
    "print(\"Taux de bonne classification sur le dataset: \", cl2.accuracy(data_desc,data_labels)) "
   ]
  },
  {
   "cell_type": "code",
   "execution_count": null,
   "metadata": {},
   "outputs": [],
   "source": []
  },
  {
   "cell_type": "code",
   "execution_count": null,
   "metadata": {},
   "outputs": [],
   "source": []
  }
 ],
 "metadata": {
  "kernelspec": {
   "display_name": "Python 3",
   "language": "python",
   "name": "python3"
  },
  "language_info": {
   "codemirror_mode": {
    "name": "ipython",
    "version": 3
   },
   "file_extension": ".py",
   "mimetype": "text/x-python",
   "name": "python",
   "nbconvert_exporter": "python",
   "pygments_lexer": "ipython3",
   "version": "3.8.1"
  }
 },
 "nbformat": 4,
 "nbformat_minor": 1
}
